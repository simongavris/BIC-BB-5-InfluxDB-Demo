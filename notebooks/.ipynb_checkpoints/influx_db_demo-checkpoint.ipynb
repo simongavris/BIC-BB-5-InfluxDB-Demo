{
 "cells": [
  {
   "cell_type": "markdown",
   "id": "7f13d364",
   "metadata": {},
   "source": [
    "![alt text](https://upload.wikimedia.org/wikipedia/commons/thumb/c/c6/Influxdb_logo.svg/2560px-Influxdb_logo.svg.png \"Influx\")"
   ]
  },
  {
   "cell_type": "markdown",
   "id": "13ce4f92",
   "metadata": {},
   "source": [
    "***"
   ]
  },
  {
   "cell_type": "markdown",
   "id": "ddc57ad3",
   "metadata": {},
   "source": [
    "**INFLUX DB = Open-Source Datenbank für Zeitreihen**\n",
    "\n",
    "Hilfreiche Ressourcen:\n",
    "\n",
    "[Dokumentation](https://docs.influxdata.com/influxdb/v2.0/)\n",
    "\n",
    "[Python Client Library](https://docs.influxdata.com/influxdb/v2.0/api-guide/client-libraries/python/)\n",
    "\n",
    "**Was ist das Spezielle an der Influx DB?**\n",
    "\n",
    "* Eigene Query Language, ähnlich zu SQL\n",
    "* Speichert die Einträge mit Zeitsstempeln\n",
    "* kann große Mengen an Daten verarbeiten\n",
    "* Besonders geeignet für z.B. Sensordaten\n",
    "* Das User Interface bietet umfangreiche Möglichkeiten zur Visualisierung der Datenreihen\n",
    "\n",
    "**Zu welcher Kategorie gehört die Datenbank?**\n",
    "\n",
    "Zeitreihe\n",
    "\n",
    "Datenpunkte bestehen aus Key-Value Paaren: field und timestamp\n",
    "Datenpunkte können mittels Tags zu einer Serie zusammengefasst werden\n",
    "\n",
    "**Lizenzen**\n",
    "\n",
    "* Open Source Version als Download\n",
    "* Kostenpflichtige Version gehostet auf AWS Cloud\n",
    "* Kostenpflichtige Enterprise Version mit Zusatzleistungen\n",
    "\n",
    "**Technische Eckdaten**\n",
    "\n",
    "* Port 8060 für Client/Server Kommunikation\n",
    "* Port 8088 für RPC Dienst (Datensicherung/Wiederherstellung)\n",
    "* Einsatz eines Zeitdienstes notwendig (z.B. NTP - Network Time Protocol)\n",
    "* Programmiert in Go\n",
    "* Werte: 64-bit Integers, Floats, Strings und Booleans\n"
   ]
  },
  {
   "cell_type": "markdown",
   "id": "81423db6",
   "metadata": {},
   "source": [
    "**INFLUX DB Structure:**"
   ]
  },
  {
   "cell_type": "code",
   "execution_count": 1,
   "id": "0f471380",
   "metadata": {},
   "outputs": [],
   "source": [
    "json_body = [\n",
    "    {\n",
    "        \"measurement\": \"your-measurement\",\n",
    "        \"tags\": {\n",
    "            \"tag1\": \"x\",\n",
    "            \"tag2\": \"y\"\n",
    "        },\n",
    "        \"time\": \"2009-11-10T23:00:00Z\",\n",
    "        \"fields\": {\n",
    "            \"value\": 0.64\n",
    "        }\n",
    "    }\n",
    "]"
   ]
  },
  {
   "cell_type": "markdown",
   "id": "eb986ba3",
   "metadata": {},
   "source": [
    "**INFLUX DB User Interface**"
   ]
  },
  {
   "cell_type": "markdown",
   "id": "6bc9382a",
   "metadata": {},
   "source": [
    "![alt text](https://www.influxdata.com/wp-content/uploads/Pre-canned-dashboards-influxdb.png \"Influx UI\")\n",
    "\n",
    "\n"
   ]
  },
  {
   "cell_type": "markdown",
   "id": "6961dc54",
   "metadata": {},
   "source": [
    "---"
   ]
  },
  {
   "cell_type": "markdown",
   "id": "e96278a6",
   "metadata": {},
   "source": [
    "## Installation"
   ]
  },
  {
   "cell_type": "markdown",
   "id": "d816c5e2",
   "metadata": {},
   "source": [
    "[Hier](https://docs.influxdata.com/influxdb/v2.0/install/) gibt es eine genaue Anleitung für die Datenbankinstallation für verschiedene Umgebungen.\n",
    "\n",
    "[Hier](https://github.com/simongavris/BIC-BB-5-InfluxDB-Demo/tree/master/notebooks) kannst du die InfluxDB unkompliziert über Docker installieren. Du findest hier auch dieses Notebook und eine Anleitung zur Installation mit Docker."
   ]
  },
  {
   "cell_type": "markdown",
   "id": "8cf0bb69",
   "metadata": {},
   "source": [
    "***"
   ]
  },
  {
   "cell_type": "markdown",
   "id": "b90ea227",
   "metadata": {},
   "source": [
    "## Quickstart Guide"
   ]
  },
  {
   "cell_type": "markdown",
   "id": "fef1fdc0",
   "metadata": {},
   "source": [
    "Für die Nutzung der Datenbank benötigen wir:\n",
    "\n",
    "* Token zur Authentifizierung -> [Anleitung zur Tokenerstellung](https://docs.influxdata.com/influxdb/cloud/security/tokens/create-token/)\n",
    "\n",
    "* Bucket als Speicherort unserer Daten -> [Anleitung zur Bucketerstellung](https://docs.influxdata.com/influxdb/cloud/organizations/buckets/create-bucket/) \n",
    "\n",
    "* Die Organisation, der der Bucket zugeordnet wird\n",
    "\n",
    "*Die Erstellung von Buckets, Tokens und mehr kann über das User Interface, die Influx Command Line oder die InfluxDB API gemacht werden. Zum Einstieg empfehlen wir das UI.*"
   ]
  },
  {
   "cell_type": "markdown",
   "id": "4ecc5ffc",
   "metadata": {},
   "source": [
    "***"
   ]
  },
  {
   "cell_type": "markdown",
   "id": "30de3c2a",
   "metadata": {},
   "source": [
    "## Nutzung von Influx DB mit Python"
   ]
  },
  {
   "cell_type": "markdown",
   "id": "0dae377a",
   "metadata": {},
   "source": [
    "#### Dependencies"
   ]
  },
  {
   "cell_type": "code",
   "execution_count": 3,
   "id": "266cebe0",
   "metadata": {},
   "outputs": [
    {
     "name": "stdout",
     "output_type": "stream",
     "text": [
      "Defaulting to user installation because normal site-packages is not writeable\n",
      "Requirement already satisfied: influxdb-client in /home/student/.local/lib/python3.8/site-packages (1.21.0)\n",
      "Requirement already satisfied: urllib3>=1.15.1 in /opt/conda/lib/python3.8/site-packages (from influxdb-client) (1.26.4)\n",
      "Requirement already satisfied: rx>=3.0.1 in /home/student/.local/lib/python3.8/site-packages (from influxdb-client) (3.2.0)\n",
      "Requirement already satisfied: pytz>=2019.1 in /opt/conda/lib/python3.8/site-packages (from influxdb-client) (2021.1)\n",
      "Requirement already satisfied: certifi>=14.05.14 in /opt/conda/lib/python3.8/site-packages (from influxdb-client) (2020.12.5)\n",
      "Requirement already satisfied: python-dateutil>=2.5.3 in /opt/conda/lib/python3.8/site-packages (from influxdb-client) (2.8.1)\n",
      "Requirement already satisfied: setuptools>=21.0.0 in /opt/conda/lib/python3.8/site-packages (from influxdb-client) (52.0.0.post20210125)\n",
      "Requirement already satisfied: six>=1.10 in /opt/conda/lib/python3.8/site-packages (from influxdb-client) (1.15.0)\n"
     ]
    }
   ],
   "source": [
    "# Install a pip package in the current Jupyter kernel\n",
    "import sys\n",
    "!{sys.executable} -m pip install influxdb-client"
   ]
  },
  {
   "cell_type": "markdown",
   "id": "7356a39d",
   "metadata": {},
   "source": [
    "#### Initialize the Influx client"
   ]
  },
  {
   "cell_type": "code",
   "execution_count": 4,
   "id": "5a46fd03",
   "metadata": {},
   "outputs": [],
   "source": [
    "from datetime import datetime\n",
    "from influxdb_client import InfluxDBClient, Point, WritePrecision\n",
    "from influxdb_client.client.write_api import SYNCHRONOUS\n",
    "\n",
    "# Siehe \"Quickstart Guide\"\n",
    "token = \"EKOBZJQJ7m-CTLai4-otjUADp-trYaBgEp5gq62KyHW8LXMSnGKZIVFIxLYG6czs_F2FjIMzdBQjDqHy23I-jQ==\"\n",
    "org = \"FHTW\"\n",
    "bucket = \"Data\"\n",
    "\n",
    "client = InfluxDBClient(url=\"http://influxdb:8086\", token=token)"
   ]
  },
  {
   "cell_type": "markdown",
   "id": "c2dda165",
   "metadata": {},
   "source": [
    "#### Get some data"
   ]
  },
  {
   "cell_type": "markdown",
   "id": "472724ff",
   "metadata": {},
   "source": [
    "As an example, we want to stream some weather data from the API [Openweathermap](https://api.openweathermap.org) into our database, so we make a request to that API to get the current temperature in Vienna."
   ]
  },
  {
   "cell_type": "code",
   "execution_count": 46,
   "id": "baad12b8",
   "metadata": {},
   "outputs": [],
   "source": [
    "import requests, json\n",
    "\n",
    "BASE_URL = \"https://api.openweathermap.org/data/2.5/weather?\"\n",
    "API_KEY = \"366c7011faf41711486e730d3a46e9c7\"\n",
    "\n",
    "def get_temp(city):\n",
    "    \n",
    "    URL = BASE_URL + \"q=\" + city + \"&appid=\" + API_KEY + \"&units=metric\"\n",
    "    # HTTP request\n",
    "    response = requests.get(URL)\n",
    "    # checking the status code of the request\n",
    "    if response.status_code == 200:\n",
    "        # getting data in the json format\n",
    "        data = response.json() \n",
    "        main = data[\"main\"] \n",
    "        # getting temperature\n",
    "        temperature = main['temp']\n",
    "    else:\n",
    "       # showing the error message\n",
    "       print(\"Error in the HTTP request\")\n",
    "    return temperature\n"
   ]
  },
  {
   "cell_type": "markdown",
   "id": "4ee52409",
   "metadata": {},
   "source": [
    "#### Write the data into the DB"
   ]
  },
  {
   "cell_type": "markdown",
   "id": "b8ab9f10",
   "metadata": {},
   "source": [
    "*Now we want to write the current temperature into our Influx database and create a time series to monitor the temperature changes.\n",
    "Here we show you 2 options: manual insert via line protocol and insert via a function*"
   ]
  },
  {
   "cell_type": "markdown",
   "id": "c1a0e39b-b103-417a-a54d-f54e9cdfb624",
   "metadata": {},
   "source": [
    "The **InfluxDB line protocol** is a text-based format for writing points to the database. \n",
    "\n",
    "Points must be in line protocol format for InfluxDB to successfully parse and write points.\n",
    "\n",
    "[Here](https://docs.influxdata.com/influxdb/v1.8/write_protocols/line_protocol_tutorial/) is more information about the line protocol and how to use it"
   ]
  },
  {
   "cell_type": "raw",
   "id": "ca940f14-1015-4798-8a10-149148c65fb3",
   "metadata": {},
   "source": [
    "Line protocol Syntax:\n",
    "\n",
    "weatherdata,location=austria temperature=23 1465839830100400200\n",
    "  |    -------------------- --------------  |\n",
    "  |             |             |             |\n",
    "  |             |             |             |\n",
    "+-----------+--------+-+---------+-+---------+\n",
    "|measurement|,tag_set| |field_set| |timestamp|\n",
    "+-----------+--------+-+---------+-+---------+"
   ]
  },
  {
   "cell_type": "markdown",
   "id": "7fcb4fef",
   "metadata": {},
   "source": [
    "***\n",
    "\n",
    "The InfluxDBClient object has a `write_api` method used for configuration:"
   ]
  },
  {
   "cell_type": "code",
   "execution_count": 6,
   "id": "980a4143",
   "metadata": {},
   "outputs": [],
   "source": [
    "write_api = client.write_api(write_options=SYNCHRONOUS)"
   ]
  },
  {
   "cell_type": "markdown",
   "id": "8d4712cf",
   "metadata": {},
   "source": [
    "***\n",
    "\n",
    "A `point` represents a single data record, similar to a row in a SQL database table. Each point:\n",
    "\n",
    "* has a measurement, a tag set, a field key, a field value, and a timestamp;\n",
    "* is uniquely identified by its series and timestamp.\n",
    "* In a series, each point has a unique timestamp. If you write a point to a series with a timestamp that matches an existing point, the field set becomes a union of the old and new field set, where any ties go to the new field set.\n",
    "\n",
    "***"
   ]
  },
  {
   "cell_type": "code",
   "execution_count": 21,
   "id": "17179a81-122e-47e5-9b8a-87ba2f400068",
   "metadata": {},
   "outputs": [],
   "source": [
    "#line protocol:\n",
    "\n",
    "point = \"weatherdata,country=Austria,city=Vienna temperature=23\"\n",
    "write_api.write(bucket=bucket, org=org, record=point)\n",
    "\n",
    "#todo: show chronograph"
   ]
  },
  {
   "cell_type": "code",
   "execution_count": 47,
   "id": "3a1b5798",
   "metadata": {},
   "outputs": [],
   "source": [
    "#function to stream values into the database using an easier-to-read style\n",
    "\n",
    "import time\n",
    "from random import randrange\n",
    "def stream(interval):\n",
    "    while True:\n",
    "        \n",
    "        #get temperature from the API (here we add some random values for the visualization)\n",
    "        temp_vienna = get_temp('Vienna') + randrange(-3,3)\n",
    "        temp_berlin = get_temp('Berlin') + randrange(-3,3)\n",
    "\n",
    "        \n",
    "        #create new data point\n",
    "        point_vienna = Point(\"weatherdata\").tag('country','Austria').tag(\"city\", \"Vienna\").field(\"temperature\", temp_vienna).time(datetime.utcnow(), WritePrecision.S)\n",
    "        point_berlin = Point(\"weatherdata\").tag('country','Austria').tag(\"city\", \"Vienna\").field(\"temperature\", temp_berlin).time(datetime.utcnow(), WritePrecision.S)\n",
    "\n",
    "        #write datapoint into database\n",
    "        write_api.write(bucket=bucket, org=org, record=[point_vienna, point_berlin])\n",
    "        \n",
    "        #wait\n",
    "        time.sleep(interval)"
   ]
  },
  {
   "cell_type": "code",
   "execution_count": 18,
   "id": "2d28bb16",
   "metadata": {},
   "outputs": [
    {
     "ename": "KeyboardInterrupt",
     "evalue": "",
     "output_type": "error",
     "traceback": [
      "\u001b[0;31m---------------------------------------------------------------------------\u001b[0m",
      "\u001b[0;31mKeyboardInterrupt\u001b[0m                         Traceback (most recent call last)",
      "\u001b[0;32m<ipython-input-18-5db04bd5c764>\u001b[0m in \u001b[0;36m<module>\u001b[0;34m\u001b[0m\n\u001b[1;32m      1\u001b[0m \u001b[0;31m# Let's go! Write the temperature into the database every 3 seconds.\u001b[0m\u001b[0;34m\u001b[0m\u001b[0;34m\u001b[0m\u001b[0;34m\u001b[0m\u001b[0m\n\u001b[0;32m----> 2\u001b[0;31m \u001b[0mstream\u001b[0m\u001b[0;34m(\u001b[0m\u001b[0;36m3\u001b[0m\u001b[0;34m)\u001b[0m\u001b[0;34m\u001b[0m\u001b[0;34m\u001b[0m\u001b[0m\n\u001b[0m",
      "\u001b[0;32m<ipython-input-17-be1553e122aa>\u001b[0m in \u001b[0;36mstream\u001b[0;34m(interval)\u001b[0m\n\u001b[1;32m     14\u001b[0m \u001b[0;34m\u001b[0m\u001b[0m\n\u001b[1;32m     15\u001b[0m         \u001b[0;31m#wait\u001b[0m\u001b[0;34m\u001b[0m\u001b[0;34m\u001b[0m\u001b[0;34m\u001b[0m\u001b[0m\n\u001b[0;32m---> 16\u001b[0;31m         \u001b[0mtime\u001b[0m\u001b[0;34m.\u001b[0m\u001b[0msleep\u001b[0m\u001b[0;34m(\u001b[0m\u001b[0minterval\u001b[0m\u001b[0;34m)\u001b[0m\u001b[0;34m\u001b[0m\u001b[0;34m\u001b[0m\u001b[0m\n\u001b[0m",
      "\u001b[0;31mKeyboardInterrupt\u001b[0m: "
     ]
    }
   ],
   "source": [
    "# Let's go! Write the temperature into the database every 3 seconds.\n",
    "stream(3)"
   ]
  },
  {
   "cell_type": "markdown",
   "id": "6ab23af3",
   "metadata": {},
   "source": [
    "#### Query our data"
   ]
  },
  {
   "cell_type": "code",
   "execution_count": 50,
   "id": "1cb2fd39",
   "metadata": {},
   "outputs": [
    {
     "name": "stdout",
     "output_type": "stream",
     "text": [
      "[<FluxTable: 10 columns, 722 records>, <FluxTable: 10 columns, 722 records>]\n"
     ]
    }
   ],
   "source": [
    "# 1. Instantiate the query client.\n",
    "query_api = client.query_api()\n",
    "\n",
    "# 2. Create a Flux query.\n",
    "query = 'from(bucket:\"Data\")\\\n",
    "|> range(start: -10h)\\\n",
    "|> filter(fn:(r) => r._measurement == \"weatherdata\")'\n",
    "\n",
    "# 3. Query the data\n",
    "result = query_api.query(org=org, query=query)\n",
    "\n",
    "# not much to do with it yet\n",
    "print(result)"
   ]
  },
  {
   "cell_type": "code",
   "execution_count": 51,
   "id": "33533387",
   "metadata": {
    "scrolled": true
   },
   "outputs": [
    {
     "name": "stdout",
     "output_type": "stream",
     "text": [
      "[(datetime.datetime(2021, 9, 22, 14, 4, tzinfo=tzlocal()), 'temperature', 17.11), (datetime.datetime(2021, 9, 22, 14, 4, 4, tzinfo=tzlocal()), 'temperature', 17.11), (datetime.datetime(2021, 9, 22, 14, 4, 7, tzinfo=tzlocal()), 'temperature', 18.11), (datetime.datetime(2021, 9, 22, 14, 4, 11, tzinfo=tzlocal()), 'temperature', 19.11), (datetime.datetime(2021, 9, 22, 14, 4, 14, tzinfo=tzlocal()), 'temperature', 16.11), (datetime.datetime(2021, 9, 22, 14, 4, 18, tzinfo=tzlocal()), 'temperature', 15.11), (datetime.datetime(2021, 9, 22, 14, 4, 21, tzinfo=tzlocal()), 'temperature', 16.11), (datetime.datetime(2021, 9, 22, 14, 4, 24, tzinfo=tzlocal()), 'temperature', 16.11), (datetime.datetime(2021, 9, 22, 14, 4, 28, tzinfo=tzlocal()), 'temperature', 17.11), (datetime.datetime(2021, 9, 22, 14, 4, 31, tzinfo=tzlocal()), 'temperature', 20.11), (datetime.datetime(2021, 9, 22, 14, 4, 35, tzinfo=tzlocal()), 'temperature', 20.11), (datetime.datetime(2021, 9, 22, 14, 4, 38, tzinfo=tzlocal()), 'temperature', 16.11), (datetime.datetime(2021, 9, 22, 14, 4, 41, tzinfo=tzlocal()), 'temperature', 17.11), (datetime.datetime(2021, 9, 22, 14, 4, 45, tzinfo=tzlocal()), 'temperature', 18.11), (datetime.datetime(2021, 9, 22, 14, 4, 49, tzinfo=tzlocal()), 'temperature', 19.11), (datetime.datetime(2021, 9, 22, 14, 4, 52, tzinfo=tzlocal()), 'temperature', 15.11), (datetime.datetime(2021, 9, 22, 14, 4, 55, tzinfo=tzlocal()), 'temperature', 17.11), (datetime.datetime(2021, 9, 22, 14, 4, 59, tzinfo=tzlocal()), 'temperature', 15.11), (datetime.datetime(2021, 9, 22, 14, 5, 2, tzinfo=tzlocal()), 'temperature', 19.11), (datetime.datetime(2021, 9, 22, 14, 5, 6, tzinfo=tzlocal()), 'temperature', 18.11), (datetime.datetime(2021, 9, 22, 14, 5, 9, tzinfo=tzlocal()), 'temperature', 15.11), (datetime.datetime(2021, 9, 22, 14, 5, 13, tzinfo=tzlocal()), 'temperature', 19.11), (datetime.datetime(2021, 9, 22, 14, 5, 16, tzinfo=tzlocal()), 'temperature', 15.11), (datetime.datetime(2021, 9, 22, 14, 5, 20, tzinfo=tzlocal()), 'temperature', 19.11), (datetime.datetime(2021, 9, 22, 14, 5, 23, tzinfo=tzlocal()), 'temperature', 19.11), (datetime.datetime(2021, 9, 22, 14, 5, 27, tzinfo=tzlocal()), 'temperature', 16.11), (datetime.datetime(2021, 9, 22, 14, 5, 30, tzinfo=tzlocal()), 'temperature', 18.11), (datetime.datetime(2021, 9, 22, 14, 5, 34, tzinfo=tzlocal()), 'temperature', 20.11), (datetime.datetime(2021, 9, 22, 14, 5, 37, tzinfo=tzlocal()), 'temperature', 19.11), (datetime.datetime(2021, 9, 22, 14, 5, 41, tzinfo=tzlocal()), 'temperature', 17.11), (datetime.datetime(2021, 9, 22, 14, 5, 44, tzinfo=tzlocal()), 'temperature', 19.11), (datetime.datetime(2021, 9, 22, 14, 5, 47, tzinfo=tzlocal()), 'temperature', 16.11), (datetime.datetime(2021, 9, 22, 14, 5, 51, tzinfo=tzlocal()), 'temperature', 15.11), (datetime.datetime(2021, 9, 22, 14, 5, 54, tzinfo=tzlocal()), 'temperature', 15.11), (datetime.datetime(2021, 9, 22, 14, 5, 58, tzinfo=tzlocal()), 'temperature', 15.11), (datetime.datetime(2021, 9, 22, 14, 6, 1, tzinfo=tzlocal()), 'temperature', 15.11), (datetime.datetime(2021, 9, 22, 14, 6, 5, tzinfo=tzlocal()), 'temperature', 18.11), (datetime.datetime(2021, 9, 22, 14, 6, 9, tzinfo=tzlocal()), 'temperature', 16.11), (datetime.datetime(2021, 9, 22, 14, 6, 12, tzinfo=tzlocal()), 'temperature', 20.11), (datetime.datetime(2021, 9, 22, 14, 6, 16, tzinfo=tzlocal()), 'temperature', 17.11), (datetime.datetime(2021, 9, 22, 14, 6, 19, tzinfo=tzlocal()), 'temperature', 20.11), (datetime.datetime(2021, 9, 22, 14, 6, 23, tzinfo=tzlocal()), 'temperature', 18.11), (datetime.datetime(2021, 9, 22, 14, 6, 26, tzinfo=tzlocal()), 'temperature', 18.11), (datetime.datetime(2021, 9, 22, 14, 6, 29, tzinfo=tzlocal()), 'temperature', 17.11), (datetime.datetime(2021, 9, 22, 14, 6, 33, tzinfo=tzlocal()), 'temperature', 17.11), (datetime.datetime(2021, 9, 22, 14, 6, 36, tzinfo=tzlocal()), 'temperature', 19.11), (datetime.datetime(2021, 9, 22, 14, 6, 40, tzinfo=tzlocal()), 'temperature', 17.11), (datetime.datetime(2021, 9, 22, 14, 6, 43, tzinfo=tzlocal()), 'temperature', 17.11), (datetime.datetime(2021, 9, 22, 14, 6, 47, tzinfo=tzlocal()), 'temperature', 15.11), (datetime.datetime(2021, 9, 22, 14, 6, 50, tzinfo=tzlocal()), 'temperature', 17.11), (datetime.datetime(2021, 9, 22, 14, 6, 53, tzinfo=tzlocal()), 'temperature', 15.11), (datetime.datetime(2021, 9, 22, 14, 6, 57, tzinfo=tzlocal()), 'temperature', 15.11), (datetime.datetime(2021, 9, 22, 14, 7, tzinfo=tzlocal()), 'temperature', 20.11), (datetime.datetime(2021, 9, 22, 14, 7, 4, tzinfo=tzlocal()), 'temperature', 19.11), (datetime.datetime(2021, 9, 22, 14, 7, 7, tzinfo=tzlocal()), 'temperature', 16.11), (datetime.datetime(2021, 9, 22, 14, 7, 11, tzinfo=tzlocal()), 'temperature', 18.11), (datetime.datetime(2021, 9, 22, 14, 7, 14, tzinfo=tzlocal()), 'temperature', 18.11), (datetime.datetime(2021, 9, 22, 14, 7, 17, tzinfo=tzlocal()), 'temperature', 15.11), (datetime.datetime(2021, 9, 22, 14, 7, 21, tzinfo=tzlocal()), 'temperature', 17.2), (datetime.datetime(2021, 9, 22, 14, 7, 24, tzinfo=tzlocal()), 'temperature', 15.2), (datetime.datetime(2021, 9, 22, 14, 7, 28, tzinfo=tzlocal()), 'temperature', 17.2), (datetime.datetime(2021, 9, 22, 14, 7, 31, tzinfo=tzlocal()), 'temperature', 16.2), (datetime.datetime(2021, 9, 22, 14, 7, 35, tzinfo=tzlocal()), 'temperature', 15.2), (datetime.datetime(2021, 9, 22, 14, 7, 38, tzinfo=tzlocal()), 'temperature', 20.2), (datetime.datetime(2021, 9, 22, 14, 7, 41, tzinfo=tzlocal()), 'temperature', 15.2), (datetime.datetime(2021, 9, 22, 14, 7, 45, tzinfo=tzlocal()), 'temperature', 17.2), (datetime.datetime(2021, 9, 22, 14, 7, 48, tzinfo=tzlocal()), 'temperature', 15.2), (datetime.datetime(2021, 9, 22, 14, 7, 52, tzinfo=tzlocal()), 'temperature', 20.2), (datetime.datetime(2021, 9, 22, 14, 7, 55, tzinfo=tzlocal()), 'temperature', 20.2), (datetime.datetime(2021, 9, 22, 14, 7, 59, tzinfo=tzlocal()), 'temperature', 15.2), (datetime.datetime(2021, 9, 22, 14, 8, 2, tzinfo=tzlocal()), 'temperature', 18.2), (datetime.datetime(2021, 9, 22, 14, 8, 5, tzinfo=tzlocal()), 'temperature', 15.2), (datetime.datetime(2021, 9, 22, 14, 8, 9, tzinfo=tzlocal()), 'temperature', 16.2), (datetime.datetime(2021, 9, 22, 14, 8, 12, tzinfo=tzlocal()), 'temperature', 16.2), (datetime.datetime(2021, 9, 22, 14, 8, 16, tzinfo=tzlocal()), 'temperature', 15.2), (datetime.datetime(2021, 9, 22, 14, 8, 19, tzinfo=tzlocal()), 'temperature', 19.2), (datetime.datetime(2021, 9, 22, 14, 8, 23, tzinfo=tzlocal()), 'temperature', 19.2), (datetime.datetime(2021, 9, 22, 14, 8, 26, tzinfo=tzlocal()), 'temperature', 17.2), (datetime.datetime(2021, 9, 22, 14, 8, 29, tzinfo=tzlocal()), 'temperature', 16.2), (datetime.datetime(2021, 9, 22, 14, 8, 33, tzinfo=tzlocal()), 'temperature', 19.2), (datetime.datetime(2021, 9, 22, 14, 8, 36, tzinfo=tzlocal()), 'temperature', 20.2), (datetime.datetime(2021, 9, 22, 14, 8, 40, tzinfo=tzlocal()), 'temperature', 20.2), (datetime.datetime(2021, 9, 22, 14, 8, 43, tzinfo=tzlocal()), 'temperature', 19.2), (datetime.datetime(2021, 9, 22, 14, 8, 46, tzinfo=tzlocal()), 'temperature', 15.2), (datetime.datetime(2021, 9, 22, 14, 8, 50, tzinfo=tzlocal()), 'temperature', 17.2), (datetime.datetime(2021, 9, 22, 14, 8, 53, tzinfo=tzlocal()), 'temperature', 20.2), (datetime.datetime(2021, 9, 22, 14, 8, 57, tzinfo=tzlocal()), 'temperature', 15.2), (datetime.datetime(2021, 9, 22, 14, 9, tzinfo=tzlocal()), 'temperature', 19.2), (datetime.datetime(2021, 9, 22, 14, 9, 4, tzinfo=tzlocal()), 'temperature', 20.2), (datetime.datetime(2021, 9, 22, 14, 9, 7, tzinfo=tzlocal()), 'temperature', 15.2), (datetime.datetime(2021, 9, 22, 14, 9, 10, tzinfo=tzlocal()), 'temperature', 17.2), (datetime.datetime(2021, 9, 22, 14, 9, 14, tzinfo=tzlocal()), 'temperature', 16.2), (datetime.datetime(2021, 9, 22, 14, 9, 17, tzinfo=tzlocal()), 'temperature', 16.2), (datetime.datetime(2021, 9, 22, 14, 9, 21, tzinfo=tzlocal()), 'temperature', 18.2), (datetime.datetime(2021, 9, 22, 14, 9, 24, tzinfo=tzlocal()), 'temperature', 15.2), (datetime.datetime(2021, 9, 22, 14, 9, 28, tzinfo=tzlocal()), 'temperature', 19.2), (datetime.datetime(2021, 9, 22, 14, 9, 31, tzinfo=tzlocal()), 'temperature', 15.2), (datetime.datetime(2021, 9, 22, 14, 9, 35, tzinfo=tzlocal()), 'temperature', 16.2), (datetime.datetime(2021, 9, 22, 14, 9, 38, tzinfo=tzlocal()), 'temperature', 15.2), (datetime.datetime(2021, 9, 22, 14, 9, 41, tzinfo=tzlocal()), 'temperature', 20.2), (datetime.datetime(2021, 9, 22, 14, 9, 45, tzinfo=tzlocal()), 'temperature', 20.2), (datetime.datetime(2021, 9, 22, 14, 9, 48, tzinfo=tzlocal()), 'temperature', 18.2), (datetime.datetime(2021, 9, 22, 14, 9, 52, tzinfo=tzlocal()), 'temperature', 16.2), (datetime.datetime(2021, 9, 22, 14, 9, 55, tzinfo=tzlocal()), 'temperature', 16.2), (datetime.datetime(2021, 9, 22, 14, 9, 59, tzinfo=tzlocal()), 'temperature', 18.2), (datetime.datetime(2021, 9, 22, 14, 10, 2, tzinfo=tzlocal()), 'temperature', 17.2), (datetime.datetime(2021, 9, 22, 14, 10, 6, tzinfo=tzlocal()), 'temperature', 20.2), (datetime.datetime(2021, 9, 22, 14, 10, 9, tzinfo=tzlocal()), 'temperature', 17.2), (datetime.datetime(2021, 9, 22, 14, 10, 12, tzinfo=tzlocal()), 'temperature', 19.2), (datetime.datetime(2021, 9, 22, 14, 10, 16, tzinfo=tzlocal()), 'temperature', 18.2), (datetime.datetime(2021, 9, 22, 14, 10, 19, tzinfo=tzlocal()), 'temperature', 16.2), (datetime.datetime(2021, 9, 22, 14, 10, 23, tzinfo=tzlocal()), 'temperature', 20.2), (datetime.datetime(2021, 9, 22, 14, 10, 26, tzinfo=tzlocal()), 'temperature', 20.2), (datetime.datetime(2021, 9, 22, 14, 10, 29, tzinfo=tzlocal()), 'temperature', 20.2), (datetime.datetime(2021, 9, 22, 14, 10, 33, tzinfo=tzlocal()), 'temperature', 15.2), (datetime.datetime(2021, 9, 22, 14, 10, 36, tzinfo=tzlocal()), 'temperature', 20.2), (datetime.datetime(2021, 9, 22, 14, 10, 40, tzinfo=tzlocal()), 'temperature', 17.2), (datetime.datetime(2021, 9, 22, 14, 10, 43, tzinfo=tzlocal()), 'temperature', 16.2), (datetime.datetime(2021, 9, 22, 14, 10, 47, tzinfo=tzlocal()), 'temperature', 19.2), (datetime.datetime(2021, 9, 22, 14, 10, 50, tzinfo=tzlocal()), 'temperature', 18.2), (datetime.datetime(2021, 9, 22, 14, 10, 54, tzinfo=tzlocal()), 'temperature', 16.2), (datetime.datetime(2021, 9, 22, 14, 10, 57, tzinfo=tzlocal()), 'temperature', 17.2), (datetime.datetime(2021, 9, 22, 14, 11, tzinfo=tzlocal()), 'temperature', 16.2), (datetime.datetime(2021, 9, 22, 14, 11, 4, tzinfo=tzlocal()), 'temperature', 20.2), (datetime.datetime(2021, 9, 22, 14, 11, 7, tzinfo=tzlocal()), 'temperature', 16.2), (datetime.datetime(2021, 9, 22, 14, 11, 10, tzinfo=tzlocal()), 'temperature', 15.2), (datetime.datetime(2021, 9, 22, 14, 11, 14, tzinfo=tzlocal()), 'temperature', 17.2), (datetime.datetime(2021, 9, 22, 14, 11, 17, tzinfo=tzlocal()), 'temperature', 19.2), (datetime.datetime(2021, 9, 22, 14, 11, 21, tzinfo=tzlocal()), 'temperature', 19.2), (datetime.datetime(2021, 9, 22, 14, 11, 24, tzinfo=tzlocal()), 'temperature', 19.2), (datetime.datetime(2021, 9, 22, 14, 11, 27, tzinfo=tzlocal()), 'temperature', 17.2), (datetime.datetime(2021, 9, 22, 14, 11, 31, tzinfo=tzlocal()), 'temperature', 19.2), (datetime.datetime(2021, 9, 22, 14, 11, 34, tzinfo=tzlocal()), 'temperature', 20.2), (datetime.datetime(2021, 9, 22, 14, 11, 38, tzinfo=tzlocal()), 'temperature', 16.2), (datetime.datetime(2021, 9, 22, 14, 11, 41, tzinfo=tzlocal()), 'temperature', 18.2), (datetime.datetime(2021, 9, 22, 14, 11, 45, tzinfo=tzlocal()), 'temperature', 15.2), (datetime.datetime(2021, 9, 22, 14, 11, 48, tzinfo=tzlocal()), 'temperature', 16.2), (datetime.datetime(2021, 9, 22, 14, 11, 51, tzinfo=tzlocal()), 'temperature', 17.2), (datetime.datetime(2021, 9, 22, 14, 11, 55, tzinfo=tzlocal()), 'temperature', 20.2), (datetime.datetime(2021, 9, 22, 14, 11, 58, tzinfo=tzlocal()), 'temperature', 17.2), (datetime.datetime(2021, 9, 22, 14, 12, 2, tzinfo=tzlocal()), 'temperature', 15.2), (datetime.datetime(2021, 9, 22, 14, 12, 5, tzinfo=tzlocal()), 'temperature', 18.2), (datetime.datetime(2021, 9, 22, 14, 12, 9, tzinfo=tzlocal()), 'temperature', 20.2), (datetime.datetime(2021, 9, 22, 14, 12, 12, tzinfo=tzlocal()), 'temperature', 17.2), (datetime.datetime(2021, 9, 22, 14, 12, 16, tzinfo=tzlocal()), 'temperature', 16.2), (datetime.datetime(2021, 9, 22, 14, 12, 19, tzinfo=tzlocal()), 'temperature', 17.2), (datetime.datetime(2021, 9, 22, 14, 12, 23, tzinfo=tzlocal()), 'temperature', 19.2), (datetime.datetime(2021, 9, 22, 14, 12, 26, tzinfo=tzlocal()), 'temperature', 18.2), (datetime.datetime(2021, 9, 22, 14, 12, 29, tzinfo=tzlocal()), 'temperature', 18.2), (datetime.datetime(2021, 9, 22, 14, 12, 33, tzinfo=tzlocal()), 'temperature', 17.2), (datetime.datetime(2021, 9, 22, 14, 12, 36, tzinfo=tzlocal()), 'temperature', 16.2), (datetime.datetime(2021, 9, 22, 14, 12, 40, tzinfo=tzlocal()), 'temperature', 16.2), (datetime.datetime(2021, 9, 22, 14, 12, 43, tzinfo=tzlocal()), 'temperature', 16.2), (datetime.datetime(2021, 9, 22, 14, 12, 46, tzinfo=tzlocal()), 'temperature', 20.2), (datetime.datetime(2021, 9, 22, 14, 12, 50, tzinfo=tzlocal()), 'temperature', 20.2), (datetime.datetime(2021, 9, 22, 14, 12, 53, tzinfo=tzlocal()), 'temperature', 15.2), (datetime.datetime(2021, 9, 22, 14, 12, 57, tzinfo=tzlocal()), 'temperature', 16.2), (datetime.datetime(2021, 9, 22, 14, 13, tzinfo=tzlocal()), 'temperature', 20.2), (datetime.datetime(2021, 9, 22, 14, 13, 3, tzinfo=tzlocal()), 'temperature', 19.2), (datetime.datetime(2021, 9, 22, 14, 13, 7, tzinfo=tzlocal()), 'temperature', 20.2), (datetime.datetime(2021, 9, 22, 14, 13, 10, tzinfo=tzlocal()), 'temperature', 20.2), (datetime.datetime(2021, 9, 22, 14, 13, 14, tzinfo=tzlocal()), 'temperature', 19.2), (datetime.datetime(2021, 9, 22, 14, 13, 17, tzinfo=tzlocal()), 'temperature', 16.2), (datetime.datetime(2021, 9, 22, 14, 13, 20, tzinfo=tzlocal()), 'temperature', 20.2), (datetime.datetime(2021, 9, 22, 14, 13, 24, tzinfo=tzlocal()), 'temperature', 18.2), (datetime.datetime(2021, 9, 22, 14, 13, 27, tzinfo=tzlocal()), 'temperature', 17.2), (datetime.datetime(2021, 9, 22, 14, 13, 31, tzinfo=tzlocal()), 'temperature', 15.2), (datetime.datetime(2021, 9, 22, 14, 13, 34, tzinfo=tzlocal()), 'temperature', 17.2), (datetime.datetime(2021, 9, 22, 14, 13, 38, tzinfo=tzlocal()), 'temperature', 20.2), (datetime.datetime(2021, 9, 22, 14, 13, 41, tzinfo=tzlocal()), 'temperature', 20.2), (datetime.datetime(2021, 9, 22, 14, 13, 44, tzinfo=tzlocal()), 'temperature', 17.2), (datetime.datetime(2021, 9, 22, 14, 13, 48, tzinfo=tzlocal()), 'temperature', 19.2), (datetime.datetime(2021, 9, 22, 14, 13, 51, tzinfo=tzlocal()), 'temperature', 19.2), (datetime.datetime(2021, 9, 22, 14, 13, 54, tzinfo=tzlocal()), 'temperature', 16.2), (datetime.datetime(2021, 9, 22, 14, 13, 58, tzinfo=tzlocal()), 'temperature', 15.2), (datetime.datetime(2021, 9, 22, 14, 14, 1, tzinfo=tzlocal()), 'temperature', 17.2), (datetime.datetime(2021, 9, 22, 14, 14, 5, tzinfo=tzlocal()), 'temperature', 18.2), (datetime.datetime(2021, 9, 22, 14, 14, 8, tzinfo=tzlocal()), 'temperature', 18.2), (datetime.datetime(2021, 9, 22, 14, 14, 12, tzinfo=tzlocal()), 'temperature', 19.2), (datetime.datetime(2021, 9, 22, 14, 14, 15, tzinfo=tzlocal()), 'temperature', 17.2), (datetime.datetime(2021, 9, 22, 14, 14, 18, tzinfo=tzlocal()), 'temperature', 18.2), (datetime.datetime(2021, 9, 22, 14, 14, 22, tzinfo=tzlocal()), 'temperature', 20.2), (datetime.datetime(2021, 9, 22, 14, 14, 25, tzinfo=tzlocal()), 'temperature', 16.2), (datetime.datetime(2021, 9, 22, 14, 14, 29, tzinfo=tzlocal()), 'temperature', 15.2), (datetime.datetime(2021, 9, 22, 14, 14, 32, tzinfo=tzlocal()), 'temperature', 15.2), (datetime.datetime(2021, 9, 22, 14, 14, 35, tzinfo=tzlocal()), 'temperature', 18.2), (datetime.datetime(2021, 9, 22, 14, 14, 39, tzinfo=tzlocal()), 'temperature', 16.2), (datetime.datetime(2021, 9, 22, 14, 14, 42, tzinfo=tzlocal()), 'temperature', 18.2), (datetime.datetime(2021, 9, 22, 14, 14, 46, tzinfo=tzlocal()), 'temperature', 19.2), (datetime.datetime(2021, 9, 22, 14, 14, 49, tzinfo=tzlocal()), 'temperature', 18.2), (datetime.datetime(2021, 9, 22, 14, 14, 52, tzinfo=tzlocal()), 'temperature', 16.2), (datetime.datetime(2021, 9, 22, 14, 14, 56, tzinfo=tzlocal()), 'temperature', 16.2), (datetime.datetime(2021, 9, 22, 14, 14, 59, tzinfo=tzlocal()), 'temperature', 15.2), (datetime.datetime(2021, 9, 22, 14, 15, 3, tzinfo=tzlocal()), 'temperature', 18.2), (datetime.datetime(2021, 9, 22, 14, 15, 6, tzinfo=tzlocal()), 'temperature', 16.2), (datetime.datetime(2021, 9, 22, 14, 15, 9, tzinfo=tzlocal()), 'temperature', 16.2), (datetime.datetime(2021, 9, 22, 14, 15, 13, tzinfo=tzlocal()), 'temperature', 20.2), (datetime.datetime(2021, 9, 22, 14, 15, 16, tzinfo=tzlocal()), 'temperature', 16.2), (datetime.datetime(2021, 9, 22, 14, 15, 20, tzinfo=tzlocal()), 'temperature', 15.2), (datetime.datetime(2021, 9, 22, 14, 15, 23, tzinfo=tzlocal()), 'temperature', 18.2), (datetime.datetime(2021, 9, 22, 14, 15, 27, tzinfo=tzlocal()), 'temperature', 16.2), (datetime.datetime(2021, 9, 22, 14, 15, 30, tzinfo=tzlocal()), 'temperature', 15.2), (datetime.datetime(2021, 9, 22, 14, 15, 34, tzinfo=tzlocal()), 'temperature', 16.2), (datetime.datetime(2021, 9, 22, 14, 15, 37, tzinfo=tzlocal()), 'temperature', 16.2), (datetime.datetime(2021, 9, 22, 14, 15, 40, tzinfo=tzlocal()), 'temperature', 16.2), (datetime.datetime(2021, 9, 22, 14, 15, 44, tzinfo=tzlocal()), 'temperature', 18.2), (datetime.datetime(2021, 9, 22, 14, 15, 47, tzinfo=tzlocal()), 'temperature', 17.2), (datetime.datetime(2021, 9, 22, 14, 15, 51, tzinfo=tzlocal()), 'temperature', 20.2), (datetime.datetime(2021, 9, 22, 14, 15, 54, tzinfo=tzlocal()), 'temperature', 17.2), (datetime.datetime(2021, 9, 22, 14, 15, 57, tzinfo=tzlocal()), 'temperature', 18.2), (datetime.datetime(2021, 9, 22, 14, 16, 1, tzinfo=tzlocal()), 'temperature', 20.2), (datetime.datetime(2021, 9, 22, 14, 16, 4, tzinfo=tzlocal()), 'temperature', 20.2), (datetime.datetime(2021, 9, 22, 14, 16, 8, tzinfo=tzlocal()), 'temperature', 17.2), (datetime.datetime(2021, 9, 22, 14, 16, 11, tzinfo=tzlocal()), 'temperature', 18.2), (datetime.datetime(2021, 9, 22, 14, 16, 15, tzinfo=tzlocal()), 'temperature', 16.2), (datetime.datetime(2021, 9, 22, 14, 16, 18, tzinfo=tzlocal()), 'temperature', 18.2), (datetime.datetime(2021, 9, 22, 14, 16, 21, tzinfo=tzlocal()), 'temperature', 18.2), (datetime.datetime(2021, 9, 22, 14, 16, 25, tzinfo=tzlocal()), 'temperature', 20.2), (datetime.datetime(2021, 9, 22, 14, 16, 28, tzinfo=tzlocal()), 'temperature', 17.2), (datetime.datetime(2021, 9, 22, 14, 16, 32, tzinfo=tzlocal()), 'temperature', 15.2), (datetime.datetime(2021, 9, 22, 14, 16, 35, tzinfo=tzlocal()), 'temperature', 15.2), (datetime.datetime(2021, 9, 22, 14, 16, 39, tzinfo=tzlocal()), 'temperature', 17.2), (datetime.datetime(2021, 9, 22, 14, 16, 42, tzinfo=tzlocal()), 'temperature', 17.2), (datetime.datetime(2021, 9, 22, 14, 16, 45, tzinfo=tzlocal()), 'temperature', 16.2), (datetime.datetime(2021, 9, 22, 14, 16, 49, tzinfo=tzlocal()), 'temperature', 19.2), (datetime.datetime(2021, 9, 22, 14, 16, 52, tzinfo=tzlocal()), 'temperature', 18.2), (datetime.datetime(2021, 9, 22, 14, 16, 56, tzinfo=tzlocal()), 'temperature', 20.2), (datetime.datetime(2021, 9, 22, 14, 16, 59, tzinfo=tzlocal()), 'temperature', 15.2), (datetime.datetime(2021, 9, 22, 14, 17, 3, tzinfo=tzlocal()), 'temperature', 16.2), (datetime.datetime(2021, 9, 22, 14, 17, 6, tzinfo=tzlocal()), 'temperature', 17.2), (datetime.datetime(2021, 9, 22, 14, 17, 10, tzinfo=tzlocal()), 'temperature', 19.2), (datetime.datetime(2021, 9, 22, 14, 17, 13, tzinfo=tzlocal()), 'temperature', 15.2), (datetime.datetime(2021, 9, 22, 14, 17, 17, tzinfo=tzlocal()), 'temperature', 16.2), (datetime.datetime(2021, 9, 22, 14, 17, 20, tzinfo=tzlocal()), 'temperature', 18.2), (datetime.datetime(2021, 9, 22, 14, 17, 23, tzinfo=tzlocal()), 'temperature', 19.76), (datetime.datetime(2021, 9, 22, 14, 17, 27, tzinfo=tzlocal()), 'temperature', 17.76), (datetime.datetime(2021, 9, 22, 14, 17, 30, tzinfo=tzlocal()), 'temperature', 19.76), (datetime.datetime(2021, 9, 22, 14, 17, 34, tzinfo=tzlocal()), 'temperature', 14.760000000000002), (datetime.datetime(2021, 9, 22, 14, 17, 37, tzinfo=tzlocal()), 'temperature', 15.760000000000002), (datetime.datetime(2021, 9, 22, 14, 17, 40, tzinfo=tzlocal()), 'temperature', 16.76), (datetime.datetime(2021, 9, 22, 14, 17, 44, tzinfo=tzlocal()), 'temperature', 18.76), (datetime.datetime(2021, 9, 22, 14, 17, 47, tzinfo=tzlocal()), 'temperature', 18.76), (datetime.datetime(2021, 9, 22, 14, 17, 51, tzinfo=tzlocal()), 'temperature', 17.76), (datetime.datetime(2021, 9, 22, 14, 17, 54, tzinfo=tzlocal()), 'temperature', 15.760000000000002), (datetime.datetime(2021, 9, 22, 14, 17, 58, tzinfo=tzlocal()), 'temperature', 14.760000000000002), (datetime.datetime(2021, 9, 22, 14, 18, 1, tzinfo=tzlocal()), 'temperature', 15.760000000000002), (datetime.datetime(2021, 9, 22, 14, 18, 4, tzinfo=tzlocal()), 'temperature', 16.76), (datetime.datetime(2021, 9, 22, 14, 18, 8, tzinfo=tzlocal()), 'temperature', 19.76), (datetime.datetime(2021, 9, 22, 14, 18, 11, tzinfo=tzlocal()), 'temperature', 17.76), (datetime.datetime(2021, 9, 22, 14, 18, 15, tzinfo=tzlocal()), 'temperature', 17.76), (datetime.datetime(2021, 9, 22, 14, 18, 18, tzinfo=tzlocal()), 'temperature', 15.760000000000002), (datetime.datetime(2021, 9, 22, 14, 18, 21, tzinfo=tzlocal()), 'temperature', 18.76), (datetime.datetime(2021, 9, 22, 14, 18, 25, tzinfo=tzlocal()), 'temperature', 17.76), (datetime.datetime(2021, 9, 22, 14, 18, 28, tzinfo=tzlocal()), 'temperature', 19.76), (datetime.datetime(2021, 9, 22, 14, 18, 32, tzinfo=tzlocal()), 'temperature', 17.76), (datetime.datetime(2021, 9, 22, 14, 18, 35, tzinfo=tzlocal()), 'temperature', 16.76), (datetime.datetime(2021, 9, 22, 15, 19, 14, tzinfo=tzlocal()), 'temperature', 16.77), (datetime.datetime(2021, 9, 22, 15, 26, 55, tzinfo=tzlocal()), 'temperature', 16.72), (datetime.datetime(2021, 9, 22, 15, 26, 59, tzinfo=tzlocal()), 'temperature', 18.72), (datetime.datetime(2021, 9, 22, 15, 27, 3, tzinfo=tzlocal()), 'temperature', 17.72), (datetime.datetime(2021, 9, 22, 15, 27, 7, tzinfo=tzlocal()), 'temperature', 18.72), (datetime.datetime(2021, 9, 22, 15, 27, 11, tzinfo=tzlocal()), 'temperature', 16.72), (datetime.datetime(2021, 9, 22, 15, 27, 15, tzinfo=tzlocal()), 'temperature', 14.719999999999999), (datetime.datetime(2021, 9, 22, 15, 27, 19, tzinfo=tzlocal()), 'temperature', 14.719999999999999), (datetime.datetime(2021, 9, 22, 15, 27, 23, tzinfo=tzlocal()), 'temperature', 18.72), (datetime.datetime(2021, 9, 22, 15, 27, 27, tzinfo=tzlocal()), 'temperature', 18.72), (datetime.datetime(2021, 9, 22, 15, 27, 31, tzinfo=tzlocal()), 'temperature', 17.72), (datetime.datetime(2021, 9, 22, 15, 27, 35, tzinfo=tzlocal()), 'temperature', 19.72), (datetime.datetime(2021, 9, 22, 15, 27, 39, tzinfo=tzlocal()), 'temperature', 18.72), (datetime.datetime(2021, 9, 22, 15, 27, 43, tzinfo=tzlocal()), 'temperature', 18.72), (datetime.datetime(2021, 9, 22, 15, 27, 47, tzinfo=tzlocal()), 'temperature', 14.719999999999999), (datetime.datetime(2021, 9, 22, 15, 27, 51, tzinfo=tzlocal()), 'temperature', 16.72), (datetime.datetime(2021, 9, 22, 15, 27, 55, tzinfo=tzlocal()), 'temperature', 18.72), (datetime.datetime(2021, 9, 22, 15, 27, 59, tzinfo=tzlocal()), 'temperature', 19.72), (datetime.datetime(2021, 9, 22, 15, 28, 3, tzinfo=tzlocal()), 'temperature', 17.72), (datetime.datetime(2021, 9, 22, 15, 28, 7, tzinfo=tzlocal()), 'temperature', 18.72), (datetime.datetime(2021, 9, 22, 15, 28, 11, tzinfo=tzlocal()), 'temperature', 15.719999999999999), (datetime.datetime(2021, 9, 22, 15, 28, 15, tzinfo=tzlocal()), 'temperature', 16.72), (datetime.datetime(2021, 9, 22, 15, 28, 18, tzinfo=tzlocal()), 'temperature', 15.719999999999999), (datetime.datetime(2021, 9, 22, 15, 28, 22, tzinfo=tzlocal()), 'temperature', 16.72), (datetime.datetime(2021, 9, 22, 15, 28, 26, tzinfo=tzlocal()), 'temperature', 19.72), (datetime.datetime(2021, 9, 22, 15, 28, 30, tzinfo=tzlocal()), 'temperature', 18.72), (datetime.datetime(2021, 9, 22, 15, 28, 34, tzinfo=tzlocal()), 'temperature', 17.72), (datetime.datetime(2021, 9, 22, 15, 28, 38, tzinfo=tzlocal()), 'temperature', 17.72), (datetime.datetime(2021, 9, 22, 15, 28, 42, tzinfo=tzlocal()), 'temperature', 18.72), (datetime.datetime(2021, 9, 22, 15, 28, 46, tzinfo=tzlocal()), 'temperature', 17.72), (datetime.datetime(2021, 9, 22, 15, 28, 50, tzinfo=tzlocal()), 'temperature', 16.72), (datetime.datetime(2021, 9, 22, 15, 28, 54, tzinfo=tzlocal()), 'temperature', 14.719999999999999), (datetime.datetime(2021, 9, 22, 15, 28, 57, tzinfo=tzlocal()), 'temperature', 18.72), (datetime.datetime(2021, 9, 22, 15, 29, 1, tzinfo=tzlocal()), 'temperature', 19.72), (datetime.datetime(2021, 9, 22, 15, 29, 5, tzinfo=tzlocal()), 'temperature', 15.719999999999999), (datetime.datetime(2021, 9, 22, 15, 29, 9, tzinfo=tzlocal()), 'temperature', 19.72), (datetime.datetime(2021, 9, 22, 15, 29, 13, tzinfo=tzlocal()), 'temperature', 15.719999999999999), (datetime.datetime(2021, 9, 22, 15, 29, 17, tzinfo=tzlocal()), 'temperature', 14.719999999999999), (datetime.datetime(2021, 9, 22, 15, 29, 21, tzinfo=tzlocal()), 'temperature', 15.719999999999999), (datetime.datetime(2021, 9, 22, 15, 29, 25, tzinfo=tzlocal()), 'temperature', 15.719999999999999), (datetime.datetime(2021, 9, 22, 15, 29, 29, tzinfo=tzlocal()), 'temperature', 18.72), (datetime.datetime(2021, 9, 22, 15, 29, 33, tzinfo=tzlocal()), 'temperature', 19.72), (datetime.datetime(2021, 9, 22, 15, 29, 37, tzinfo=tzlocal()), 'temperature', 17.72), (datetime.datetime(2021, 9, 22, 15, 29, 40, tzinfo=tzlocal()), 'temperature', 19.72), (datetime.datetime(2021, 9, 22, 15, 29, 44, tzinfo=tzlocal()), 'temperature', 14.719999999999999), (datetime.datetime(2021, 9, 22, 15, 29, 48, tzinfo=tzlocal()), 'temperature', 17.72), (datetime.datetime(2021, 9, 22, 15, 29, 52, tzinfo=tzlocal()), 'temperature', 15.719999999999999), (datetime.datetime(2021, 9, 22, 15, 29, 56, tzinfo=tzlocal()), 'temperature', 14.719999999999999), (datetime.datetime(2021, 9, 22, 15, 30, tzinfo=tzlocal()), 'temperature', 16.72), (datetime.datetime(2021, 9, 22, 15, 30, 4, tzinfo=tzlocal()), 'temperature', 19.72), (datetime.datetime(2021, 9, 22, 15, 30, 8, tzinfo=tzlocal()), 'temperature', 19.72), (datetime.datetime(2021, 9, 22, 15, 30, 12, tzinfo=tzlocal()), 'temperature', 14.719999999999999), (datetime.datetime(2021, 9, 22, 15, 30, 16, tzinfo=tzlocal()), 'temperature', 15.719999999999999), (datetime.datetime(2021, 9, 22, 15, 30, 20, tzinfo=tzlocal()), 'temperature', 15.719999999999999), (datetime.datetime(2021, 9, 22, 15, 30, 24, tzinfo=tzlocal()), 'temperature', 16.72), (datetime.datetime(2021, 9, 22, 15, 30, 28, tzinfo=tzlocal()), 'temperature', 15.719999999999999), (datetime.datetime(2021, 9, 22, 15, 30, 32, tzinfo=tzlocal()), 'temperature', 17.72), (datetime.datetime(2021, 9, 22, 15, 30, 36, tzinfo=tzlocal()), 'temperature', 17.72), (datetime.datetime(2021, 9, 22, 15, 30, 40, tzinfo=tzlocal()), 'temperature', 18.72), (datetime.datetime(2021, 9, 22, 15, 30, 44, tzinfo=tzlocal()), 'temperature', 18.72), (datetime.datetime(2021, 9, 22, 15, 30, 48, tzinfo=tzlocal()), 'temperature', 18.72), (datetime.datetime(2021, 9, 22, 15, 30, 52, tzinfo=tzlocal()), 'temperature', 18.72), (datetime.datetime(2021, 9, 22, 15, 30, 56, tzinfo=tzlocal()), 'temperature', 15.719999999999999), (datetime.datetime(2021, 9, 22, 15, 31, tzinfo=tzlocal()), 'temperature', 16.72), (datetime.datetime(2021, 9, 22, 15, 31, 4, tzinfo=tzlocal()), 'temperature', 14.719999999999999), (datetime.datetime(2021, 9, 22, 15, 31, 8, tzinfo=tzlocal()), 'temperature', 15.719999999999999), (datetime.datetime(2021, 9, 22, 15, 31, 12, tzinfo=tzlocal()), 'temperature', 14.719999999999999), (datetime.datetime(2021, 9, 22, 15, 31, 16, tzinfo=tzlocal()), 'temperature', 17.72), (datetime.datetime(2021, 9, 22, 15, 31, 20, tzinfo=tzlocal()), 'temperature', 17.72), (datetime.datetime(2021, 9, 22, 15, 31, 24, tzinfo=tzlocal()), 'temperature', 17.72), (datetime.datetime(2021, 9, 22, 15, 31, 28, tzinfo=tzlocal()), 'temperature', 19.72), (datetime.datetime(2021, 9, 22, 15, 31, 32, tzinfo=tzlocal()), 'temperature', 16.72), (datetime.datetime(2021, 9, 22, 15, 31, 36, tzinfo=tzlocal()), 'temperature', 18.72), (datetime.datetime(2021, 9, 22, 15, 31, 40, tzinfo=tzlocal()), 'temperature', 18.72), (datetime.datetime(2021, 9, 22, 15, 31, 44, tzinfo=tzlocal()), 'temperature', 19.72), (datetime.datetime(2021, 9, 22, 15, 31, 48, tzinfo=tzlocal()), 'temperature', 14.719999999999999), (datetime.datetime(2021, 9, 22, 15, 31, 52, tzinfo=tzlocal()), 'temperature', 14.719999999999999), (datetime.datetime(2021, 9, 22, 15, 31, 56, tzinfo=tzlocal()), 'temperature', 17.72), (datetime.datetime(2021, 9, 22, 15, 32, tzinfo=tzlocal()), 'temperature', 15.719999999999999), (datetime.datetime(2021, 9, 22, 15, 32, 4, tzinfo=tzlocal()), 'temperature', 15.719999999999999), (datetime.datetime(2021, 9, 22, 15, 32, 8, tzinfo=tzlocal()), 'temperature', 16.72), (datetime.datetime(2021, 9, 22, 15, 32, 12, tzinfo=tzlocal()), 'temperature', 14.719999999999999), (datetime.datetime(2021, 9, 22, 15, 32, 16, tzinfo=tzlocal()), 'temperature', 19.72), (datetime.datetime(2021, 9, 22, 15, 32, 20, tzinfo=tzlocal()), 'temperature', 14.719999999999999), (datetime.datetime(2021, 9, 22, 15, 32, 23, tzinfo=tzlocal()), 'temperature', 17.72), (datetime.datetime(2021, 9, 22, 15, 32, 27, tzinfo=tzlocal()), 'temperature', 19.72), (datetime.datetime(2021, 9, 22, 15, 32, 31, tzinfo=tzlocal()), 'temperature', 16.72), (datetime.datetime(2021, 9, 22, 15, 32, 35, tzinfo=tzlocal()), 'temperature', 19.72), (datetime.datetime(2021, 9, 22, 15, 32, 39, tzinfo=tzlocal()), 'temperature', 18.72), (datetime.datetime(2021, 9, 22, 15, 32, 43, tzinfo=tzlocal()), 'temperature', 15.719999999999999), (datetime.datetime(2021, 9, 22, 15, 32, 47, tzinfo=tzlocal()), 'temperature', 18.72), (datetime.datetime(2021, 9, 22, 15, 32, 51, tzinfo=tzlocal()), 'temperature', 14.719999999999999), (datetime.datetime(2021, 9, 22, 15, 32, 55, tzinfo=tzlocal()), 'temperature', 19.72), (datetime.datetime(2021, 9, 22, 15, 32, 59, tzinfo=tzlocal()), 'temperature', 16.72), (datetime.datetime(2021, 9, 22, 15, 33, 2, tzinfo=tzlocal()), 'temperature', 16.72), (datetime.datetime(2021, 9, 22, 15, 33, 6, tzinfo=tzlocal()), 'temperature', 14.719999999999999), (datetime.datetime(2021, 9, 22, 15, 33, 10, tzinfo=tzlocal()), 'temperature', 19.72), (datetime.datetime(2021, 9, 22, 15, 33, 14, tzinfo=tzlocal()), 'temperature', 16.72), (datetime.datetime(2021, 9, 22, 15, 33, 18, tzinfo=tzlocal()), 'temperature', 15.719999999999999), (datetime.datetime(2021, 9, 22, 15, 33, 22, tzinfo=tzlocal()), 'temperature', 14.719999999999999), (datetime.datetime(2021, 9, 22, 15, 33, 25, tzinfo=tzlocal()), 'temperature', 15.719999999999999), (datetime.datetime(2021, 9, 22, 15, 33, 29, tzinfo=tzlocal()), 'temperature', 15.719999999999999), (datetime.datetime(2021, 9, 22, 15, 33, 33, tzinfo=tzlocal()), 'temperature', 17.72), (datetime.datetime(2021, 9, 22, 15, 33, 37, tzinfo=tzlocal()), 'temperature', 16.72), (datetime.datetime(2021, 9, 22, 15, 33, 42, tzinfo=tzlocal()), 'temperature', 19.72), (datetime.datetime(2021, 9, 22, 15, 33, 45, tzinfo=tzlocal()), 'temperature', 17.72), (datetime.datetime(2021, 9, 22, 15, 33, 49, tzinfo=tzlocal()), 'temperature', 15.489999999999998), (datetime.datetime(2021, 9, 22, 15, 33, 53, tzinfo=tzlocal()), 'temperature', 15.489999999999998), (datetime.datetime(2021, 9, 22, 15, 33, 57, tzinfo=tzlocal()), 'temperature', 14.489999999999998), (datetime.datetime(2021, 9, 22, 15, 34, 1, tzinfo=tzlocal()), 'temperature', 17.49), (datetime.datetime(2021, 9, 22, 15, 34, 6, tzinfo=tzlocal()), 'temperature', 16.49), (datetime.datetime(2021, 9, 22, 15, 34, 9, tzinfo=tzlocal()), 'temperature', 18.49), (datetime.datetime(2021, 9, 22, 15, 34, 13, tzinfo=tzlocal()), 'temperature', 19.49), (datetime.datetime(2021, 9, 22, 15, 34, 17, tzinfo=tzlocal()), 'temperature', 14.489999999999998), (datetime.datetime(2021, 9, 22, 15, 34, 21, tzinfo=tzlocal()), 'temperature', 19.49), (datetime.datetime(2021, 9, 22, 15, 34, 25, tzinfo=tzlocal()), 'temperature', 17.49), (datetime.datetime(2021, 9, 22, 15, 34, 29, tzinfo=tzlocal()), 'temperature', 16.49), (datetime.datetime(2021, 9, 22, 15, 34, 33, tzinfo=tzlocal()), 'temperature', 16.49), (datetime.datetime(2021, 9, 22, 15, 34, 37, tzinfo=tzlocal()), 'temperature', 17.49), (datetime.datetime(2021, 9, 22, 15, 34, 40, tzinfo=tzlocal()), 'temperature', 14.489999999999998), (datetime.datetime(2021, 9, 22, 15, 34, 44, tzinfo=tzlocal()), 'temperature', 19.49), (datetime.datetime(2021, 9, 22, 15, 34, 48, tzinfo=tzlocal()), 'temperature', 19.49), (datetime.datetime(2021, 9, 22, 15, 34, 52, tzinfo=tzlocal()), 'temperature', 14.489999999999998), (datetime.datetime(2021, 9, 22, 15, 34, 56, tzinfo=tzlocal()), 'temperature', 18.49), (datetime.datetime(2021, 9, 22, 15, 35, tzinfo=tzlocal()), 'temperature', 18.49), (datetime.datetime(2021, 9, 22, 15, 35, 4, tzinfo=tzlocal()), 'temperature', 16.49), (datetime.datetime(2021, 9, 22, 15, 35, 8, tzinfo=tzlocal()), 'temperature', 15.489999999999998), (datetime.datetime(2021, 9, 22, 15, 35, 12, tzinfo=tzlocal()), 'temperature', 16.49), (datetime.datetime(2021, 9, 22, 15, 35, 16, tzinfo=tzlocal()), 'temperature', 18.49), (datetime.datetime(2021, 9, 22, 15, 35, 20, tzinfo=tzlocal()), 'temperature', 18.49), (datetime.datetime(2021, 9, 22, 15, 35, 23, tzinfo=tzlocal()), 'temperature', 16.49), (datetime.datetime(2021, 9, 22, 15, 35, 28, tzinfo=tzlocal()), 'temperature', 16.49), (datetime.datetime(2021, 9, 22, 15, 35, 32, tzinfo=tzlocal()), 'temperature', 14.489999999999998), (datetime.datetime(2021, 9, 22, 15, 35, 36, tzinfo=tzlocal()), 'temperature', 19.49), (datetime.datetime(2021, 9, 22, 15, 35, 40, tzinfo=tzlocal()), 'temperature', 18.49), (datetime.datetime(2021, 9, 22, 15, 35, 44, tzinfo=tzlocal()), 'temperature', 14.489999999999998), (datetime.datetime(2021, 9, 22, 15, 35, 48, tzinfo=tzlocal()), 'temperature', 18.49), (datetime.datetime(2021, 9, 22, 15, 35, 52, tzinfo=tzlocal()), 'temperature', 15.489999999999998), (datetime.datetime(2021, 9, 22, 15, 35, 56, tzinfo=tzlocal()), 'temperature', 16.49), (datetime.datetime(2021, 9, 22, 15, 36, tzinfo=tzlocal()), 'temperature', 17.49), (datetime.datetime(2021, 9, 22, 15, 36, 4, tzinfo=tzlocal()), 'temperature', 16.49), (datetime.datetime(2021, 9, 22, 15, 36, 8, tzinfo=tzlocal()), 'temperature', 17.49), (datetime.datetime(2021, 9, 22, 15, 36, 12, tzinfo=tzlocal()), 'temperature', 15.489999999999998), (datetime.datetime(2021, 9, 22, 15, 36, 16, tzinfo=tzlocal()), 'temperature', 14.489999999999998), (datetime.datetime(2021, 9, 22, 15, 36, 20, tzinfo=tzlocal()), 'temperature', 16.49), (datetime.datetime(2021, 9, 22, 15, 36, 24, tzinfo=tzlocal()), 'temperature', 14.489999999999998), (datetime.datetime(2021, 9, 22, 15, 36, 28, tzinfo=tzlocal()), 'temperature', 18.49), (datetime.datetime(2021, 9, 22, 15, 36, 32, tzinfo=tzlocal()), 'temperature', 16.49), (datetime.datetime(2021, 9, 22, 15, 36, 36, tzinfo=tzlocal()), 'temperature', 15.489999999999998), (datetime.datetime(2021, 9, 22, 15, 36, 40, tzinfo=tzlocal()), 'temperature', 18.49), (datetime.datetime(2021, 9, 22, 15, 36, 44, tzinfo=tzlocal()), 'temperature', 15.489999999999998), (datetime.datetime(2021, 9, 22, 15, 36, 48, tzinfo=tzlocal()), 'temperature', 16.49), (datetime.datetime(2021, 9, 22, 15, 36, 52, tzinfo=tzlocal()), 'temperature', 17.49), (datetime.datetime(2021, 9, 22, 15, 36, 56, tzinfo=tzlocal()), 'temperature', 14.489999999999998), (datetime.datetime(2021, 9, 22, 15, 37, tzinfo=tzlocal()), 'temperature', 14.489999999999998), (datetime.datetime(2021, 9, 22, 15, 37, 4, tzinfo=tzlocal()), 'temperature', 17.49), (datetime.datetime(2021, 9, 22, 15, 37, 8, tzinfo=tzlocal()), 'temperature', 15.489999999999998), (datetime.datetime(2021, 9, 22, 15, 37, 12, tzinfo=tzlocal()), 'temperature', 16.49), (datetime.datetime(2021, 9, 22, 15, 37, 16, tzinfo=tzlocal()), 'temperature', 18.49), (datetime.datetime(2021, 9, 22, 15, 37, 20, tzinfo=tzlocal()), 'temperature', 14.489999999999998), (datetime.datetime(2021, 9, 22, 15, 37, 24, tzinfo=tzlocal()), 'temperature', 14.489999999999998), (datetime.datetime(2021, 9, 22, 15, 37, 27, tzinfo=tzlocal()), 'temperature', 15.489999999999998), (datetime.datetime(2021, 9, 22, 15, 37, 32, tzinfo=tzlocal()), 'temperature', 16.49), (datetime.datetime(2021, 9, 22, 15, 37, 35, tzinfo=tzlocal()), 'temperature', 17.49), (datetime.datetime(2021, 9, 22, 15, 37, 39, tzinfo=tzlocal()), 'temperature', 18.49), (datetime.datetime(2021, 9, 22, 15, 37, 43, tzinfo=tzlocal()), 'temperature', 16.49), (datetime.datetime(2021, 9, 22, 15, 37, 47, tzinfo=tzlocal()), 'temperature', 14.489999999999998), (datetime.datetime(2021, 9, 22, 15, 37, 51, tzinfo=tzlocal()), 'temperature', 18.49), (datetime.datetime(2021, 9, 22, 15, 37, 55, tzinfo=tzlocal()), 'temperature', 17.49), (datetime.datetime(2021, 9, 22, 15, 37, 59, tzinfo=tzlocal()), 'temperature', 15.489999999999998), (datetime.datetime(2021, 9, 22, 15, 38, 3, tzinfo=tzlocal()), 'temperature', 16.49), (datetime.datetime(2021, 9, 22, 15, 38, 7, tzinfo=tzlocal()), 'temperature', 17.49), (datetime.datetime(2021, 9, 22, 15, 38, 11, tzinfo=tzlocal()), 'temperature', 14.489999999999998), (datetime.datetime(2021, 9, 22, 15, 38, 14, tzinfo=tzlocal()), 'temperature', 16.49), (datetime.datetime(2021, 9, 22, 15, 38, 18, tzinfo=tzlocal()), 'temperature', 17.49), (datetime.datetime(2021, 9, 22, 15, 38, 22, tzinfo=tzlocal()), 'temperature', 15.489999999999998), (datetime.datetime(2021, 9, 22, 15, 38, 26, tzinfo=tzlocal()), 'temperature', 17.49), (datetime.datetime(2021, 9, 22, 15, 38, 30, tzinfo=tzlocal()), 'temperature', 15.489999999999998), (datetime.datetime(2021, 9, 22, 15, 38, 34, tzinfo=tzlocal()), 'temperature', 16.49), (datetime.datetime(2021, 9, 22, 15, 38, 38, tzinfo=tzlocal()), 'temperature', 15.489999999999998), (datetime.datetime(2021, 9, 22, 15, 38, 42, tzinfo=tzlocal()), 'temperature', 18.49), (datetime.datetime(2021, 9, 22, 15, 38, 46, tzinfo=tzlocal()), 'temperature', 14.489999999999998), (datetime.datetime(2021, 9, 22, 15, 38, 50, tzinfo=tzlocal()), 'temperature', 15.489999999999998), (datetime.datetime(2021, 9, 22, 15, 38, 54, tzinfo=tzlocal()), 'temperature', 18.49), (datetime.datetime(2021, 9, 22, 15, 38, 58, tzinfo=tzlocal()), 'temperature', 17.49), (datetime.datetime(2021, 9, 22, 15, 39, 2, tzinfo=tzlocal()), 'temperature', 14.489999999999998), (datetime.datetime(2021, 9, 22, 15, 39, 6, tzinfo=tzlocal()), 'temperature', 16.49), (datetime.datetime(2021, 9, 22, 15, 39, 10, tzinfo=tzlocal()), 'temperature', 18.49), (datetime.datetime(2021, 9, 22, 15, 39, 14, tzinfo=tzlocal()), 'temperature', 17.49), (datetime.datetime(2021, 9, 22, 15, 39, 18, tzinfo=tzlocal()), 'temperature', 14.489999999999998), (datetime.datetime(2021, 9, 22, 15, 39, 22, tzinfo=tzlocal()), 'temperature', 19.49), (datetime.datetime(2021, 9, 22, 15, 39, 26, tzinfo=tzlocal()), 'temperature', 14.489999999999998), (datetime.datetime(2021, 9, 22, 15, 39, 30, tzinfo=tzlocal()), 'temperature', 15.489999999999998), (datetime.datetime(2021, 9, 22, 15, 39, 34, tzinfo=tzlocal()), 'temperature', 19.49), (datetime.datetime(2021, 9, 22, 15, 39, 38, tzinfo=tzlocal()), 'temperature', 18.49), (datetime.datetime(2021, 9, 22, 15, 39, 42, tzinfo=tzlocal()), 'temperature', 18.49), (datetime.datetime(2021, 9, 22, 15, 39, 46, tzinfo=tzlocal()), 'temperature', 19.49), (datetime.datetime(2021, 9, 22, 15, 39, 50, tzinfo=tzlocal()), 'temperature', 14.489999999999998), (datetime.datetime(2021, 9, 22, 15, 39, 54, tzinfo=tzlocal()), 'temperature', 16.49), (datetime.datetime(2021, 9, 22, 15, 39, 58, tzinfo=tzlocal()), 'temperature', 17.49), (datetime.datetime(2021, 9, 22, 15, 40, 1, tzinfo=tzlocal()), 'temperature', 15.489999999999998), (datetime.datetime(2021, 9, 22, 15, 40, 5, tzinfo=tzlocal()), 'temperature', 19.49), (datetime.datetime(2021, 9, 22, 15, 40, 9, tzinfo=tzlocal()), 'temperature', 17.49), (datetime.datetime(2021, 9, 22, 15, 40, 13, tzinfo=tzlocal()), 'temperature', 19.49), (datetime.datetime(2021, 9, 22, 15, 40, 16, tzinfo=tzlocal()), 'temperature', 18.49), (datetime.datetime(2021, 9, 22, 15, 40, 20, tzinfo=tzlocal()), 'temperature', 17.49), (datetime.datetime(2021, 9, 22, 15, 40, 24, tzinfo=tzlocal()), 'temperature', 15.489999999999998), (datetime.datetime(2021, 9, 22, 15, 40, 28, tzinfo=tzlocal()), 'temperature', 18.49), (datetime.datetime(2021, 9, 22, 15, 40, 32, tzinfo=tzlocal()), 'temperature', 14.489999999999998), (datetime.datetime(2021, 9, 22, 15, 40, 36, tzinfo=tzlocal()), 'temperature', 17.49), (datetime.datetime(2021, 9, 22, 15, 40, 39, tzinfo=tzlocal()), 'temperature', 19.49), (datetime.datetime(2021, 9, 22, 15, 40, 43, tzinfo=tzlocal()), 'temperature', 17.49), (datetime.datetime(2021, 9, 22, 15, 40, 47, tzinfo=tzlocal()), 'temperature', 18.49), (datetime.datetime(2021, 9, 22, 15, 40, 51, tzinfo=tzlocal()), 'temperature', 17.49), (datetime.datetime(2021, 9, 22, 15, 40, 54, tzinfo=tzlocal()), 'temperature', 15.489999999999998), (datetime.datetime(2021, 9, 22, 15, 40, 58, tzinfo=tzlocal()), 'temperature', 15.489999999999998), (datetime.datetime(2021, 9, 22, 15, 41, 2, tzinfo=tzlocal()), 'temperature', 16.49), (datetime.datetime(2021, 9, 22, 15, 41, 6, tzinfo=tzlocal()), 'temperature', 18.49), (datetime.datetime(2021, 9, 22, 15, 41, 10, tzinfo=tzlocal()), 'temperature', 19.49), (datetime.datetime(2021, 9, 22, 15, 41, 14, tzinfo=tzlocal()), 'temperature', 14.489999999999998), (datetime.datetime(2021, 9, 22, 15, 41, 18, tzinfo=tzlocal()), 'temperature', 14.489999999999998), (datetime.datetime(2021, 9, 22, 15, 41, 22, tzinfo=tzlocal()), 'temperature', 15.489999999999998), (datetime.datetime(2021, 9, 22, 15, 41, 25, tzinfo=tzlocal()), 'temperature', 16.49), (datetime.datetime(2021, 9, 22, 15, 41, 29, tzinfo=tzlocal()), 'temperature', 15.489999999999998), (datetime.datetime(2021, 9, 22, 15, 41, 33, tzinfo=tzlocal()), 'temperature', 14.489999999999998), (datetime.datetime(2021, 9, 22, 15, 41, 37, tzinfo=tzlocal()), 'temperature', 14.489999999999998), (datetime.datetime(2021, 9, 22, 15, 41, 42, tzinfo=tzlocal()), 'temperature', 19.49), (datetime.datetime(2021, 9, 22, 15, 41, 45, tzinfo=tzlocal()), 'temperature', 14.489999999999998), (datetime.datetime(2021, 9, 22, 15, 41, 49, tzinfo=tzlocal()), 'temperature', 16.49), (datetime.datetime(2021, 9, 22, 15, 41, 53, tzinfo=tzlocal()), 'temperature', 14.489999999999998), (datetime.datetime(2021, 9, 22, 15, 41, 57, tzinfo=tzlocal()), 'temperature', 15.489999999999998), (datetime.datetime(2021, 9, 22, 15, 42, 1, tzinfo=tzlocal()), 'temperature', 14.489999999999998), (datetime.datetime(2021, 9, 22, 15, 42, 5, tzinfo=tzlocal()), 'temperature', 16.49), (datetime.datetime(2021, 9, 22, 15, 42, 8, tzinfo=tzlocal()), 'temperature', 19.49), (datetime.datetime(2021, 9, 22, 15, 42, 12, tzinfo=tzlocal()), 'temperature', 17.49), (datetime.datetime(2021, 9, 22, 15, 42, 16, tzinfo=tzlocal()), 'temperature', 18.49), (datetime.datetime(2021, 9, 22, 15, 42, 20, tzinfo=tzlocal()), 'temperature', 15.489999999999998), (datetime.datetime(2021, 9, 22, 15, 42, 24, tzinfo=tzlocal()), 'temperature', 14.489999999999998), (datetime.datetime(2021, 9, 22, 15, 42, 28, tzinfo=tzlocal()), 'temperature', 19.49), (datetime.datetime(2021, 9, 22, 15, 42, 32, tzinfo=tzlocal()), 'temperature', 17.49), (datetime.datetime(2021, 9, 22, 15, 42, 35, tzinfo=tzlocal()), 'temperature', 19.49), (datetime.datetime(2021, 9, 22, 15, 42, 39, tzinfo=tzlocal()), 'temperature', 15.489999999999998), (datetime.datetime(2021, 9, 22, 15, 42, 43, tzinfo=tzlocal()), 'temperature', 14.489999999999998), (datetime.datetime(2021, 9, 22, 15, 42, 47, tzinfo=tzlocal()), 'temperature', 19.49), (datetime.datetime(2021, 9, 22, 15, 42, 51, tzinfo=tzlocal()), 'temperature', 16.49), (datetime.datetime(2021, 9, 22, 15, 42, 55, tzinfo=tzlocal()), 'temperature', 16.49), (datetime.datetime(2021, 9, 22, 15, 42, 59, tzinfo=tzlocal()), 'temperature', 17.49), (datetime.datetime(2021, 9, 22, 15, 43, 2, tzinfo=tzlocal()), 'temperature', 15.489999999999998), (datetime.datetime(2021, 9, 22, 15, 43, 6, tzinfo=tzlocal()), 'temperature', 17.49), (datetime.datetime(2021, 9, 22, 15, 43, 10, tzinfo=tzlocal()), 'temperature', 17.49), (datetime.datetime(2021, 9, 22, 15, 43, 14, tzinfo=tzlocal()), 'temperature', 15.489999999999998), (datetime.datetime(2021, 9, 22, 15, 43, 18, tzinfo=tzlocal()), 'temperature', 19.49), (datetime.datetime(2021, 9, 22, 15, 43, 22, tzinfo=tzlocal()), 'temperature', 17.49), (datetime.datetime(2021, 9, 22, 15, 43, 26, tzinfo=tzlocal()), 'temperature', 15.489999999999998), (datetime.datetime(2021, 9, 22, 15, 43, 30, tzinfo=tzlocal()), 'temperature', 15.489999999999998), (datetime.datetime(2021, 9, 22, 15, 43, 33, tzinfo=tzlocal()), 'temperature', 16.49), (datetime.datetime(2021, 9, 22, 15, 43, 37, tzinfo=tzlocal()), 'temperature', 17.49), (datetime.datetime(2021, 9, 22, 15, 43, 41, tzinfo=tzlocal()), 'temperature', 19.49), (datetime.datetime(2021, 9, 22, 15, 43, 45, tzinfo=tzlocal()), 'temperature', 17.49), (datetime.datetime(2021, 9, 22, 15, 43, 49, tzinfo=tzlocal()), 'temperature', 14.489999999999998), (datetime.datetime(2021, 9, 22, 15, 43, 53, tzinfo=tzlocal()), 'temperature', 19.35), (datetime.datetime(2021, 9, 22, 15, 43, 57, tzinfo=tzlocal()), 'temperature', 14.350000000000001), (datetime.datetime(2021, 9, 22, 15, 44, 1, tzinfo=tzlocal()), 'temperature', 16.35), (datetime.datetime(2021, 9, 22, 15, 44, 5, tzinfo=tzlocal()), 'temperature', 18.35), (datetime.datetime(2021, 9, 22, 15, 44, 9, tzinfo=tzlocal()), 'temperature', 17.35), (datetime.datetime(2021, 9, 22, 15, 44, 13, tzinfo=tzlocal()), 'temperature', 17.35), (datetime.datetime(2021, 9, 22, 15, 44, 17, tzinfo=tzlocal()), 'temperature', 19.35), (datetime.datetime(2021, 9, 22, 15, 44, 21, tzinfo=tzlocal()), 'temperature', 17.35), (datetime.datetime(2021, 9, 22, 15, 44, 24, tzinfo=tzlocal()), 'temperature', 18.35), (datetime.datetime(2021, 9, 22, 15, 44, 28, tzinfo=tzlocal()), 'temperature', 15.350000000000001), (datetime.datetime(2021, 9, 22, 15, 44, 32, tzinfo=tzlocal()), 'temperature', 17.35), (datetime.datetime(2021, 9, 22, 15, 44, 36, tzinfo=tzlocal()), 'temperature', 19.35), (datetime.datetime(2021, 9, 22, 15, 44, 40, tzinfo=tzlocal()), 'temperature', 18.35), (datetime.datetime(2021, 9, 22, 15, 44, 44, tzinfo=tzlocal()), 'temperature', 18.35), (datetime.datetime(2021, 9, 22, 15, 44, 48, tzinfo=tzlocal()), 'temperature', 14.350000000000001), (datetime.datetime(2021, 9, 22, 15, 44, 52, tzinfo=tzlocal()), 'temperature', 14.350000000000001), (datetime.datetime(2021, 9, 22, 15, 44, 56, tzinfo=tzlocal()), 'temperature', 18.35), (datetime.datetime(2021, 9, 22, 15, 45, tzinfo=tzlocal()), 'temperature', 16.35), (datetime.datetime(2021, 9, 22, 15, 45, 3, tzinfo=tzlocal()), 'temperature', 18.35), (datetime.datetime(2021, 9, 22, 15, 45, 7, tzinfo=tzlocal()), 'temperature', 16.35), (datetime.datetime(2021, 9, 22, 15, 45, 11, tzinfo=tzlocal()), 'temperature', 18.35), (datetime.datetime(2021, 9, 22, 15, 45, 15, tzinfo=tzlocal()), 'temperature', 18.35), (datetime.datetime(2021, 9, 22, 15, 45, 19, tzinfo=tzlocal()), 'temperature', 19.35), (datetime.datetime(2021, 9, 22, 15, 45, 23, tzinfo=tzlocal()), 'temperature', 15.350000000000001), (datetime.datetime(2021, 9, 22, 15, 45, 27, tzinfo=tzlocal()), 'temperature', 16.35), (datetime.datetime(2021, 9, 22, 15, 45, 32, tzinfo=tzlocal()), 'temperature', 14.350000000000001), (datetime.datetime(2021, 9, 22, 15, 45, 36, tzinfo=tzlocal()), 'temperature', 15.350000000000001), (datetime.datetime(2021, 9, 22, 15, 45, 40, tzinfo=tzlocal()), 'temperature', 16.35), (datetime.datetime(2021, 9, 22, 15, 45, 44, tzinfo=tzlocal()), 'temperature', 15.350000000000001), (datetime.datetime(2021, 9, 22, 15, 45, 48, tzinfo=tzlocal()), 'temperature', 19.35), (datetime.datetime(2021, 9, 22, 15, 45, 52, tzinfo=tzlocal()), 'temperature', 18.35), (datetime.datetime(2021, 9, 22, 15, 45, 56, tzinfo=tzlocal()), 'temperature', 19.35), (datetime.datetime(2021, 9, 22, 15, 46, tzinfo=tzlocal()), 'temperature', 18.35), (datetime.datetime(2021, 9, 22, 15, 46, 3, tzinfo=tzlocal()), 'temperature', 14.350000000000001), (datetime.datetime(2021, 9, 22, 15, 46, 7, tzinfo=tzlocal()), 'temperature', 15.350000000000001), (datetime.datetime(2021, 9, 22, 15, 46, 11, tzinfo=tzlocal()), 'temperature', 17.35), (datetime.datetime(2021, 9, 22, 15, 46, 15, tzinfo=tzlocal()), 'temperature', 14.350000000000001), (datetime.datetime(2021, 9, 22, 15, 46, 19, tzinfo=tzlocal()), 'temperature', 16.35), (datetime.datetime(2021, 9, 22, 15, 46, 23, tzinfo=tzlocal()), 'temperature', 19.35), (datetime.datetime(2021, 9, 22, 15, 46, 26, tzinfo=tzlocal()), 'temperature', 16.35), (datetime.datetime(2021, 9, 22, 15, 46, 30, tzinfo=tzlocal()), 'temperature', 19.35), (datetime.datetime(2021, 9, 22, 15, 46, 34, tzinfo=tzlocal()), 'temperature', 18.35), (datetime.datetime(2021, 9, 22, 15, 46, 38, tzinfo=tzlocal()), 'temperature', 16.35), (datetime.datetime(2021, 9, 22, 15, 46, 42, tzinfo=tzlocal()), 'temperature', 18.35), (datetime.datetime(2021, 9, 22, 15, 46, 46, tzinfo=tzlocal()), 'temperature', 14.350000000000001), (datetime.datetime(2021, 9, 22, 15, 46, 50, tzinfo=tzlocal()), 'temperature', 17.35), (datetime.datetime(2021, 9, 22, 15, 46, 54, tzinfo=tzlocal()), 'temperature', 17.35), (datetime.datetime(2021, 9, 22, 15, 46, 57, tzinfo=tzlocal()), 'temperature', 19.35), (datetime.datetime(2021, 9, 22, 15, 47, 1, tzinfo=tzlocal()), 'temperature', 17.35), (datetime.datetime(2021, 9, 22, 15, 47, 5, tzinfo=tzlocal()), 'temperature', 14.350000000000001), (datetime.datetime(2021, 9, 22, 15, 47, 9, tzinfo=tzlocal()), 'temperature', 15.350000000000001), (datetime.datetime(2021, 9, 22, 15, 47, 13, tzinfo=tzlocal()), 'temperature', 15.350000000000001), (datetime.datetime(2021, 9, 22, 15, 47, 17, tzinfo=tzlocal()), 'temperature', 19.35), (datetime.datetime(2021, 9, 22, 15, 47, 21, tzinfo=tzlocal()), 'temperature', 15.350000000000001), (datetime.datetime(2021, 9, 22, 15, 47, 25, tzinfo=tzlocal()), 'temperature', 19.35), (datetime.datetime(2021, 9, 22, 15, 47, 29, tzinfo=tzlocal()), 'temperature', 17.35), (datetime.datetime(2021, 9, 22, 15, 47, 33, tzinfo=tzlocal()), 'temperature', 19.35), (datetime.datetime(2021, 9, 22, 15, 47, 37, tzinfo=tzlocal()), 'temperature', 17.35), (datetime.datetime(2021, 9, 22, 15, 47, 41, tzinfo=tzlocal()), 'temperature', 14.350000000000001), (datetime.datetime(2021, 9, 22, 15, 47, 44, tzinfo=tzlocal()), 'temperature', 18.35), (datetime.datetime(2021, 9, 22, 15, 47, 48, tzinfo=tzlocal()), 'temperature', 19.35), (datetime.datetime(2021, 9, 22, 15, 47, 52, tzinfo=tzlocal()), 'temperature', 16.35), (datetime.datetime(2021, 9, 22, 15, 47, 56, tzinfo=tzlocal()), 'temperature', 17.35), (datetime.datetime(2021, 9, 22, 15, 48, tzinfo=tzlocal()), 'temperature', 15.350000000000001), (datetime.datetime(2021, 9, 22, 15, 48, 4, tzinfo=tzlocal()), 'temperature', 18.35), (datetime.datetime(2021, 9, 22, 15, 48, 8, tzinfo=tzlocal()), 'temperature', 17.35), (datetime.datetime(2021, 9, 22, 15, 48, 11, tzinfo=tzlocal()), 'temperature', 19.35), (datetime.datetime(2021, 9, 22, 15, 48, 15, tzinfo=tzlocal()), 'temperature', 18.35), (datetime.datetime(2021, 9, 22, 15, 48, 19, tzinfo=tzlocal()), 'temperature', 18.35), (datetime.datetime(2021, 9, 22, 15, 48, 22, tzinfo=tzlocal()), 'temperature', 14.350000000000001), (datetime.datetime(2021, 9, 22, 15, 48, 26, tzinfo=tzlocal()), 'temperature', 18.35), (datetime.datetime(2021, 9, 22, 15, 48, 31, tzinfo=tzlocal()), 'temperature', 19.35), (datetime.datetime(2021, 9, 22, 15, 48, 34, tzinfo=tzlocal()), 'temperature', 18.35), (datetime.datetime(2021, 9, 22, 15, 48, 38, tzinfo=tzlocal()), 'temperature', 15.350000000000001), (datetime.datetime(2021, 9, 22, 15, 48, 42, tzinfo=tzlocal()), 'temperature', 16.35), (datetime.datetime(2021, 9, 22, 15, 48, 46, tzinfo=tzlocal()), 'temperature', 18.35), (datetime.datetime(2021, 9, 22, 15, 48, 50, tzinfo=tzlocal()), 'temperature', 18.35), (datetime.datetime(2021, 9, 22, 15, 48, 54, tzinfo=tzlocal()), 'temperature', 19.35), (datetime.datetime(2021, 9, 22, 15, 48, 58, tzinfo=tzlocal()), 'temperature', 18.35), (datetime.datetime(2021, 9, 22, 15, 49, 2, tzinfo=tzlocal()), 'temperature', 18.35), (datetime.datetime(2021, 9, 22, 15, 49, 5, tzinfo=tzlocal()), 'temperature', 16.35), (datetime.datetime(2021, 9, 22, 15, 49, 9, tzinfo=tzlocal()), 'temperature', 14.350000000000001), (datetime.datetime(2021, 9, 22, 15, 49, 13, tzinfo=tzlocal()), 'temperature', 19.35), (datetime.datetime(2021, 9, 22, 15, 49, 17, tzinfo=tzlocal()), 'temperature', 19.35), (datetime.datetime(2021, 9, 22, 15, 49, 21, tzinfo=tzlocal()), 'temperature', 18.35), (datetime.datetime(2021, 9, 22, 15, 49, 25, tzinfo=tzlocal()), 'temperature', 14.350000000000001), (datetime.datetime(2021, 9, 22, 15, 49, 29, tzinfo=tzlocal()), 'temperature', 18.35), (datetime.datetime(2021, 9, 22, 15, 49, 32, tzinfo=tzlocal()), 'temperature', 17.35), (datetime.datetime(2021, 9, 22, 15, 49, 36, tzinfo=tzlocal()), 'temperature', 19.35), (datetime.datetime(2021, 9, 22, 15, 49, 40, tzinfo=tzlocal()), 'temperature', 18.35), (datetime.datetime(2021, 9, 22, 15, 49, 44, tzinfo=tzlocal()), 'temperature', 16.35), (datetime.datetime(2021, 9, 22, 15, 49, 48, tzinfo=tzlocal()), 'temperature', 14.350000000000001), (datetime.datetime(2021, 9, 22, 15, 49, 51, tzinfo=tzlocal()), 'temperature', 14.350000000000001), (datetime.datetime(2021, 9, 22, 15, 49, 55, tzinfo=tzlocal()), 'temperature', 19.35), (datetime.datetime(2021, 9, 22, 15, 49, 59, tzinfo=tzlocal()), 'temperature', 14.350000000000001), (datetime.datetime(2021, 9, 22, 15, 50, 2, tzinfo=tzlocal()), 'temperature', 19.35), (datetime.datetime(2021, 9, 22, 15, 50, 6, tzinfo=tzlocal()), 'temperature', 14.350000000000001), (datetime.datetime(2021, 9, 22, 15, 50, 10, tzinfo=tzlocal()), 'temperature', 16.35), (datetime.datetime(2021, 9, 22, 15, 50, 14, tzinfo=tzlocal()), 'temperature', 17.35), (datetime.datetime(2021, 9, 22, 15, 50, 18, tzinfo=tzlocal()), 'temperature', 17.35), (datetime.datetime(2021, 9, 22, 15, 50, 21, tzinfo=tzlocal()), 'temperature', 16.35), (datetime.datetime(2021, 9, 22, 15, 50, 25, tzinfo=tzlocal()), 'temperature', 17.35), (datetime.datetime(2021, 9, 22, 15, 50, 29, tzinfo=tzlocal()), 'temperature', 18.35), (datetime.datetime(2021, 9, 22, 15, 50, 33, tzinfo=tzlocal()), 'temperature', 19.35), (datetime.datetime(2021, 9, 22, 15, 50, 37, tzinfo=tzlocal()), 'temperature', 19.35), (datetime.datetime(2021, 9, 22, 15, 50, 41, tzinfo=tzlocal()), 'temperature', 15.350000000000001), (datetime.datetime(2021, 9, 22, 15, 50, 45, tzinfo=tzlocal()), 'temperature', 17.35), (datetime.datetime(2021, 9, 22, 15, 50, 48, tzinfo=tzlocal()), 'temperature', 18.35), (datetime.datetime(2021, 9, 22, 15, 50, 52, tzinfo=tzlocal()), 'temperature', 16.35), (datetime.datetime(2021, 9, 22, 15, 50, 56, tzinfo=tzlocal()), 'temperature', 19.35), (datetime.datetime(2021, 9, 22, 15, 51, tzinfo=tzlocal()), 'temperature', 19.35), (datetime.datetime(2021, 9, 22, 15, 51, 4, tzinfo=tzlocal()), 'temperature', 18.35), (datetime.datetime(2021, 9, 22, 15, 51, 8, tzinfo=tzlocal()), 'temperature', 19.35), (datetime.datetime(2021, 9, 22, 15, 51, 12, tzinfo=tzlocal()), 'temperature', 18.35), (datetime.datetime(2021, 9, 22, 15, 51, 16, tzinfo=tzlocal()), 'temperature', 16.35), (datetime.datetime(2021, 9, 22, 15, 51, 19, tzinfo=tzlocal()), 'temperature', 15.350000000000001), (datetime.datetime(2021, 9, 22, 15, 51, 23, tzinfo=tzlocal()), 'temperature', 16.35), (datetime.datetime(2021, 9, 22, 15, 51, 27, tzinfo=tzlocal()), 'temperature', 16.35), (datetime.datetime(2021, 9, 22, 15, 51, 31, tzinfo=tzlocal()), 'temperature', 14.350000000000001), (datetime.datetime(2021, 9, 22, 15, 51, 35, tzinfo=tzlocal()), 'temperature', 18.35), (datetime.datetime(2021, 9, 22, 15, 51, 39, tzinfo=tzlocal()), 'temperature', 19.35), (datetime.datetime(2021, 9, 22, 15, 51, 43, tzinfo=tzlocal()), 'temperature', 19.35), (datetime.datetime(2021, 9, 22, 15, 51, 47, tzinfo=tzlocal()), 'temperature', 19.35), (datetime.datetime(2021, 9, 22, 15, 51, 50, tzinfo=tzlocal()), 'temperature', 17.35), (datetime.datetime(2021, 9, 22, 15, 51, 54, tzinfo=tzlocal()), 'temperature', 14.350000000000001), (datetime.datetime(2021, 9, 22, 15, 51, 58, tzinfo=tzlocal()), 'temperature', 17.35), (datetime.datetime(2021, 9, 22, 15, 52, 2, tzinfo=tzlocal()), 'temperature', 15.350000000000001), (datetime.datetime(2021, 9, 22, 15, 52, 6, tzinfo=tzlocal()), 'temperature', 16.35), (datetime.datetime(2021, 9, 22, 15, 52, 11, tzinfo=tzlocal()), 'temperature', 16.35), (datetime.datetime(2021, 9, 22, 15, 52, 15, tzinfo=tzlocal()), 'temperature', 15.350000000000001), (datetime.datetime(2021, 9, 22, 15, 52, 19, tzinfo=tzlocal()), 'temperature', 15.350000000000001), (datetime.datetime(2021, 9, 22, 15, 52, 23, tzinfo=tzlocal()), 'temperature', 19.35), (datetime.datetime(2021, 9, 22, 15, 52, 27, tzinfo=tzlocal()), 'temperature', 18.35), (datetime.datetime(2021, 9, 22, 15, 52, 30, tzinfo=tzlocal()), 'temperature', 14.350000000000001), (datetime.datetime(2021, 9, 22, 15, 52, 34, tzinfo=tzlocal()), 'temperature', 14.350000000000001), (datetime.datetime(2021, 9, 22, 15, 52, 38, tzinfo=tzlocal()), 'temperature', 17.35), (datetime.datetime(2021, 9, 22, 15, 52, 42, tzinfo=tzlocal()), 'temperature', 14.350000000000001), (datetime.datetime(2021, 9, 22, 15, 52, 46, tzinfo=tzlocal()), 'temperature', 16.35), (datetime.datetime(2021, 9, 22, 15, 52, 51, tzinfo=tzlocal()), 'temperature', 17.35), (datetime.datetime(2021, 9, 22, 15, 52, 55, tzinfo=tzlocal()), 'temperature', 15.350000000000001), (datetime.datetime(2021, 9, 22, 15, 52, 59, tzinfo=tzlocal()), 'temperature', 18.35), (datetime.datetime(2021, 9, 22, 15, 53, 3, tzinfo=tzlocal()), 'temperature', 18.35), (datetime.datetime(2021, 9, 22, 15, 53, 9, tzinfo=tzlocal()), 'temperature', 15.350000000000001), (datetime.datetime(2021, 9, 22, 15, 53, 13, tzinfo=tzlocal()), 'temperature', 19.35), (datetime.datetime(2021, 9, 22, 15, 53, 18, tzinfo=tzlocal()), 'temperature', 17.35), (datetime.datetime(2021, 9, 22, 15, 53, 22, tzinfo=tzlocal()), 'temperature', 19.35), (datetime.datetime(2021, 9, 22, 15, 53, 26, tzinfo=tzlocal()), 'temperature', 17.35), (datetime.datetime(2021, 9, 22, 15, 53, 30, tzinfo=tzlocal()), 'temperature', 18.35), (datetime.datetime(2021, 9, 22, 15, 53, 33, tzinfo=tzlocal()), 'temperature', 16.35), (datetime.datetime(2021, 9, 22, 15, 53, 37, tzinfo=tzlocal()), 'temperature', 16.35), (datetime.datetime(2021, 9, 22, 15, 53, 41, tzinfo=tzlocal()), 'temperature', 17.35), (datetime.datetime(2021, 9, 22, 15, 53, 45, tzinfo=tzlocal()), 'temperature', 19.35), (datetime.datetime(2021, 9, 22, 15, 53, 49, tzinfo=tzlocal()), 'temperature', 14.350000000000001), (datetime.datetime(2021, 9, 22, 15, 53, 53, tzinfo=tzlocal()), 'temperature', 17.35), (datetime.datetime(2021, 9, 22, 15, 53, 57, tzinfo=tzlocal()), 'temperature', 15.350000000000001), (datetime.datetime(2021, 9, 22, 15, 54, 1, tzinfo=tzlocal()), 'temperature', 15.350000000000001), (datetime.datetime(2021, 9, 22, 15, 54, 5, tzinfo=tzlocal()), 'temperature', 14.350000000000001), (datetime.datetime(2021, 9, 22, 15, 54, 9, tzinfo=tzlocal()), 'temperature', 18.35), (datetime.datetime(2021, 9, 22, 15, 54, 13, tzinfo=tzlocal()), 'temperature', 19.35), (datetime.datetime(2021, 9, 22, 15, 54, 17, tzinfo=tzlocal()), 'temperature', 16.35), (datetime.datetime(2021, 9, 22, 15, 54, 21, tzinfo=tzlocal()), 'temperature', 19.35), (datetime.datetime(2021, 9, 22, 15, 54, 24, tzinfo=tzlocal()), 'temperature', 16.35), (datetime.datetime(2021, 9, 22, 15, 54, 29, tzinfo=tzlocal()), 'temperature', 17.35), (datetime.datetime(2021, 9, 22, 15, 54, 33, tzinfo=tzlocal()), 'temperature', 14.350000000000001), (datetime.datetime(2021, 9, 22, 15, 54, 37, tzinfo=tzlocal()), 'temperature', 19.35), (datetime.datetime(2021, 9, 22, 15, 54, 41, tzinfo=tzlocal()), 'temperature', 17.35), (datetime.datetime(2021, 9, 22, 15, 54, 44, tzinfo=tzlocal()), 'temperature', 14.350000000000001), (datetime.datetime(2021, 9, 22, 15, 54, 48, tzinfo=tzlocal()), 'temperature', 15.350000000000001), (datetime.datetime(2021, 9, 22, 15, 54, 52, tzinfo=tzlocal()), 'temperature', 15.350000000000001), (datetime.datetime(2021, 9, 22, 15, 54, 56, tzinfo=tzlocal()), 'temperature', 19.35), (datetime.datetime(2021, 9, 22, 15, 55, tzinfo=tzlocal()), 'temperature', 15.350000000000001), (datetime.datetime(2021, 9, 22, 15, 55, 4, tzinfo=tzlocal()), 'temperature', 19.24), (datetime.datetime(2021, 9, 22, 15, 55, 8, tzinfo=tzlocal()), 'temperature', 19.24), (datetime.datetime(2021, 9, 22, 15, 55, 12, tzinfo=tzlocal()), 'temperature', 18.24), (datetime.datetime(2021, 9, 22, 15, 55, 15, tzinfo=tzlocal()), 'temperature', 18.24), (datetime.datetime(2021, 9, 22, 15, 55, 19, tzinfo=tzlocal()), 'temperature', 18.24), (datetime.datetime(2021, 9, 22, 15, 55, 23, tzinfo=tzlocal()), 'temperature', 15.239999999999998), (datetime.datetime(2021, 9, 22, 15, 55, 27, tzinfo=tzlocal()), 'temperature', 19.24), (datetime.datetime(2021, 9, 22, 15, 55, 32, tzinfo=tzlocal()), 'temperature', 16.24), (datetime.datetime(2021, 9, 22, 15, 55, 36, tzinfo=tzlocal()), 'temperature', 19.24), (datetime.datetime(2021, 9, 22, 15, 55, 40, tzinfo=tzlocal()), 'temperature', 17.24), (datetime.datetime(2021, 9, 22, 15, 55, 43, tzinfo=tzlocal()), 'temperature', 14.239999999999998), (datetime.datetime(2021, 9, 22, 15, 55, 47, tzinfo=tzlocal()), 'temperature', 14.239999999999998), (datetime.datetime(2021, 9, 22, 15, 55, 51, tzinfo=tzlocal()), 'temperature', 16.24), (datetime.datetime(2021, 9, 22, 15, 55, 55, tzinfo=tzlocal()), 'temperature', 14.239999999999998), (datetime.datetime(2021, 9, 22, 15, 55, 59, tzinfo=tzlocal()), 'temperature', 17.24), (datetime.datetime(2021, 9, 22, 15, 56, 3, tzinfo=tzlocal()), 'temperature', 16.24), (datetime.datetime(2021, 9, 22, 15, 56, 6, tzinfo=tzlocal()), 'temperature', 19.24), (datetime.datetime(2021, 9, 22, 15, 56, 10, tzinfo=tzlocal()), 'temperature', 15.239999999999998), (datetime.datetime(2021, 9, 22, 15, 56, 14, tzinfo=tzlocal()), 'temperature', 15.239999999999998), (datetime.datetime(2021, 9, 22, 15, 56, 18, tzinfo=tzlocal()), 'temperature', 14.239999999999998), (datetime.datetime(2021, 9, 22, 15, 56, 22, tzinfo=tzlocal()), 'temperature', 18.24), (datetime.datetime(2021, 9, 22, 15, 56, 26, tzinfo=tzlocal()), 'temperature', 18.24), (datetime.datetime(2021, 9, 22, 15, 56, 30, tzinfo=tzlocal()), 'temperature', 19.24), (datetime.datetime(2021, 9, 22, 15, 56, 34, tzinfo=tzlocal()), 'temperature', 15.239999999999998), (datetime.datetime(2021, 9, 22, 15, 56, 38, tzinfo=tzlocal()), 'temperature', 14.239999999999998), (datetime.datetime(2021, 9, 22, 15, 56, 42, tzinfo=tzlocal()), 'temperature', 19.24), (datetime.datetime(2021, 9, 22, 15, 56, 45, tzinfo=tzlocal()), 'temperature', 14.239999999999998), (datetime.datetime(2021, 9, 22, 15, 56, 49, tzinfo=tzlocal()), 'temperature', 16.24), (datetime.datetime(2021, 9, 22, 15, 56, 53, tzinfo=tzlocal()), 'temperature', 18.24), (datetime.datetime(2021, 9, 22, 15, 56, 57, tzinfo=tzlocal()), 'temperature', 16.24), (datetime.datetime(2021, 9, 22, 15, 57, 1, tzinfo=tzlocal()), 'temperature', 16.24), (datetime.datetime(2021, 9, 22, 15, 57, 5, tzinfo=tzlocal()), 'temperature', 14.239999999999998), (datetime.datetime(2021, 9, 22, 15, 57, 9, tzinfo=tzlocal()), 'temperature', 16.24), (datetime.datetime(2021, 9, 22, 15, 57, 13, tzinfo=tzlocal()), 'temperature', 16.24), (datetime.datetime(2021, 9, 22, 15, 57, 16, tzinfo=tzlocal()), 'temperature', 17.24), (datetime.datetime(2021, 9, 22, 14, 3, 53, 339315, tzinfo=tzlocal()), 'temperature', 23.0), (datetime.datetime(2021, 9, 22, 14, 4, tzinfo=tzlocal()), 'temperature', 10.06), (datetime.datetime(2021, 9, 22, 14, 4, 4, tzinfo=tzlocal()), 'temperature', 15.06), (datetime.datetime(2021, 9, 22, 14, 4, 7, tzinfo=tzlocal()), 'temperature', 11.06), (datetime.datetime(2021, 9, 22, 14, 4, 11, tzinfo=tzlocal()), 'temperature', 10.06), (datetime.datetime(2021, 9, 22, 14, 4, 14, tzinfo=tzlocal()), 'temperature', 14.06), (datetime.datetime(2021, 9, 22, 14, 4, 18, tzinfo=tzlocal()), 'temperature', 11.06), (datetime.datetime(2021, 9, 22, 14, 4, 21, tzinfo=tzlocal()), 'temperature', 11.06), (datetime.datetime(2021, 9, 22, 14, 4, 24, tzinfo=tzlocal()), 'temperature', 11.06), (datetime.datetime(2021, 9, 22, 14, 4, 28, tzinfo=tzlocal()), 'temperature', 15.06), (datetime.datetime(2021, 9, 22, 14, 4, 31, tzinfo=tzlocal()), 'temperature', 14.06), (datetime.datetime(2021, 9, 22, 14, 4, 35, tzinfo=tzlocal()), 'temperature', 10.06), (datetime.datetime(2021, 9, 22, 14, 4, 38, tzinfo=tzlocal()), 'temperature', 12.06), (datetime.datetime(2021, 9, 22, 14, 4, 41, tzinfo=tzlocal()), 'temperature', 11.06), (datetime.datetime(2021, 9, 22, 14, 4, 45, tzinfo=tzlocal()), 'temperature', 11.06), (datetime.datetime(2021, 9, 22, 14, 4, 49, tzinfo=tzlocal()), 'temperature', 12.06), (datetime.datetime(2021, 9, 22, 14, 4, 52, tzinfo=tzlocal()), 'temperature', 11.06), (datetime.datetime(2021, 9, 22, 14, 4, 55, tzinfo=tzlocal()), 'temperature', 11.06), (datetime.datetime(2021, 9, 22, 14, 4, 59, tzinfo=tzlocal()), 'temperature', 10.06), (datetime.datetime(2021, 9, 22, 14, 5, 2, tzinfo=tzlocal()), 'temperature', 11.06), (datetime.datetime(2021, 9, 22, 14, 5, 6, tzinfo=tzlocal()), 'temperature', 10.06), (datetime.datetime(2021, 9, 22, 14, 5, 9, tzinfo=tzlocal()), 'temperature', 14.06), (datetime.datetime(2021, 9, 22, 14, 5, 13, tzinfo=tzlocal()), 'temperature', 10.06), (datetime.datetime(2021, 9, 22, 14, 5, 16, tzinfo=tzlocal()), 'temperature', 12.06), (datetime.datetime(2021, 9, 22, 14, 5, 20, tzinfo=tzlocal()), 'temperature', 11.06), (datetime.datetime(2021, 9, 22, 14, 5, 23, tzinfo=tzlocal()), 'temperature', 12.06), (datetime.datetime(2021, 9, 22, 14, 5, 27, tzinfo=tzlocal()), 'temperature', 12.06), (datetime.datetime(2021, 9, 22, 14, 5, 30, tzinfo=tzlocal()), 'temperature', 14.06), (datetime.datetime(2021, 9, 22, 14, 5, 34, tzinfo=tzlocal()), 'temperature', 11.06), (datetime.datetime(2021, 9, 22, 14, 5, 37, tzinfo=tzlocal()), 'temperature', 13.06), (datetime.datetime(2021, 9, 22, 14, 5, 41, tzinfo=tzlocal()), 'temperature', 14.06), (datetime.datetime(2021, 9, 22, 14, 5, 44, tzinfo=tzlocal()), 'temperature', 13.06), (datetime.datetime(2021, 9, 22, 14, 5, 47, tzinfo=tzlocal()), 'temperature', 12.06), (datetime.datetime(2021, 9, 22, 14, 5, 51, tzinfo=tzlocal()), 'temperature', 14.06), (datetime.datetime(2021, 9, 22, 14, 5, 54, tzinfo=tzlocal()), 'temperature', 12.06), (datetime.datetime(2021, 9, 22, 14, 5, 58, tzinfo=tzlocal()), 'temperature', 10.06), (datetime.datetime(2021, 9, 22, 14, 6, 1, tzinfo=tzlocal()), 'temperature', 13.06), (datetime.datetime(2021, 9, 22, 14, 6, 5, tzinfo=tzlocal()), 'temperature', 12.06), (datetime.datetime(2021, 9, 22, 14, 6, 9, tzinfo=tzlocal()), 'temperature', 14.06), (datetime.datetime(2021, 9, 22, 14, 6, 12, tzinfo=tzlocal()), 'temperature', 11.06), (datetime.datetime(2021, 9, 22, 14, 6, 16, tzinfo=tzlocal()), 'temperature', 13.06), (datetime.datetime(2021, 9, 22, 14, 6, 19, tzinfo=tzlocal()), 'temperature', 14.06), (datetime.datetime(2021, 9, 22, 14, 6, 23, tzinfo=tzlocal()), 'temperature', 10.06), (datetime.datetime(2021, 9, 22, 14, 6, 26, tzinfo=tzlocal()), 'temperature', 12.06), (datetime.datetime(2021, 9, 22, 14, 6, 29, tzinfo=tzlocal()), 'temperature', 12.06), (datetime.datetime(2021, 9, 22, 14, 6, 33, tzinfo=tzlocal()), 'temperature', 15.06), (datetime.datetime(2021, 9, 22, 14, 6, 36, tzinfo=tzlocal()), 'temperature', 11.06), (datetime.datetime(2021, 9, 22, 14, 6, 40, tzinfo=tzlocal()), 'temperature', 12.06), (datetime.datetime(2021, 9, 22, 14, 6, 43, tzinfo=tzlocal()), 'temperature', 13.06), (datetime.datetime(2021, 9, 22, 14, 6, 47, tzinfo=tzlocal()), 'temperature', 15.06), (datetime.datetime(2021, 9, 22, 14, 6, 50, tzinfo=tzlocal()), 'temperature', 12.06), (datetime.datetime(2021, 9, 22, 14, 6, 53, tzinfo=tzlocal()), 'temperature', 11.06), (datetime.datetime(2021, 9, 22, 14, 6, 57, tzinfo=tzlocal()), 'temperature', 15.06), (datetime.datetime(2021, 9, 22, 14, 7, tzinfo=tzlocal()), 'temperature', 15.06), (datetime.datetime(2021, 9, 22, 14, 7, 4, tzinfo=tzlocal()), 'temperature', 14.06), (datetime.datetime(2021, 9, 22, 14, 7, 7, tzinfo=tzlocal()), 'temperature', 12.06), (datetime.datetime(2021, 9, 22, 14, 7, 11, tzinfo=tzlocal()), 'temperature', 13.06), (datetime.datetime(2021, 9, 22, 14, 7, 14, tzinfo=tzlocal()), 'temperature', 11.06), (datetime.datetime(2021, 9, 22, 14, 7, 17, tzinfo=tzlocal()), 'temperature', 14.06), (datetime.datetime(2021, 9, 22, 14, 7, 21, tzinfo=tzlocal()), 'temperature', 10.06), (datetime.datetime(2021, 9, 22, 14, 7, 24, tzinfo=tzlocal()), 'temperature', 12.06), (datetime.datetime(2021, 9, 22, 14, 7, 28, tzinfo=tzlocal()), 'temperature', 12.06), (datetime.datetime(2021, 9, 22, 14, 7, 31, tzinfo=tzlocal()), 'temperature', 11.06), (datetime.datetime(2021, 9, 22, 14, 7, 35, tzinfo=tzlocal()), 'temperature', 12.06), (datetime.datetime(2021, 9, 22, 14, 7, 38, tzinfo=tzlocal()), 'temperature', 15.06), (datetime.datetime(2021, 9, 22, 14, 7, 41, tzinfo=tzlocal()), 'temperature', 10.06), (datetime.datetime(2021, 9, 22, 14, 7, 45, tzinfo=tzlocal()), 'temperature', 15.06), (datetime.datetime(2021, 9, 22, 14, 7, 48, tzinfo=tzlocal()), 'temperature', 12.06), (datetime.datetime(2021, 9, 22, 14, 7, 52, tzinfo=tzlocal()), 'temperature', 12.06), (datetime.datetime(2021, 9, 22, 14, 7, 55, tzinfo=tzlocal()), 'temperature', 10.06), (datetime.datetime(2021, 9, 22, 14, 7, 59, tzinfo=tzlocal()), 'temperature', 11.06), (datetime.datetime(2021, 9, 22, 14, 8, 2, tzinfo=tzlocal()), 'temperature', 12.06), (datetime.datetime(2021, 9, 22, 14, 8, 5, tzinfo=tzlocal()), 'temperature', 13.06), (datetime.datetime(2021, 9, 22, 14, 8, 9, tzinfo=tzlocal()), 'temperature', 11.06), (datetime.datetime(2021, 9, 22, 14, 8, 12, tzinfo=tzlocal()), 'temperature', 12.06), (datetime.datetime(2021, 9, 22, 14, 8, 16, tzinfo=tzlocal()), 'temperature', 10.06), (datetime.datetime(2021, 9, 22, 14, 8, 19, tzinfo=tzlocal()), 'temperature', 10.06), (datetime.datetime(2021, 9, 22, 14, 8, 23, tzinfo=tzlocal()), 'temperature', 10.06), (datetime.datetime(2021, 9, 22, 14, 8, 26, tzinfo=tzlocal()), 'temperature', 11.06), (datetime.datetime(2021, 9, 22, 14, 8, 29, tzinfo=tzlocal()), 'temperature', 14.06), (datetime.datetime(2021, 9, 22, 14, 8, 33, tzinfo=tzlocal()), 'temperature', 13.06), (datetime.datetime(2021, 9, 22, 14, 8, 36, tzinfo=tzlocal()), 'temperature', 12.06), (datetime.datetime(2021, 9, 22, 14, 8, 40, tzinfo=tzlocal()), 'temperature', 11.06), (datetime.datetime(2021, 9, 22, 14, 8, 43, tzinfo=tzlocal()), 'temperature', 15.06), (datetime.datetime(2021, 9, 22, 14, 8, 46, tzinfo=tzlocal()), 'temperature', 14.06), (datetime.datetime(2021, 9, 22, 14, 8, 50, tzinfo=tzlocal()), 'temperature', 10.06), (datetime.datetime(2021, 9, 22, 14, 8, 53, tzinfo=tzlocal()), 'temperature', 10.06), (datetime.datetime(2021, 9, 22, 14, 8, 57, tzinfo=tzlocal()), 'temperature', 14.06), (datetime.datetime(2021, 9, 22, 14, 9, tzinfo=tzlocal()), 'temperature', 12.06), (datetime.datetime(2021, 9, 22, 14, 9, 4, tzinfo=tzlocal()), 'temperature', 14.06), (datetime.datetime(2021, 9, 22, 14, 9, 7, tzinfo=tzlocal()), 'temperature', 11.06), (datetime.datetime(2021, 9, 22, 14, 9, 10, tzinfo=tzlocal()), 'temperature', 14.06), (datetime.datetime(2021, 9, 22, 14, 9, 14, tzinfo=tzlocal()), 'temperature', 13.06), (datetime.datetime(2021, 9, 22, 14, 9, 17, tzinfo=tzlocal()), 'temperature', 13.06), (datetime.datetime(2021, 9, 22, 14, 9, 21, tzinfo=tzlocal()), 'temperature', 14.06), (datetime.datetime(2021, 9, 22, 14, 9, 24, tzinfo=tzlocal()), 'temperature', 11.06), (datetime.datetime(2021, 9, 22, 14, 9, 28, tzinfo=tzlocal()), 'temperature', 13.06), (datetime.datetime(2021, 9, 22, 14, 9, 31, tzinfo=tzlocal()), 'temperature', 14.06), (datetime.datetime(2021, 9, 22, 14, 9, 35, tzinfo=tzlocal()), 'temperature', 11.06), (datetime.datetime(2021, 9, 22, 14, 9, 38, tzinfo=tzlocal()), 'temperature', 15.06), (datetime.datetime(2021, 9, 22, 14, 9, 41, tzinfo=tzlocal()), 'temperature', 14.06), (datetime.datetime(2021, 9, 22, 14, 9, 45, tzinfo=tzlocal()), 'temperature', 13.06), (datetime.datetime(2021, 9, 22, 14, 9, 48, tzinfo=tzlocal()), 'temperature', 11.06), (datetime.datetime(2021, 9, 22, 14, 9, 52, tzinfo=tzlocal()), 'temperature', 13.06), (datetime.datetime(2021, 9, 22, 14, 9, 55, tzinfo=tzlocal()), 'temperature', 13.06), (datetime.datetime(2021, 9, 22, 14, 9, 59, tzinfo=tzlocal()), 'temperature', 14.06), (datetime.datetime(2021, 9, 22, 14, 10, 2, tzinfo=tzlocal()), 'temperature', 13.06), (datetime.datetime(2021, 9, 22, 14, 10, 6, tzinfo=tzlocal()), 'temperature', 12.06), (datetime.datetime(2021, 9, 22, 14, 10, 9, tzinfo=tzlocal()), 'temperature', 15.06), (datetime.datetime(2021, 9, 22, 14, 10, 12, tzinfo=tzlocal()), 'temperature', 12.06), (datetime.datetime(2021, 9, 22, 14, 10, 16, tzinfo=tzlocal()), 'temperature', 12.06), (datetime.datetime(2021, 9, 22, 14, 10, 19, tzinfo=tzlocal()), 'temperature', 10.06), (datetime.datetime(2021, 9, 22, 14, 10, 23, tzinfo=tzlocal()), 'temperature', 13.06), (datetime.datetime(2021, 9, 22, 14, 10, 26, tzinfo=tzlocal()), 'temperature', 13.06), (datetime.datetime(2021, 9, 22, 14, 10, 29, tzinfo=tzlocal()), 'temperature', 13.06), (datetime.datetime(2021, 9, 22, 14, 10, 33, tzinfo=tzlocal()), 'temperature', 14.06), (datetime.datetime(2021, 9, 22, 14, 10, 36, tzinfo=tzlocal()), 'temperature', 11.06), (datetime.datetime(2021, 9, 22, 14, 10, 40, tzinfo=tzlocal()), 'temperature', 15.06), (datetime.datetime(2021, 9, 22, 14, 10, 43, tzinfo=tzlocal()), 'temperature', 14.06), (datetime.datetime(2021, 9, 22, 14, 10, 47, tzinfo=tzlocal()), 'temperature', 12.06), (datetime.datetime(2021, 9, 22, 14, 10, 50, tzinfo=tzlocal()), 'temperature', 12.06), (datetime.datetime(2021, 9, 22, 14, 10, 54, tzinfo=tzlocal()), 'temperature', 14.06), (datetime.datetime(2021, 9, 22, 14, 10, 57, tzinfo=tzlocal()), 'temperature', 11.06), (datetime.datetime(2021, 9, 22, 14, 11, tzinfo=tzlocal()), 'temperature', 11.06), (datetime.datetime(2021, 9, 22, 14, 11, 4, tzinfo=tzlocal()), 'temperature', 12.06), (datetime.datetime(2021, 9, 22, 14, 11, 7, tzinfo=tzlocal()), 'temperature', 12.06), (datetime.datetime(2021, 9, 22, 14, 11, 10, tzinfo=tzlocal()), 'temperature', 11.06), (datetime.datetime(2021, 9, 22, 14, 11, 14, tzinfo=tzlocal()), 'temperature', 12.06), (datetime.datetime(2021, 9, 22, 14, 11, 17, tzinfo=tzlocal()), 'temperature', 12.06), (datetime.datetime(2021, 9, 22, 14, 11, 21, tzinfo=tzlocal()), 'temperature', 10.06), (datetime.datetime(2021, 9, 22, 14, 11, 24, tzinfo=tzlocal()), 'temperature', 10.06), (datetime.datetime(2021, 9, 22, 14, 11, 27, tzinfo=tzlocal()), 'temperature', 12.06), (datetime.datetime(2021, 9, 22, 14, 11, 31, tzinfo=tzlocal()), 'temperature', 12.06), (datetime.datetime(2021, 9, 22, 14, 11, 34, tzinfo=tzlocal()), 'temperature', 15.06), (datetime.datetime(2021, 9, 22, 14, 11, 38, tzinfo=tzlocal()), 'temperature', 11.06), (datetime.datetime(2021, 9, 22, 14, 11, 41, tzinfo=tzlocal()), 'temperature', 13.06), (datetime.datetime(2021, 9, 22, 14, 11, 45, tzinfo=tzlocal()), 'temperature', 13.06), (datetime.datetime(2021, 9, 22, 14, 11, 48, tzinfo=tzlocal()), 'temperature', 15.06), (datetime.datetime(2021, 9, 22, 14, 11, 51, tzinfo=tzlocal()), 'temperature', 14.06), (datetime.datetime(2021, 9, 22, 14, 11, 55, tzinfo=tzlocal()), 'temperature', 10.06), (datetime.datetime(2021, 9, 22, 14, 11, 58, tzinfo=tzlocal()), 'temperature', 11.06), (datetime.datetime(2021, 9, 22, 14, 12, 2, tzinfo=tzlocal()), 'temperature', 11.06), (datetime.datetime(2021, 9, 22, 14, 12, 5, tzinfo=tzlocal()), 'temperature', 10.06), (datetime.datetime(2021, 9, 22, 14, 12, 9, tzinfo=tzlocal()), 'temperature', 10.06), (datetime.datetime(2021, 9, 22, 14, 12, 12, tzinfo=tzlocal()), 'temperature', 10.06), (datetime.datetime(2021, 9, 22, 14, 12, 16, tzinfo=tzlocal()), 'temperature', 11.06), (datetime.datetime(2021, 9, 22, 14, 12, 19, tzinfo=tzlocal()), 'temperature', 10.06), (datetime.datetime(2021, 9, 22, 14, 12, 23, tzinfo=tzlocal()), 'temperature', 14.06), (datetime.datetime(2021, 9, 22, 14, 12, 26, tzinfo=tzlocal()), 'temperature', 11.06), (datetime.datetime(2021, 9, 22, 14, 12, 29, tzinfo=tzlocal()), 'temperature', 11.06), (datetime.datetime(2021, 9, 22, 14, 12, 33, tzinfo=tzlocal()), 'temperature', 10.06), (datetime.datetime(2021, 9, 22, 14, 12, 36, tzinfo=tzlocal()), 'temperature', 10.06), (datetime.datetime(2021, 9, 22, 14, 12, 40, tzinfo=tzlocal()), 'temperature', 14.06), (datetime.datetime(2021, 9, 22, 14, 12, 43, tzinfo=tzlocal()), 'temperature', 10.06), (datetime.datetime(2021, 9, 22, 14, 12, 46, tzinfo=tzlocal()), 'temperature', 15.06), (datetime.datetime(2021, 9, 22, 14, 12, 50, tzinfo=tzlocal()), 'temperature', 11.06), (datetime.datetime(2021, 9, 22, 14, 12, 53, tzinfo=tzlocal()), 'temperature', 14.06), (datetime.datetime(2021, 9, 22, 14, 12, 57, tzinfo=tzlocal()), 'temperature', 13.06), (datetime.datetime(2021, 9, 22, 14, 13, tzinfo=tzlocal()), 'temperature', 13.06), (datetime.datetime(2021, 9, 22, 14, 13, 3, tzinfo=tzlocal()), 'temperature', 11.06), (datetime.datetime(2021, 9, 22, 14, 13, 7, tzinfo=tzlocal()), 'temperature', 10.06), (datetime.datetime(2021, 9, 22, 14, 13, 10, tzinfo=tzlocal()), 'temperature', 14.06), (datetime.datetime(2021, 9, 22, 14, 13, 14, tzinfo=tzlocal()), 'temperature', 14.06), (datetime.datetime(2021, 9, 22, 14, 13, 17, tzinfo=tzlocal()), 'temperature', 13.06), (datetime.datetime(2021, 9, 22, 14, 13, 20, tzinfo=tzlocal()), 'temperature', 15.06), (datetime.datetime(2021, 9, 22, 14, 13, 24, tzinfo=tzlocal()), 'temperature', 14.06), (datetime.datetime(2021, 9, 22, 14, 13, 27, tzinfo=tzlocal()), 'temperature', 13.06), (datetime.datetime(2021, 9, 22, 14, 13, 31, tzinfo=tzlocal()), 'temperature', 13.06), (datetime.datetime(2021, 9, 22, 14, 13, 34, tzinfo=tzlocal()), 'temperature', 13.06), (datetime.datetime(2021, 9, 22, 14, 13, 38, tzinfo=tzlocal()), 'temperature', 14.06), (datetime.datetime(2021, 9, 22, 14, 13, 41, tzinfo=tzlocal()), 'temperature', 11.06), (datetime.datetime(2021, 9, 22, 14, 13, 44, tzinfo=tzlocal()), 'temperature', 11.06), (datetime.datetime(2021, 9, 22, 14, 13, 48, tzinfo=tzlocal()), 'temperature', 12.06), (datetime.datetime(2021, 9, 22, 14, 13, 51, tzinfo=tzlocal()), 'temperature', 10.06), (datetime.datetime(2021, 9, 22, 14, 13, 54, tzinfo=tzlocal()), 'temperature', 15.06), (datetime.datetime(2021, 9, 22, 14, 13, 58, tzinfo=tzlocal()), 'temperature', 15.06), (datetime.datetime(2021, 9, 22, 14, 14, 1, tzinfo=tzlocal()), 'temperature', 12.06), (datetime.datetime(2021, 9, 22, 14, 14, 5, tzinfo=tzlocal()), 'temperature', 13.06), (datetime.datetime(2021, 9, 22, 14, 14, 8, tzinfo=tzlocal()), 'temperature', 14.06), (datetime.datetime(2021, 9, 22, 14, 14, 12, tzinfo=tzlocal()), 'temperature', 11.06), (datetime.datetime(2021, 9, 22, 14, 14, 15, tzinfo=tzlocal()), 'temperature', 11.06), (datetime.datetime(2021, 9, 22, 14, 14, 18, tzinfo=tzlocal()), 'temperature', 13.06), (datetime.datetime(2021, 9, 22, 14, 14, 22, tzinfo=tzlocal()), 'temperature', 10.06), (datetime.datetime(2021, 9, 22, 14, 14, 25, tzinfo=tzlocal()), 'temperature', 15.06), (datetime.datetime(2021, 9, 22, 14, 14, 29, tzinfo=tzlocal()), 'temperature', 13.06), (datetime.datetime(2021, 9, 22, 14, 14, 32, tzinfo=tzlocal()), 'temperature', 15.06), (datetime.datetime(2021, 9, 22, 14, 14, 35, tzinfo=tzlocal()), 'temperature', 13.06), (datetime.datetime(2021, 9, 22, 14, 14, 39, tzinfo=tzlocal()), 'temperature', 12.06), (datetime.datetime(2021, 9, 22, 14, 14, 42, tzinfo=tzlocal()), 'temperature', 15.06), (datetime.datetime(2021, 9, 22, 14, 14, 46, tzinfo=tzlocal()), 'temperature', 11.06), (datetime.datetime(2021, 9, 22, 14, 14, 49, tzinfo=tzlocal()), 'temperature', 14.06), (datetime.datetime(2021, 9, 22, 14, 14, 52, tzinfo=tzlocal()), 'temperature', 13.06), (datetime.datetime(2021, 9, 22, 14, 14, 56, tzinfo=tzlocal()), 'temperature', 11.06), (datetime.datetime(2021, 9, 22, 14, 14, 59, tzinfo=tzlocal()), 'temperature', 15.06), (datetime.datetime(2021, 9, 22, 14, 15, 3, tzinfo=tzlocal()), 'temperature', 14.06), (datetime.datetime(2021, 9, 22, 14, 15, 6, tzinfo=tzlocal()), 'temperature', 11.06), (datetime.datetime(2021, 9, 22, 14, 15, 9, tzinfo=tzlocal()), 'temperature', 12.06), (datetime.datetime(2021, 9, 22, 14, 15, 13, tzinfo=tzlocal()), 'temperature', 12.06), (datetime.datetime(2021, 9, 22, 14, 15, 16, tzinfo=tzlocal()), 'temperature', 10.06), (datetime.datetime(2021, 9, 22, 14, 15, 20, tzinfo=tzlocal()), 'temperature', 11.06), (datetime.datetime(2021, 9, 22, 14, 15, 23, tzinfo=tzlocal()), 'temperature', 15.06), (datetime.datetime(2021, 9, 22, 14, 15, 27, tzinfo=tzlocal()), 'temperature', 11.06), (datetime.datetime(2021, 9, 22, 14, 15, 30, tzinfo=tzlocal()), 'temperature', 11.06), (datetime.datetime(2021, 9, 22, 14, 15, 34, tzinfo=tzlocal()), 'temperature', 14.06), (datetime.datetime(2021, 9, 22, 14, 15, 37, tzinfo=tzlocal()), 'temperature', 15.06), (datetime.datetime(2021, 9, 22, 14, 15, 40, tzinfo=tzlocal()), 'temperature', 12.06), (datetime.datetime(2021, 9, 22, 14, 15, 44, tzinfo=tzlocal()), 'temperature', 10.06), (datetime.datetime(2021, 9, 22, 14, 15, 47, tzinfo=tzlocal()), 'temperature', 12.06), (datetime.datetime(2021, 9, 22, 14, 15, 51, tzinfo=tzlocal()), 'temperature', 14.06), (datetime.datetime(2021, 9, 22, 14, 15, 54, tzinfo=tzlocal()), 'temperature', 12.06), (datetime.datetime(2021, 9, 22, 14, 15, 57, tzinfo=tzlocal()), 'temperature', 11.06), (datetime.datetime(2021, 9, 22, 14, 16, 1, tzinfo=tzlocal()), 'temperature', 11.06), (datetime.datetime(2021, 9, 22, 14, 16, 4, tzinfo=tzlocal()), 'temperature', 14.06), (datetime.datetime(2021, 9, 22, 14, 16, 8, tzinfo=tzlocal()), 'temperature', 10.06), (datetime.datetime(2021, 9, 22, 14, 16, 11, tzinfo=tzlocal()), 'temperature', 14.06), (datetime.datetime(2021, 9, 22, 14, 16, 15, tzinfo=tzlocal()), 'temperature', 15.06), (datetime.datetime(2021, 9, 22, 14, 16, 18, tzinfo=tzlocal()), 'temperature', 14.06), (datetime.datetime(2021, 9, 22, 14, 16, 21, tzinfo=tzlocal()), 'temperature', 13.06), (datetime.datetime(2021, 9, 22, 14, 16, 25, tzinfo=tzlocal()), 'temperature', 14.06), (datetime.datetime(2021, 9, 22, 14, 16, 28, tzinfo=tzlocal()), 'temperature', 11.06), (datetime.datetime(2021, 9, 22, 14, 16, 32, tzinfo=tzlocal()), 'temperature', 12.06), (datetime.datetime(2021, 9, 22, 14, 16, 35, tzinfo=tzlocal()), 'temperature', 12.06), (datetime.datetime(2021, 9, 22, 14, 16, 39, tzinfo=tzlocal()), 'temperature', 13.06), (datetime.datetime(2021, 9, 22, 14, 16, 42, tzinfo=tzlocal()), 'temperature', 10.06), (datetime.datetime(2021, 9, 22, 14, 16, 45, tzinfo=tzlocal()), 'temperature', 10.06), (datetime.datetime(2021, 9, 22, 14, 16, 49, tzinfo=tzlocal()), 'temperature', 15.06), (datetime.datetime(2021, 9, 22, 14, 16, 52, tzinfo=tzlocal()), 'temperature', 11.06), (datetime.datetime(2021, 9, 22, 14, 16, 56, tzinfo=tzlocal()), 'temperature', 10.06), (datetime.datetime(2021, 9, 22, 14, 16, 59, tzinfo=tzlocal()), 'temperature', 13.06), (datetime.datetime(2021, 9, 22, 14, 17, 3, tzinfo=tzlocal()), 'temperature', 11.06), (datetime.datetime(2021, 9, 22, 14, 17, 6, tzinfo=tzlocal()), 'temperature', 14.06), (datetime.datetime(2021, 9, 22, 14, 17, 10, tzinfo=tzlocal()), 'temperature', 12.06), (datetime.datetime(2021, 9, 22, 14, 17, 13, tzinfo=tzlocal()), 'temperature', 14.06), (datetime.datetime(2021, 9, 22, 14, 17, 17, tzinfo=tzlocal()), 'temperature', 12.06), (datetime.datetime(2021, 9, 22, 14, 17, 20, tzinfo=tzlocal()), 'temperature', 10.06), (datetime.datetime(2021, 9, 22, 14, 17, 23, tzinfo=tzlocal()), 'temperature', 12.06), (datetime.datetime(2021, 9, 22, 14, 17, 27, tzinfo=tzlocal()), 'temperature', 14.06), (datetime.datetime(2021, 9, 22, 14, 17, 30, tzinfo=tzlocal()), 'temperature', 15.06), (datetime.datetime(2021, 9, 22, 14, 17, 34, tzinfo=tzlocal()), 'temperature', 12.06), (datetime.datetime(2021, 9, 22, 14, 17, 37, tzinfo=tzlocal()), 'temperature', 11.06), (datetime.datetime(2021, 9, 22, 14, 17, 40, tzinfo=tzlocal()), 'temperature', 14.06), (datetime.datetime(2021, 9, 22, 14, 17, 44, tzinfo=tzlocal()), 'temperature', 11.06), (datetime.datetime(2021, 9, 22, 14, 17, 47, tzinfo=tzlocal()), 'temperature', 15.06), (datetime.datetime(2021, 9, 22, 14, 17, 51, tzinfo=tzlocal()), 'temperature', 15.06), (datetime.datetime(2021, 9, 22, 14, 17, 54, tzinfo=tzlocal()), 'temperature', 10.06), (datetime.datetime(2021, 9, 22, 14, 17, 58, tzinfo=tzlocal()), 'temperature', 14.06), (datetime.datetime(2021, 9, 22, 14, 18, 1, tzinfo=tzlocal()), 'temperature', 11.06), (datetime.datetime(2021, 9, 22, 14, 18, 4, tzinfo=tzlocal()), 'temperature', 14.06), (datetime.datetime(2021, 9, 22, 14, 18, 8, tzinfo=tzlocal()), 'temperature', 15.06), (datetime.datetime(2021, 9, 22, 14, 18, 11, tzinfo=tzlocal()), 'temperature', 13.06), (datetime.datetime(2021, 9, 22, 14, 18, 15, tzinfo=tzlocal()), 'temperature', 15.06), (datetime.datetime(2021, 9, 22, 14, 18, 18, tzinfo=tzlocal()), 'temperature', 11.06), (datetime.datetime(2021, 9, 22, 14, 18, 21, tzinfo=tzlocal()), 'temperature', 13.06), (datetime.datetime(2021, 9, 22, 14, 18, 25, tzinfo=tzlocal()), 'temperature', 12.06), (datetime.datetime(2021, 9, 22, 14, 18, 28, tzinfo=tzlocal()), 'temperature', 13.06), (datetime.datetime(2021, 9, 22, 14, 18, 32, tzinfo=tzlocal()), 'temperature', 10.06), (datetime.datetime(2021, 9, 22, 14, 18, 35, tzinfo=tzlocal()), 'temperature', 15.06), (datetime.datetime(2021, 9, 22, 15, 26, 55, tzinfo=tzlocal()), 'temperature', 13.11), (datetime.datetime(2021, 9, 22, 15, 26, 59, tzinfo=tzlocal()), 'temperature', 15.11), (datetime.datetime(2021, 9, 22, 15, 27, 3, tzinfo=tzlocal()), 'temperature', 12.11), (datetime.datetime(2021, 9, 22, 15, 27, 7, tzinfo=tzlocal()), 'temperature', 15.11), (datetime.datetime(2021, 9, 22, 15, 27, 11, tzinfo=tzlocal()), 'temperature', 14.11), (datetime.datetime(2021, 9, 22, 15, 27, 15, tzinfo=tzlocal()), 'temperature', 14.11), (datetime.datetime(2021, 9, 22, 15, 27, 19, tzinfo=tzlocal()), 'temperature', 12.11), (datetime.datetime(2021, 9, 22, 15, 27, 23, tzinfo=tzlocal()), 'temperature', 12.11), (datetime.datetime(2021, 9, 22, 15, 27, 27, tzinfo=tzlocal()), 'temperature', 10.11), (datetime.datetime(2021, 9, 22, 15, 27, 31, tzinfo=tzlocal()), 'temperature', 11.11), (datetime.datetime(2021, 9, 22, 15, 27, 35, tzinfo=tzlocal()), 'temperature', 13.11), (datetime.datetime(2021, 9, 22, 15, 27, 39, tzinfo=tzlocal()), 'temperature', 13.11), (datetime.datetime(2021, 9, 22, 15, 27, 43, tzinfo=tzlocal()), 'temperature', 11.11), (datetime.datetime(2021, 9, 22, 15, 27, 47, tzinfo=tzlocal()), 'temperature', 13.11), (datetime.datetime(2021, 9, 22, 15, 27, 51, tzinfo=tzlocal()), 'temperature', 13.11), (datetime.datetime(2021, 9, 22, 15, 27, 55, tzinfo=tzlocal()), 'temperature', 13.11), (datetime.datetime(2021, 9, 22, 15, 27, 59, tzinfo=tzlocal()), 'temperature', 12.11), (datetime.datetime(2021, 9, 22, 15, 28, 3, tzinfo=tzlocal()), 'temperature', 11.11), (datetime.datetime(2021, 9, 22, 15, 28, 7, tzinfo=tzlocal()), 'temperature', 15.11), (datetime.datetime(2021, 9, 22, 15, 28, 11, tzinfo=tzlocal()), 'temperature', 12.11), (datetime.datetime(2021, 9, 22, 15, 28, 15, tzinfo=tzlocal()), 'temperature', 14.11), (datetime.datetime(2021, 9, 22, 15, 28, 18, tzinfo=tzlocal()), 'temperature', 13.11), (datetime.datetime(2021, 9, 22, 15, 28, 22, tzinfo=tzlocal()), 'temperature', 15.11), (datetime.datetime(2021, 9, 22, 15, 28, 26, tzinfo=tzlocal()), 'temperature', 13.11), (datetime.datetime(2021, 9, 22, 15, 28, 30, tzinfo=tzlocal()), 'temperature', 10.11), (datetime.datetime(2021, 9, 22, 15, 28, 34, tzinfo=tzlocal()), 'temperature', 12.11), (datetime.datetime(2021, 9, 22, 15, 28, 38, tzinfo=tzlocal()), 'temperature', 14.11), (datetime.datetime(2021, 9, 22, 15, 28, 42, tzinfo=tzlocal()), 'temperature', 15.11), (datetime.datetime(2021, 9, 22, 15, 28, 46, tzinfo=tzlocal()), 'temperature', 11.11), (datetime.datetime(2021, 9, 22, 15, 28, 50, tzinfo=tzlocal()), 'temperature', 12.11), (datetime.datetime(2021, 9, 22, 15, 28, 54, tzinfo=tzlocal()), 'temperature', 13.11), (datetime.datetime(2021, 9, 22, 15, 28, 57, tzinfo=tzlocal()), 'temperature', 14.11), (datetime.datetime(2021, 9, 22, 15, 29, 1, tzinfo=tzlocal()), 'temperature', 11.11), (datetime.datetime(2021, 9, 22, 15, 29, 5, tzinfo=tzlocal()), 'temperature', 14.11), (datetime.datetime(2021, 9, 22, 15, 29, 9, tzinfo=tzlocal()), 'temperature', 14.11), (datetime.datetime(2021, 9, 22, 15, 29, 13, tzinfo=tzlocal()), 'temperature', 15.11), (datetime.datetime(2021, 9, 22, 15, 29, 17, tzinfo=tzlocal()), 'temperature', 12.11), (datetime.datetime(2021, 9, 22, 15, 29, 21, tzinfo=tzlocal()), 'temperature', 13.11), (datetime.datetime(2021, 9, 22, 15, 29, 25, tzinfo=tzlocal()), 'temperature', 15.11), (datetime.datetime(2021, 9, 22, 15, 29, 29, tzinfo=tzlocal()), 'temperature', 13.11), (datetime.datetime(2021, 9, 22, 15, 29, 33, tzinfo=tzlocal()), 'temperature', 11.11), (datetime.datetime(2021, 9, 22, 15, 29, 37, tzinfo=tzlocal()), 'temperature', 15.11), (datetime.datetime(2021, 9, 22, 15, 29, 40, tzinfo=tzlocal()), 'temperature', 15.11), (datetime.datetime(2021, 9, 22, 15, 29, 44, tzinfo=tzlocal()), 'temperature', 11.11), (datetime.datetime(2021, 9, 22, 15, 29, 48, tzinfo=tzlocal()), 'temperature', 11.11), (datetime.datetime(2021, 9, 22, 15, 29, 52, tzinfo=tzlocal()), 'temperature', 15.11), (datetime.datetime(2021, 9, 22, 15, 29, 56, tzinfo=tzlocal()), 'temperature', 13.11), (datetime.datetime(2021, 9, 22, 15, 30, tzinfo=tzlocal()), 'temperature', 12.11), (datetime.datetime(2021, 9, 22, 15, 30, 4, tzinfo=tzlocal()), 'temperature', 13.11), (datetime.datetime(2021, 9, 22, 15, 30, 8, tzinfo=tzlocal()), 'temperature', 11.11), (datetime.datetime(2021, 9, 22, 15, 30, 12, tzinfo=tzlocal()), 'temperature', 14.11), (datetime.datetime(2021, 9, 22, 15, 30, 16, tzinfo=tzlocal()), 'temperature', 14.11), (datetime.datetime(2021, 9, 22, 15, 30, 20, tzinfo=tzlocal()), 'temperature', 10.11), (datetime.datetime(2021, 9, 22, 15, 30, 24, tzinfo=tzlocal()), 'temperature', 12.11), (datetime.datetime(2021, 9, 22, 15, 30, 28, tzinfo=tzlocal()), 'temperature', 13.11), (datetime.datetime(2021, 9, 22, 15, 30, 32, tzinfo=tzlocal()), 'temperature', 14.11), (datetime.datetime(2021, 9, 22, 15, 30, 36, tzinfo=tzlocal()), 'temperature', 15.11), (datetime.datetime(2021, 9, 22, 15, 30, 40, tzinfo=tzlocal()), 'temperature', 10.11), (datetime.datetime(2021, 9, 22, 15, 30, 44, tzinfo=tzlocal()), 'temperature', 15.1), (datetime.datetime(2021, 9, 22, 15, 30, 48, tzinfo=tzlocal()), 'temperature', 10.1), (datetime.datetime(2021, 9, 22, 15, 30, 52, tzinfo=tzlocal()), 'temperature', 12.1), (datetime.datetime(2021, 9, 22, 15, 30, 56, tzinfo=tzlocal()), 'temperature', 12.1), (datetime.datetime(2021, 9, 22, 15, 31, tzinfo=tzlocal()), 'temperature', 10.1), (datetime.datetime(2021, 9, 22, 15, 31, 4, tzinfo=tzlocal()), 'temperature', 12.1), (datetime.datetime(2021, 9, 22, 15, 31, 8, tzinfo=tzlocal()), 'temperature', 15.1), (datetime.datetime(2021, 9, 22, 15, 31, 12, tzinfo=tzlocal()), 'temperature', 12.1), (datetime.datetime(2021, 9, 22, 15, 31, 16, tzinfo=tzlocal()), 'temperature', 13.1), (datetime.datetime(2021, 9, 22, 15, 31, 20, tzinfo=tzlocal()), 'temperature', 11.1), (datetime.datetime(2021, 9, 22, 15, 31, 24, tzinfo=tzlocal()), 'temperature', 11.1), (datetime.datetime(2021, 9, 22, 15, 31, 28, tzinfo=tzlocal()), 'temperature', 14.1), (datetime.datetime(2021, 9, 22, 15, 31, 32, tzinfo=tzlocal()), 'temperature', 11.1), (datetime.datetime(2021, 9, 22, 15, 31, 36, tzinfo=tzlocal()), 'temperature', 11.1), (datetime.datetime(2021, 9, 22, 15, 31, 40, tzinfo=tzlocal()), 'temperature', 14.1), (datetime.datetime(2021, 9, 22, 15, 31, 44, tzinfo=tzlocal()), 'temperature', 11.1), (datetime.datetime(2021, 9, 22, 15, 31, 48, tzinfo=tzlocal()), 'temperature', 15.1), (datetime.datetime(2021, 9, 22, 15, 31, 52, tzinfo=tzlocal()), 'temperature', 14.1), (datetime.datetime(2021, 9, 22, 15, 31, 56, tzinfo=tzlocal()), 'temperature', 14.1), (datetime.datetime(2021, 9, 22, 15, 32, tzinfo=tzlocal()), 'temperature', 11.1), (datetime.datetime(2021, 9, 22, 15, 32, 4, tzinfo=tzlocal()), 'temperature', 12.1), (datetime.datetime(2021, 9, 22, 15, 32, 8, tzinfo=tzlocal()), 'temperature', 12.1), (datetime.datetime(2021, 9, 22, 15, 32, 12, tzinfo=tzlocal()), 'temperature', 15.1), (datetime.datetime(2021, 9, 22, 15, 32, 16, tzinfo=tzlocal()), 'temperature', 15.1), (datetime.datetime(2021, 9, 22, 15, 32, 20, tzinfo=tzlocal()), 'temperature', 14.1), (datetime.datetime(2021, 9, 22, 15, 32, 23, tzinfo=tzlocal()), 'temperature', 10.1), (datetime.datetime(2021, 9, 22, 15, 32, 27, tzinfo=tzlocal()), 'temperature', 15.1), (datetime.datetime(2021, 9, 22, 15, 32, 31, tzinfo=tzlocal()), 'temperature', 10.1), (datetime.datetime(2021, 9, 22, 15, 32, 35, tzinfo=tzlocal()), 'temperature', 14.1), (datetime.datetime(2021, 9, 22, 15, 32, 39, tzinfo=tzlocal()), 'temperature', 13.1), (datetime.datetime(2021, 9, 22, 15, 32, 43, tzinfo=tzlocal()), 'temperature', 15.1), (datetime.datetime(2021, 9, 22, 15, 32, 47, tzinfo=tzlocal()), 'temperature', 15.1), (datetime.datetime(2021, 9, 22, 15, 32, 51, tzinfo=tzlocal()), 'temperature', 14.1), (datetime.datetime(2021, 9, 22, 15, 32, 55, tzinfo=tzlocal()), 'temperature', 14.1), (datetime.datetime(2021, 9, 22, 15, 32, 59, tzinfo=tzlocal()), 'temperature', 14.1), (datetime.datetime(2021, 9, 22, 15, 33, 2, tzinfo=tzlocal()), 'temperature', 15.1), (datetime.datetime(2021, 9, 22, 15, 33, 6, tzinfo=tzlocal()), 'temperature', 13.1), (datetime.datetime(2021, 9, 22, 15, 33, 10, tzinfo=tzlocal()), 'temperature', 15.1), (datetime.datetime(2021, 9, 22, 15, 33, 14, tzinfo=tzlocal()), 'temperature', 15.1), (datetime.datetime(2021, 9, 22, 15, 33, 18, tzinfo=tzlocal()), 'temperature', 10.1), (datetime.datetime(2021, 9, 22, 15, 33, 22, tzinfo=tzlocal()), 'temperature', 14.1), (datetime.datetime(2021, 9, 22, 15, 33, 25, tzinfo=tzlocal()), 'temperature', 11.1), (datetime.datetime(2021, 9, 22, 15, 33, 29, tzinfo=tzlocal()), 'temperature', 12.1), (datetime.datetime(2021, 9, 22, 15, 33, 33, tzinfo=tzlocal()), 'temperature', 11.1), (datetime.datetime(2021, 9, 22, 15, 33, 37, tzinfo=tzlocal()), 'temperature', 12.1), (datetime.datetime(2021, 9, 22, 15, 33, 42, tzinfo=tzlocal()), 'temperature', 13.1), (datetime.datetime(2021, 9, 22, 15, 33, 45, tzinfo=tzlocal()), 'temperature', 11.1), (datetime.datetime(2021, 9, 22, 15, 33, 49, tzinfo=tzlocal()), 'temperature', 15.1), (datetime.datetime(2021, 9, 22, 15, 33, 53, tzinfo=tzlocal()), 'temperature', 11.1), (datetime.datetime(2021, 9, 22, 15, 33, 57, tzinfo=tzlocal()), 'temperature', 11.1), (datetime.datetime(2021, 9, 22, 15, 34, 1, tzinfo=tzlocal()), 'temperature', 10.1), (datetime.datetime(2021, 9, 22, 15, 34, 6, tzinfo=tzlocal()), 'temperature', 11.1), (datetime.datetime(2021, 9, 22, 15, 34, 9, tzinfo=tzlocal()), 'temperature', 12.1), (datetime.datetime(2021, 9, 22, 15, 34, 13, tzinfo=tzlocal()), 'temperature', 13.1), (datetime.datetime(2021, 9, 22, 15, 34, 17, tzinfo=tzlocal()), 'temperature', 13.1), (datetime.datetime(2021, 9, 22, 15, 34, 21, tzinfo=tzlocal()), 'temperature', 11.1), (datetime.datetime(2021, 9, 22, 15, 34, 25, tzinfo=tzlocal()), 'temperature', 10.1), (datetime.datetime(2021, 9, 22, 15, 34, 29, tzinfo=tzlocal()), 'temperature', 13.1), (datetime.datetime(2021, 9, 22, 15, 34, 33, tzinfo=tzlocal()), 'temperature', 14.1), (datetime.datetime(2021, 9, 22, 15, 34, 37, tzinfo=tzlocal()), 'temperature', 13.1), (datetime.datetime(2021, 9, 22, 15, 34, 40, tzinfo=tzlocal()), 'temperature', 14.1), (datetime.datetime(2021, 9, 22, 15, 34, 44, tzinfo=tzlocal()), 'temperature', 15.1), (datetime.datetime(2021, 9, 22, 15, 34, 48, tzinfo=tzlocal()), 'temperature', 14.1), (datetime.datetime(2021, 9, 22, 15, 34, 52, tzinfo=tzlocal()), 'temperature', 13.1), (datetime.datetime(2021, 9, 22, 15, 34, 56, tzinfo=tzlocal()), 'temperature', 15.1), (datetime.datetime(2021, 9, 22, 15, 35, tzinfo=tzlocal()), 'temperature', 15.1), (datetime.datetime(2021, 9, 22, 15, 35, 4, tzinfo=tzlocal()), 'temperature', 10.1), (datetime.datetime(2021, 9, 22, 15, 35, 8, tzinfo=tzlocal()), 'temperature', 10.1), (datetime.datetime(2021, 9, 22, 15, 35, 12, tzinfo=tzlocal()), 'temperature', 14.1), (datetime.datetime(2021, 9, 22, 15, 35, 16, tzinfo=tzlocal()), 'temperature', 11.1), (datetime.datetime(2021, 9, 22, 15, 35, 20, tzinfo=tzlocal()), 'temperature', 14.1), (datetime.datetime(2021, 9, 22, 15, 35, 23, tzinfo=tzlocal()), 'temperature', 15.1), (datetime.datetime(2021, 9, 22, 15, 35, 28, tzinfo=tzlocal()), 'temperature', 10.1), (datetime.datetime(2021, 9, 22, 15, 35, 32, tzinfo=tzlocal()), 'temperature', 10.1), (datetime.datetime(2021, 9, 22, 15, 35, 36, tzinfo=tzlocal()), 'temperature', 13.1), (datetime.datetime(2021, 9, 22, 15, 35, 40, tzinfo=tzlocal()), 'temperature', 10.1), (datetime.datetime(2021, 9, 22, 15, 35, 44, tzinfo=tzlocal()), 'temperature', 14.1), (datetime.datetime(2021, 9, 22, 15, 35, 48, tzinfo=tzlocal()), 'temperature', 11.1), (datetime.datetime(2021, 9, 22, 15, 35, 52, tzinfo=tzlocal()), 'temperature', 10.1), (datetime.datetime(2021, 9, 22, 15, 35, 56, tzinfo=tzlocal()), 'temperature', 12.1), (datetime.datetime(2021, 9, 22, 15, 36, tzinfo=tzlocal()), 'temperature', 14.1), (datetime.datetime(2021, 9, 22, 15, 36, 4, tzinfo=tzlocal()), 'temperature', 11.1), (datetime.datetime(2021, 9, 22, 15, 36, 8, tzinfo=tzlocal()), 'temperature', 12.1), (datetime.datetime(2021, 9, 22, 15, 36, 12, tzinfo=tzlocal()), 'temperature', 10.1), (datetime.datetime(2021, 9, 22, 15, 36, 16, tzinfo=tzlocal()), 'temperature', 13.1), (datetime.datetime(2021, 9, 22, 15, 36, 20, tzinfo=tzlocal()), 'temperature', 11.1), (datetime.datetime(2021, 9, 22, 15, 36, 24, tzinfo=tzlocal()), 'temperature', 10.1), (datetime.datetime(2021, 9, 22, 15, 36, 28, tzinfo=tzlocal()), 'temperature', 14.1), (datetime.datetime(2021, 9, 22, 15, 36, 32, tzinfo=tzlocal()), 'temperature', 13.1), (datetime.datetime(2021, 9, 22, 15, 36, 36, tzinfo=tzlocal()), 'temperature', 11.1), (datetime.datetime(2021, 9, 22, 15, 36, 40, tzinfo=tzlocal()), 'temperature', 13.1), (datetime.datetime(2021, 9, 22, 15, 36, 44, tzinfo=tzlocal()), 'temperature', 15.1), (datetime.datetime(2021, 9, 22, 15, 36, 48, tzinfo=tzlocal()), 'temperature', 11.1), (datetime.datetime(2021, 9, 22, 15, 36, 52, tzinfo=tzlocal()), 'temperature', 12.1), (datetime.datetime(2021, 9, 22, 15, 36, 56, tzinfo=tzlocal()), 'temperature', 15.1), (datetime.datetime(2021, 9, 22, 15, 37, tzinfo=tzlocal()), 'temperature', 14.1), (datetime.datetime(2021, 9, 22, 15, 37, 4, tzinfo=tzlocal()), 'temperature', 14.1), (datetime.datetime(2021, 9, 22, 15, 37, 8, tzinfo=tzlocal()), 'temperature', 14.1), (datetime.datetime(2021, 9, 22, 15, 37, 12, tzinfo=tzlocal()), 'temperature', 12.1), (datetime.datetime(2021, 9, 22, 15, 37, 16, tzinfo=tzlocal()), 'temperature', 11.1), (datetime.datetime(2021, 9, 22, 15, 37, 20, tzinfo=tzlocal()), 'temperature', 11.1), (datetime.datetime(2021, 9, 22, 15, 37, 24, tzinfo=tzlocal()), 'temperature', 11.1), (datetime.datetime(2021, 9, 22, 15, 37, 27, tzinfo=tzlocal()), 'temperature', 14.1), (datetime.datetime(2021, 9, 22, 15, 37, 32, tzinfo=tzlocal()), 'temperature', 12.1), (datetime.datetime(2021, 9, 22, 15, 37, 35, tzinfo=tzlocal()), 'temperature', 11.1), (datetime.datetime(2021, 9, 22, 15, 37, 39, tzinfo=tzlocal()), 'temperature', 11.1), (datetime.datetime(2021, 9, 22, 15, 37, 43, tzinfo=tzlocal()), 'temperature', 11.1), (datetime.datetime(2021, 9, 22, 15, 37, 47, tzinfo=tzlocal()), 'temperature', 15.1), (datetime.datetime(2021, 9, 22, 15, 37, 51, tzinfo=tzlocal()), 'temperature', 12.1), (datetime.datetime(2021, 9, 22, 15, 37, 55, tzinfo=tzlocal()), 'temperature', 14.1), (datetime.datetime(2021, 9, 22, 15, 37, 59, tzinfo=tzlocal()), 'temperature', 11.1), (datetime.datetime(2021, 9, 22, 15, 38, 3, tzinfo=tzlocal()), 'temperature', 11.1), (datetime.datetime(2021, 9, 22, 15, 38, 7, tzinfo=tzlocal()), 'temperature', 15.1), (datetime.datetime(2021, 9, 22, 15, 38, 11, tzinfo=tzlocal()), 'temperature', 13.1), (datetime.datetime(2021, 9, 22, 15, 38, 14, tzinfo=tzlocal()), 'temperature', 14.1), (datetime.datetime(2021, 9, 22, 15, 38, 18, tzinfo=tzlocal()), 'temperature', 13.1), (datetime.datetime(2021, 9, 22, 15, 38, 22, tzinfo=tzlocal()), 'temperature', 13.1), (datetime.datetime(2021, 9, 22, 15, 38, 26, tzinfo=tzlocal()), 'temperature', 12.1), (datetime.datetime(2021, 9, 22, 15, 38, 30, tzinfo=tzlocal()), 'temperature', 11.1), (datetime.datetime(2021, 9, 22, 15, 38, 34, tzinfo=tzlocal()), 'temperature', 15.1), (datetime.datetime(2021, 9, 22, 15, 38, 38, tzinfo=tzlocal()), 'temperature', 10.1), (datetime.datetime(2021, 9, 22, 15, 38, 42, tzinfo=tzlocal()), 'temperature', 10.1), (datetime.datetime(2021, 9, 22, 15, 38, 46, tzinfo=tzlocal()), 'temperature', 12.1), (datetime.datetime(2021, 9, 22, 15, 38, 50, tzinfo=tzlocal()), 'temperature', 13.1), (datetime.datetime(2021, 9, 22, 15, 38, 54, tzinfo=tzlocal()), 'temperature', 12.1), (datetime.datetime(2021, 9, 22, 15, 38, 58, tzinfo=tzlocal()), 'temperature', 10.1), (datetime.datetime(2021, 9, 22, 15, 39, 2, tzinfo=tzlocal()), 'temperature', 15.1), (datetime.datetime(2021, 9, 22, 15, 39, 6, tzinfo=tzlocal()), 'temperature', 14.1), (datetime.datetime(2021, 9, 22, 15, 39, 10, tzinfo=tzlocal()), 'temperature', 14.1), (datetime.datetime(2021, 9, 22, 15, 39, 14, tzinfo=tzlocal()), 'temperature', 13.1), (datetime.datetime(2021, 9, 22, 15, 39, 18, tzinfo=tzlocal()), 'temperature', 12.1), (datetime.datetime(2021, 9, 22, 15, 39, 22, tzinfo=tzlocal()), 'temperature', 14.1), (datetime.datetime(2021, 9, 22, 15, 39, 26, tzinfo=tzlocal()), 'temperature', 11.1), (datetime.datetime(2021, 9, 22, 15, 39, 30, tzinfo=tzlocal()), 'temperature', 12.1), (datetime.datetime(2021, 9, 22, 15, 39, 34, tzinfo=tzlocal()), 'temperature', 10.1), (datetime.datetime(2021, 9, 22, 15, 39, 38, tzinfo=tzlocal()), 'temperature', 12.1), (datetime.datetime(2021, 9, 22, 15, 39, 42, tzinfo=tzlocal()), 'temperature', 13.1), (datetime.datetime(2021, 9, 22, 15, 39, 46, tzinfo=tzlocal()), 'temperature', 15.1), (datetime.datetime(2021, 9, 22, 15, 39, 50, tzinfo=tzlocal()), 'temperature', 11.1), (datetime.datetime(2021, 9, 22, 15, 39, 54, tzinfo=tzlocal()), 'temperature', 12.1), (datetime.datetime(2021, 9, 22, 15, 39, 58, tzinfo=tzlocal()), 'temperature', 12.1), (datetime.datetime(2021, 9, 22, 15, 40, 1, tzinfo=tzlocal()), 'temperature', 13.1), (datetime.datetime(2021, 9, 22, 15, 40, 5, tzinfo=tzlocal()), 'temperature', 12.1), (datetime.datetime(2021, 9, 22, 15, 40, 9, tzinfo=tzlocal()), 'temperature', 12.1), (datetime.datetime(2021, 9, 22, 15, 40, 13, tzinfo=tzlocal()), 'temperature', 12.1), (datetime.datetime(2021, 9, 22, 15, 40, 16, tzinfo=tzlocal()), 'temperature', 12.1), (datetime.datetime(2021, 9, 22, 15, 40, 20, tzinfo=tzlocal()), 'temperature', 15.1), (datetime.datetime(2021, 9, 22, 15, 40, 24, tzinfo=tzlocal()), 'temperature', 14.1), (datetime.datetime(2021, 9, 22, 15, 40, 28, tzinfo=tzlocal()), 'temperature', 14.1), (datetime.datetime(2021, 9, 22, 15, 40, 32, tzinfo=tzlocal()), 'temperature', 13.1), (datetime.datetime(2021, 9, 22, 15, 40, 36, tzinfo=tzlocal()), 'temperature', 10.1), (datetime.datetime(2021, 9, 22, 15, 40, 39, tzinfo=tzlocal()), 'temperature', 14.1), (datetime.datetime(2021, 9, 22, 15, 40, 43, tzinfo=tzlocal()), 'temperature', 14.1), (datetime.datetime(2021, 9, 22, 15, 40, 47, tzinfo=tzlocal()), 'temperature', 14.02), (datetime.datetime(2021, 9, 22, 15, 40, 51, tzinfo=tzlocal()), 'temperature', 13.02), (datetime.datetime(2021, 9, 22, 15, 40, 54, tzinfo=tzlocal()), 'temperature', 14.02), (datetime.datetime(2021, 9, 22, 15, 40, 58, tzinfo=tzlocal()), 'temperature', 13.02), (datetime.datetime(2021, 9, 22, 15, 41, 2, tzinfo=tzlocal()), 'temperature', 15.02), (datetime.datetime(2021, 9, 22, 15, 41, 6, tzinfo=tzlocal()), 'temperature', 10.02), (datetime.datetime(2021, 9, 22, 15, 41, 10, tzinfo=tzlocal()), 'temperature', 15.02), (datetime.datetime(2021, 9, 22, 15, 41, 14, tzinfo=tzlocal()), 'temperature', 13.02), (datetime.datetime(2021, 9, 22, 15, 41, 18, tzinfo=tzlocal()), 'temperature', 13.02), (datetime.datetime(2021, 9, 22, 15, 41, 22, tzinfo=tzlocal()), 'temperature', 11.02), (datetime.datetime(2021, 9, 22, 15, 41, 25, tzinfo=tzlocal()), 'temperature', 12.02), (datetime.datetime(2021, 9, 22, 15, 41, 29, tzinfo=tzlocal()), 'temperature', 14.02), (datetime.datetime(2021, 9, 22, 15, 41, 33, tzinfo=tzlocal()), 'temperature', 15.02), (datetime.datetime(2021, 9, 22, 15, 41, 37, tzinfo=tzlocal()), 'temperature', 10.02), (datetime.datetime(2021, 9, 22, 15, 41, 42, tzinfo=tzlocal()), 'temperature', 11.02), (datetime.datetime(2021, 9, 22, 15, 41, 45, tzinfo=tzlocal()), 'temperature', 14.02), (datetime.datetime(2021, 9, 22, 15, 41, 49, tzinfo=tzlocal()), 'temperature', 13.02), (datetime.datetime(2021, 9, 22, 15, 41, 53, tzinfo=tzlocal()), 'temperature', 15.02), (datetime.datetime(2021, 9, 22, 15, 41, 57, tzinfo=tzlocal()), 'temperature', 12.02), (datetime.datetime(2021, 9, 22, 15, 42, 1, tzinfo=tzlocal()), 'temperature', 10.02), (datetime.datetime(2021, 9, 22, 15, 42, 5, tzinfo=tzlocal()), 'temperature', 12.02), (datetime.datetime(2021, 9, 22, 15, 42, 8, tzinfo=tzlocal()), 'temperature', 15.02), (datetime.datetime(2021, 9, 22, 15, 42, 12, tzinfo=tzlocal()), 'temperature', 14.02), (datetime.datetime(2021, 9, 22, 15, 42, 16, tzinfo=tzlocal()), 'temperature', 13.02), (datetime.datetime(2021, 9, 22, 15, 42, 20, tzinfo=tzlocal()), 'temperature', 13.02), (datetime.datetime(2021, 9, 22, 15, 42, 24, tzinfo=tzlocal()), 'temperature', 13.02), (datetime.datetime(2021, 9, 22, 15, 42, 28, tzinfo=tzlocal()), 'temperature', 14.02), (datetime.datetime(2021, 9, 22, 15, 42, 32, tzinfo=tzlocal()), 'temperature', 15.02), (datetime.datetime(2021, 9, 22, 15, 42, 35, tzinfo=tzlocal()), 'temperature', 11.02), (datetime.datetime(2021, 9, 22, 15, 42, 39, tzinfo=tzlocal()), 'temperature', 11.02), (datetime.datetime(2021, 9, 22, 15, 42, 43, tzinfo=tzlocal()), 'temperature', 15.02), (datetime.datetime(2021, 9, 22, 15, 42, 47, tzinfo=tzlocal()), 'temperature', 14.02), (datetime.datetime(2021, 9, 22, 15, 42, 51, tzinfo=tzlocal()), 'temperature', 11.02), (datetime.datetime(2021, 9, 22, 15, 42, 55, tzinfo=tzlocal()), 'temperature', 14.02), (datetime.datetime(2021, 9, 22, 15, 42, 59, tzinfo=tzlocal()), 'temperature', 11.02), (datetime.datetime(2021, 9, 22, 15, 43, 2, tzinfo=tzlocal()), 'temperature', 10.02), (datetime.datetime(2021, 9, 22, 15, 43, 6, tzinfo=tzlocal()), 'temperature', 15.02), (datetime.datetime(2021, 9, 22, 15, 43, 10, tzinfo=tzlocal()), 'temperature', 13.02), (datetime.datetime(2021, 9, 22, 15, 43, 14, tzinfo=tzlocal()), 'temperature', 15.02), (datetime.datetime(2021, 9, 22, 15, 43, 18, tzinfo=tzlocal()), 'temperature', 15.02), (datetime.datetime(2021, 9, 22, 15, 43, 22, tzinfo=tzlocal()), 'temperature', 13.02), (datetime.datetime(2021, 9, 22, 15, 43, 26, tzinfo=tzlocal()), 'temperature', 14.02), (datetime.datetime(2021, 9, 22, 15, 43, 30, tzinfo=tzlocal()), 'temperature', 14.02), (datetime.datetime(2021, 9, 22, 15, 43, 33, tzinfo=tzlocal()), 'temperature', 13.02), (datetime.datetime(2021, 9, 22, 15, 43, 37, tzinfo=tzlocal()), 'temperature', 10.02), (datetime.datetime(2021, 9, 22, 15, 43, 41, tzinfo=tzlocal()), 'temperature', 13.02), (datetime.datetime(2021, 9, 22, 15, 43, 45, tzinfo=tzlocal()), 'temperature', 12.02), (datetime.datetime(2021, 9, 22, 15, 43, 49, tzinfo=tzlocal()), 'temperature', 14.02), (datetime.datetime(2021, 9, 22, 15, 43, 53, tzinfo=tzlocal()), 'temperature', 12.02), (datetime.datetime(2021, 9, 22, 15, 43, 57, tzinfo=tzlocal()), 'temperature', 12.02), (datetime.datetime(2021, 9, 22, 15, 44, 1, tzinfo=tzlocal()), 'temperature', 14.02), (datetime.datetime(2021, 9, 22, 15, 44, 5, tzinfo=tzlocal()), 'temperature', 13.02), (datetime.datetime(2021, 9, 22, 15, 44, 9, tzinfo=tzlocal()), 'temperature', 15.02), (datetime.datetime(2021, 9, 22, 15, 44, 13, tzinfo=tzlocal()), 'temperature', 12.02), (datetime.datetime(2021, 9, 22, 15, 44, 17, tzinfo=tzlocal()), 'temperature', 10.02), (datetime.datetime(2021, 9, 22, 15, 44, 21, tzinfo=tzlocal()), 'temperature', 12.02), (datetime.datetime(2021, 9, 22, 15, 44, 24, tzinfo=tzlocal()), 'temperature', 10.02), (datetime.datetime(2021, 9, 22, 15, 44, 28, tzinfo=tzlocal()), 'temperature', 13.02), (datetime.datetime(2021, 9, 22, 15, 44, 32, tzinfo=tzlocal()), 'temperature', 11.02), (datetime.datetime(2021, 9, 22, 15, 44, 36, tzinfo=tzlocal()), 'temperature', 10.02), (datetime.datetime(2021, 9, 22, 15, 44, 40, tzinfo=tzlocal()), 'temperature', 10.02), (datetime.datetime(2021, 9, 22, 15, 44, 44, tzinfo=tzlocal()), 'temperature', 10.02), (datetime.datetime(2021, 9, 22, 15, 44, 48, tzinfo=tzlocal()), 'temperature', 13.02), (datetime.datetime(2021, 9, 22, 15, 44, 52, tzinfo=tzlocal()), 'temperature', 12.02), (datetime.datetime(2021, 9, 22, 15, 44, 56, tzinfo=tzlocal()), 'temperature', 10.02), (datetime.datetime(2021, 9, 22, 15, 45, tzinfo=tzlocal()), 'temperature', 15.02), (datetime.datetime(2021, 9, 22, 15, 45, 3, tzinfo=tzlocal()), 'temperature', 10.02), (datetime.datetime(2021, 9, 22, 15, 45, 7, tzinfo=tzlocal()), 'temperature', 13.02), (datetime.datetime(2021, 9, 22, 15, 45, 11, tzinfo=tzlocal()), 'temperature', 15.02), (datetime.datetime(2021, 9, 22, 15, 45, 15, tzinfo=tzlocal()), 'temperature', 10.02), (datetime.datetime(2021, 9, 22, 15, 45, 19, tzinfo=tzlocal()), 'temperature', 13.02), (datetime.datetime(2021, 9, 22, 15, 45, 23, tzinfo=tzlocal()), 'temperature', 12.02), (datetime.datetime(2021, 9, 22, 15, 45, 27, tzinfo=tzlocal()), 'temperature', 11.02), (datetime.datetime(2021, 9, 22, 15, 45, 32, tzinfo=tzlocal()), 'temperature', 13.02), (datetime.datetime(2021, 9, 22, 15, 45, 36, tzinfo=tzlocal()), 'temperature', 12.02), (datetime.datetime(2021, 9, 22, 15, 45, 40, tzinfo=tzlocal()), 'temperature', 13.02), (datetime.datetime(2021, 9, 22, 15, 45, 44, tzinfo=tzlocal()), 'temperature', 12.02), (datetime.datetime(2021, 9, 22, 15, 45, 48, tzinfo=tzlocal()), 'temperature', 14.02), (datetime.datetime(2021, 9, 22, 15, 45, 52, tzinfo=tzlocal()), 'temperature', 14.02), (datetime.datetime(2021, 9, 22, 15, 45, 56, tzinfo=tzlocal()), 'temperature', 13.02), (datetime.datetime(2021, 9, 22, 15, 46, tzinfo=tzlocal()), 'temperature', 11.02), (datetime.datetime(2021, 9, 22, 15, 46, 3, tzinfo=tzlocal()), 'temperature', 12.02), (datetime.datetime(2021, 9, 22, 15, 46, 7, tzinfo=tzlocal()), 'temperature', 10.02), (datetime.datetime(2021, 9, 22, 15, 46, 11, tzinfo=tzlocal()), 'temperature', 13.02), (datetime.datetime(2021, 9, 22, 15, 46, 15, tzinfo=tzlocal()), 'temperature', 15.02), (datetime.datetime(2021, 9, 22, 15, 46, 19, tzinfo=tzlocal()), 'temperature', 11.02), (datetime.datetime(2021, 9, 22, 15, 46, 23, tzinfo=tzlocal()), 'temperature', 14.02), (datetime.datetime(2021, 9, 22, 15, 46, 26, tzinfo=tzlocal()), 'temperature', 14.02), (datetime.datetime(2021, 9, 22, 15, 46, 30, tzinfo=tzlocal()), 'temperature', 13.02), (datetime.datetime(2021, 9, 22, 15, 46, 34, tzinfo=tzlocal()), 'temperature', 11.02), (datetime.datetime(2021, 9, 22, 15, 46, 38, tzinfo=tzlocal()), 'temperature', 14.02), (datetime.datetime(2021, 9, 22, 15, 46, 42, tzinfo=tzlocal()), 'temperature', 14.02), (datetime.datetime(2021, 9, 22, 15, 46, 46, tzinfo=tzlocal()), 'temperature', 12.02), (datetime.datetime(2021, 9, 22, 15, 46, 50, tzinfo=tzlocal()), 'temperature', 13.02), (datetime.datetime(2021, 9, 22, 15, 46, 54, tzinfo=tzlocal()), 'temperature', 10.02), (datetime.datetime(2021, 9, 22, 15, 46, 57, tzinfo=tzlocal()), 'temperature', 13.02), (datetime.datetime(2021, 9, 22, 15, 47, 1, tzinfo=tzlocal()), 'temperature', 15.02), (datetime.datetime(2021, 9, 22, 15, 47, 5, tzinfo=tzlocal()), 'temperature', 15.02), (datetime.datetime(2021, 9, 22, 15, 47, 9, tzinfo=tzlocal()), 'temperature', 12.02), (datetime.datetime(2021, 9, 22, 15, 47, 13, tzinfo=tzlocal()), 'temperature', 12.02), (datetime.datetime(2021, 9, 22, 15, 47, 17, tzinfo=tzlocal()), 'temperature', 10.02), (datetime.datetime(2021, 9, 22, 15, 47, 21, tzinfo=tzlocal()), 'temperature', 14.02), (datetime.datetime(2021, 9, 22, 15, 47, 25, tzinfo=tzlocal()), 'temperature', 15.02), (datetime.datetime(2021, 9, 22, 15, 47, 29, tzinfo=tzlocal()), 'temperature', 14.02), (datetime.datetime(2021, 9, 22, 15, 47, 33, tzinfo=tzlocal()), 'temperature', 10.02), (datetime.datetime(2021, 9, 22, 15, 47, 37, tzinfo=tzlocal()), 'temperature', 11.02), (datetime.datetime(2021, 9, 22, 15, 47, 41, tzinfo=tzlocal()), 'temperature', 11.02), (datetime.datetime(2021, 9, 22, 15, 47, 44, tzinfo=tzlocal()), 'temperature', 11.02), (datetime.datetime(2021, 9, 22, 15, 47, 48, tzinfo=tzlocal()), 'temperature', 12.02), (datetime.datetime(2021, 9, 22, 15, 47, 52, tzinfo=tzlocal()), 'temperature', 15.02), (datetime.datetime(2021, 9, 22, 15, 47, 56, tzinfo=tzlocal()), 'temperature', 12.02), (datetime.datetime(2021, 9, 22, 15, 48, tzinfo=tzlocal()), 'temperature', 14.02), (datetime.datetime(2021, 9, 22, 15, 48, 4, tzinfo=tzlocal()), 'temperature', 11.02), (datetime.datetime(2021, 9, 22, 15, 48, 8, tzinfo=tzlocal()), 'temperature', 12.02), (datetime.datetime(2021, 9, 22, 15, 48, 11, tzinfo=tzlocal()), 'temperature', 13.02), (datetime.datetime(2021, 9, 22, 15, 48, 15, tzinfo=tzlocal()), 'temperature', 14.02), (datetime.datetime(2021, 9, 22, 15, 48, 19, tzinfo=tzlocal()), 'temperature', 15.02), (datetime.datetime(2021, 9, 22, 15, 48, 22, tzinfo=tzlocal()), 'temperature', 12.02), (datetime.datetime(2021, 9, 22, 15, 48, 26, tzinfo=tzlocal()), 'temperature', 10.02), (datetime.datetime(2021, 9, 22, 15, 48, 31, tzinfo=tzlocal()), 'temperature', 12.02), (datetime.datetime(2021, 9, 22, 15, 48, 34, tzinfo=tzlocal()), 'temperature', 13.02), (datetime.datetime(2021, 9, 22, 15, 48, 38, tzinfo=tzlocal()), 'temperature', 12.02), (datetime.datetime(2021, 9, 22, 15, 48, 42, tzinfo=tzlocal()), 'temperature', 11.02), (datetime.datetime(2021, 9, 22, 15, 48, 46, tzinfo=tzlocal()), 'temperature', 14.02), (datetime.datetime(2021, 9, 22, 15, 48, 50, tzinfo=tzlocal()), 'temperature', 13.02), (datetime.datetime(2021, 9, 22, 15, 48, 54, tzinfo=tzlocal()), 'temperature', 15.02), (datetime.datetime(2021, 9, 22, 15, 48, 58, tzinfo=tzlocal()), 'temperature', 15.02), (datetime.datetime(2021, 9, 22, 15, 49, 2, tzinfo=tzlocal()), 'temperature', 15.02), (datetime.datetime(2021, 9, 22, 15, 49, 5, tzinfo=tzlocal()), 'temperature', 10.02), (datetime.datetime(2021, 9, 22, 15, 49, 9, tzinfo=tzlocal()), 'temperature', 11.02), (datetime.datetime(2021, 9, 22, 15, 49, 13, tzinfo=tzlocal()), 'temperature', 12.02), (datetime.datetime(2021, 9, 22, 15, 49, 17, tzinfo=tzlocal()), 'temperature', 15.02), (datetime.datetime(2021, 9, 22, 15, 49, 21, tzinfo=tzlocal()), 'temperature', 14.02), (datetime.datetime(2021, 9, 22, 15, 49, 25, tzinfo=tzlocal()), 'temperature', 15.02), (datetime.datetime(2021, 9, 22, 15, 49, 29, tzinfo=tzlocal()), 'temperature', 14.02), (datetime.datetime(2021, 9, 22, 15, 49, 32, tzinfo=tzlocal()), 'temperature', 11.02), (datetime.datetime(2021, 9, 22, 15, 49, 36, tzinfo=tzlocal()), 'temperature', 11.02), (datetime.datetime(2021, 9, 22, 15, 49, 40, tzinfo=tzlocal()), 'temperature', 14.02), (datetime.datetime(2021, 9, 22, 15, 49, 44, tzinfo=tzlocal()), 'temperature', 13.02), (datetime.datetime(2021, 9, 22, 15, 49, 48, tzinfo=tzlocal()), 'temperature', 10.02), (datetime.datetime(2021, 9, 22, 15, 49, 51, tzinfo=tzlocal()), 'temperature', 14.02), (datetime.datetime(2021, 9, 22, 15, 49, 55, tzinfo=tzlocal()), 'temperature', 12.02), (datetime.datetime(2021, 9, 22, 15, 49, 59, tzinfo=tzlocal()), 'temperature', 10.02), (datetime.datetime(2021, 9, 22, 15, 50, 2, tzinfo=tzlocal()), 'temperature', 14.02), (datetime.datetime(2021, 9, 22, 15, 50, 6, tzinfo=tzlocal()), 'temperature', 12.02), (datetime.datetime(2021, 9, 22, 15, 50, 10, tzinfo=tzlocal()), 'temperature', 15.02), (datetime.datetime(2021, 9, 22, 15, 50, 14, tzinfo=tzlocal()), 'temperature', 12.02), (datetime.datetime(2021, 9, 22, 15, 50, 18, tzinfo=tzlocal()), 'temperature', 15.02), (datetime.datetime(2021, 9, 22, 15, 50, 21, tzinfo=tzlocal()), 'temperature', 11.02), (datetime.datetime(2021, 9, 22, 15, 50, 25, tzinfo=tzlocal()), 'temperature', 14.02), (datetime.datetime(2021, 9, 22, 15, 50, 29, tzinfo=tzlocal()), 'temperature', 12.02), (datetime.datetime(2021, 9, 22, 15, 50, 33, tzinfo=tzlocal()), 'temperature', 11.02), (datetime.datetime(2021, 9, 22, 15, 50, 37, tzinfo=tzlocal()), 'temperature', 14.02), (datetime.datetime(2021, 9, 22, 15, 50, 41, tzinfo=tzlocal()), 'temperature', 12.02), (datetime.datetime(2021, 9, 22, 15, 50, 45, tzinfo=tzlocal()), 'temperature', 12.02), (datetime.datetime(2021, 9, 22, 15, 50, 48, tzinfo=tzlocal()), 'temperature', 14.02), (datetime.datetime(2021, 9, 22, 15, 50, 52, tzinfo=tzlocal()), 'temperature', 13.02), (datetime.datetime(2021, 9, 22, 15, 50, 56, tzinfo=tzlocal()), 'temperature', 15.02), (datetime.datetime(2021, 9, 22, 15, 51, tzinfo=tzlocal()), 'temperature', 13.02), (datetime.datetime(2021, 9, 22, 15, 51, 4, tzinfo=tzlocal()), 'temperature', 14.02), (datetime.datetime(2021, 9, 22, 15, 51, 8, tzinfo=tzlocal()), 'temperature', 14.02), (datetime.datetime(2021, 9, 22, 15, 51, 12, tzinfo=tzlocal()), 'temperature', 14.02), (datetime.datetime(2021, 9, 22, 15, 51, 16, tzinfo=tzlocal()), 'temperature', 13.02), (datetime.datetime(2021, 9, 22, 15, 51, 19, tzinfo=tzlocal()), 'temperature', 11.92), (datetime.datetime(2021, 9, 22, 15, 51, 23, tzinfo=tzlocal()), 'temperature', 13.92), (datetime.datetime(2021, 9, 22, 15, 51, 27, tzinfo=tzlocal()), 'temperature', 12.92), (datetime.datetime(2021, 9, 22, 15, 51, 31, tzinfo=tzlocal()), 'temperature', 10.92), (datetime.datetime(2021, 9, 22, 15, 51, 35, tzinfo=tzlocal()), 'temperature', 14.92), (datetime.datetime(2021, 9, 22, 15, 51, 39, tzinfo=tzlocal()), 'temperature', 11.92), (datetime.datetime(2021, 9, 22, 15, 51, 43, tzinfo=tzlocal()), 'temperature', 10.92), (datetime.datetime(2021, 9, 22, 15, 51, 47, tzinfo=tzlocal()), 'temperature', 14.92), (datetime.datetime(2021, 9, 22, 15, 51, 50, tzinfo=tzlocal()), 'temperature', 11.92), (datetime.datetime(2021, 9, 22, 15, 51, 54, tzinfo=tzlocal()), 'temperature', 11.92), (datetime.datetime(2021, 9, 22, 15, 51, 58, tzinfo=tzlocal()), 'temperature', 13.92), (datetime.datetime(2021, 9, 22, 15, 52, 2, tzinfo=tzlocal()), 'temperature', 11.92), (datetime.datetime(2021, 9, 22, 15, 52, 6, tzinfo=tzlocal()), 'temperature', 13.92), (datetime.datetime(2021, 9, 22, 15, 52, 11, tzinfo=tzlocal()), 'temperature', 13.92), (datetime.datetime(2021, 9, 22, 15, 52, 15, tzinfo=tzlocal()), 'temperature', 9.92), (datetime.datetime(2021, 9, 22, 15, 52, 19, tzinfo=tzlocal()), 'temperature', 13.92), (datetime.datetime(2021, 9, 22, 15, 52, 23, tzinfo=tzlocal()), 'temperature', 9.92), (datetime.datetime(2021, 9, 22, 15, 52, 27, tzinfo=tzlocal()), 'temperature', 9.92), (datetime.datetime(2021, 9, 22, 15, 52, 30, tzinfo=tzlocal()), 'temperature', 14.92), (datetime.datetime(2021, 9, 22, 15, 52, 34, tzinfo=tzlocal()), 'temperature', 9.92), (datetime.datetime(2021, 9, 22, 15, 52, 38, tzinfo=tzlocal()), 'temperature', 9.92), (datetime.datetime(2021, 9, 22, 15, 52, 42, tzinfo=tzlocal()), 'temperature', 9.92), (datetime.datetime(2021, 9, 22, 15, 52, 46, tzinfo=tzlocal()), 'temperature', 10.92), (datetime.datetime(2021, 9, 22, 15, 52, 51, tzinfo=tzlocal()), 'temperature', 10.92), (datetime.datetime(2021, 9, 22, 15, 52, 55, tzinfo=tzlocal()), 'temperature', 13.92), (datetime.datetime(2021, 9, 22, 15, 52, 59, tzinfo=tzlocal()), 'temperature', 12.92), (datetime.datetime(2021, 9, 22, 15, 53, 3, tzinfo=tzlocal()), 'temperature', 11.92), (datetime.datetime(2021, 9, 22, 15, 53, 9, tzinfo=tzlocal()), 'temperature', 14.92), (datetime.datetime(2021, 9, 22, 15, 53, 13, tzinfo=tzlocal()), 'temperature', 14.92), (datetime.datetime(2021, 9, 22, 15, 53, 18, tzinfo=tzlocal()), 'temperature', 11.92), (datetime.datetime(2021, 9, 22, 15, 53, 22, tzinfo=tzlocal()), 'temperature', 13.92), (datetime.datetime(2021, 9, 22, 15, 53, 26, tzinfo=tzlocal()), 'temperature', 14.92), (datetime.datetime(2021, 9, 22, 15, 53, 30, tzinfo=tzlocal()), 'temperature', 11.92), (datetime.datetime(2021, 9, 22, 15, 53, 33, tzinfo=tzlocal()), 'temperature', 13.92), (datetime.datetime(2021, 9, 22, 15, 53, 37, tzinfo=tzlocal()), 'temperature', 11.92), (datetime.datetime(2021, 9, 22, 15, 53, 41, tzinfo=tzlocal()), 'temperature', 13.92), (datetime.datetime(2021, 9, 22, 15, 53, 45, tzinfo=tzlocal()), 'temperature', 12.92), (datetime.datetime(2021, 9, 22, 15, 53, 49, tzinfo=tzlocal()), 'temperature', 10.92), (datetime.datetime(2021, 9, 22, 15, 53, 53, tzinfo=tzlocal()), 'temperature', 10.92), (datetime.datetime(2021, 9, 22, 15, 53, 57, tzinfo=tzlocal()), 'temperature', 14.92), (datetime.datetime(2021, 9, 22, 15, 54, 1, tzinfo=tzlocal()), 'temperature', 9.92), (datetime.datetime(2021, 9, 22, 15, 54, 5, tzinfo=tzlocal()), 'temperature', 12.92), (datetime.datetime(2021, 9, 22, 15, 54, 9, tzinfo=tzlocal()), 'temperature', 10.92), (datetime.datetime(2021, 9, 22, 15, 54, 13, tzinfo=tzlocal()), 'temperature', 14.92), (datetime.datetime(2021, 9, 22, 15, 54, 17, tzinfo=tzlocal()), 'temperature', 9.92), (datetime.datetime(2021, 9, 22, 15, 54, 21, tzinfo=tzlocal()), 'temperature', 11.92), (datetime.datetime(2021, 9, 22, 15, 54, 24, tzinfo=tzlocal()), 'temperature', 11.92), (datetime.datetime(2021, 9, 22, 15, 54, 29, tzinfo=tzlocal()), 'temperature', 10.92), (datetime.datetime(2021, 9, 22, 15, 54, 33, tzinfo=tzlocal()), 'temperature', 14.92), (datetime.datetime(2021, 9, 22, 15, 54, 37, tzinfo=tzlocal()), 'temperature', 14.92), (datetime.datetime(2021, 9, 22, 15, 54, 41, tzinfo=tzlocal()), 'temperature', 13.92), (datetime.datetime(2021, 9, 22, 15, 54, 44, tzinfo=tzlocal()), 'temperature', 12.92), (datetime.datetime(2021, 9, 22, 15, 54, 48, tzinfo=tzlocal()), 'temperature', 9.92), (datetime.datetime(2021, 9, 22, 15, 54, 52, tzinfo=tzlocal()), 'temperature', 12.92), (datetime.datetime(2021, 9, 22, 15, 54, 56, tzinfo=tzlocal()), 'temperature', 12.92), (datetime.datetime(2021, 9, 22, 15, 55, tzinfo=tzlocal()), 'temperature', 9.92), (datetime.datetime(2021, 9, 22, 15, 55, 4, tzinfo=tzlocal()), 'temperature', 9.92), (datetime.datetime(2021, 9, 22, 15, 55, 8, tzinfo=tzlocal()), 'temperature', 12.92), (datetime.datetime(2021, 9, 22, 15, 55, 12, tzinfo=tzlocal()), 'temperature', 14.92), (datetime.datetime(2021, 9, 22, 15, 55, 15, tzinfo=tzlocal()), 'temperature', 14.92), (datetime.datetime(2021, 9, 22, 15, 55, 19, tzinfo=tzlocal()), 'temperature', 12.92), (datetime.datetime(2021, 9, 22, 15, 55, 23, tzinfo=tzlocal()), 'temperature', 12.92), (datetime.datetime(2021, 9, 22, 15, 55, 27, tzinfo=tzlocal()), 'temperature', 14.92), (datetime.datetime(2021, 9, 22, 15, 55, 32, tzinfo=tzlocal()), 'temperature', 11.92), (datetime.datetime(2021, 9, 22, 15, 55, 36, tzinfo=tzlocal()), 'temperature', 10.92), (datetime.datetime(2021, 9, 22, 15, 55, 40, tzinfo=tzlocal()), 'temperature', 14.92), (datetime.datetime(2021, 9, 22, 15, 55, 43, tzinfo=tzlocal()), 'temperature', 9.92), (datetime.datetime(2021, 9, 22, 15, 55, 47, tzinfo=tzlocal()), 'temperature', 12.92), (datetime.datetime(2021, 9, 22, 15, 55, 51, tzinfo=tzlocal()), 'temperature', 12.92), (datetime.datetime(2021, 9, 22, 15, 55, 55, tzinfo=tzlocal()), 'temperature', 12.92), (datetime.datetime(2021, 9, 22, 15, 55, 59, tzinfo=tzlocal()), 'temperature', 9.92), (datetime.datetime(2021, 9, 22, 15, 56, 3, tzinfo=tzlocal()), 'temperature', 9.92), (datetime.datetime(2021, 9, 22, 15, 56, 6, tzinfo=tzlocal()), 'temperature', 12.92), (datetime.datetime(2021, 9, 22, 15, 56, 10, tzinfo=tzlocal()), 'temperature', 9.92), (datetime.datetime(2021, 9, 22, 15, 56, 14, tzinfo=tzlocal()), 'temperature', 13.92), (datetime.datetime(2021, 9, 22, 15, 56, 18, tzinfo=tzlocal()), 'temperature', 13.92), (datetime.datetime(2021, 9, 22, 15, 56, 22, tzinfo=tzlocal()), 'temperature', 9.92), (datetime.datetime(2021, 9, 22, 15, 56, 26, tzinfo=tzlocal()), 'temperature', 9.92), (datetime.datetime(2021, 9, 22, 15, 56, 30, tzinfo=tzlocal()), 'temperature', 13.92), (datetime.datetime(2021, 9, 22, 15, 56, 34, tzinfo=tzlocal()), 'temperature', 12.92), (datetime.datetime(2021, 9, 22, 15, 56, 38, tzinfo=tzlocal()), 'temperature', 14.92), (datetime.datetime(2021, 9, 22, 15, 56, 42, tzinfo=tzlocal()), 'temperature', 14.92), (datetime.datetime(2021, 9, 22, 15, 56, 45, tzinfo=tzlocal()), 'temperature', 12.92), (datetime.datetime(2021, 9, 22, 15, 56, 49, tzinfo=tzlocal()), 'temperature', 9.92), (datetime.datetime(2021, 9, 22, 15, 56, 53, tzinfo=tzlocal()), 'temperature', 13.92), (datetime.datetime(2021, 9, 22, 15, 56, 57, tzinfo=tzlocal()), 'temperature', 10.92), (datetime.datetime(2021, 9, 22, 15, 57, 1, tzinfo=tzlocal()), 'temperature', 11.92), (datetime.datetime(2021, 9, 22, 15, 57, 5, tzinfo=tzlocal()), 'temperature', 12.92), (datetime.datetime(2021, 9, 22, 15, 57, 9, tzinfo=tzlocal()), 'temperature', 10.92), (datetime.datetime(2021, 9, 22, 15, 57, 13, tzinfo=tzlocal()), 'temperature', 10.92), (datetime.datetime(2021, 9, 22, 15, 57, 16, tzinfo=tzlocal()), 'temperature', 11.92)]\n"
     ]
    }
   ],
   "source": [
    "# 4. Put data into a matrix\n",
    "results = []\n",
    "for table in result:\n",
    "    for record in table.records:\n",
    "        results.append((record.get_time(), record.get_field(), record.get_value()))\n",
    "\n",
    "print(results)"
   ]
  },
  {
   "cell_type": "code",
   "execution_count": 54,
   "id": "7ef632ca-3d99-453b-a3f6-f56f92e92932",
   "metadata": {},
   "outputs": [
    {
     "data": {
      "text/html": [
       "<div>\n",
       "<style scoped>\n",
       "    .dataframe tbody tr th:only-of-type {\n",
       "        vertical-align: middle;\n",
       "    }\n",
       "\n",
       "    .dataframe tbody tr th {\n",
       "        vertical-align: top;\n",
       "    }\n",
       "\n",
       "    .dataframe thead th {\n",
       "        text-align: right;\n",
       "    }\n",
       "</style>\n",
       "<table border=\"1\" class=\"dataframe\">\n",
       "  <thead>\n",
       "    <tr style=\"text-align: right;\">\n",
       "      <th></th>\n",
       "      <th>0</th>\n",
       "      <th>1</th>\n",
       "      <th>2</th>\n",
       "    </tr>\n",
       "  </thead>\n",
       "  <tbody>\n",
       "    <tr>\n",
       "      <th>0</th>\n",
       "      <td>2021-09-22 14:04:00+00:00</td>\n",
       "      <td>temperature</td>\n",
       "      <td>17.11</td>\n",
       "    </tr>\n",
       "    <tr>\n",
       "      <th>1</th>\n",
       "      <td>2021-09-22 14:04:04+00:00</td>\n",
       "      <td>temperature</td>\n",
       "      <td>17.11</td>\n",
       "    </tr>\n",
       "    <tr>\n",
       "      <th>2</th>\n",
       "      <td>2021-09-22 14:04:07+00:00</td>\n",
       "      <td>temperature</td>\n",
       "      <td>18.11</td>\n",
       "    </tr>\n",
       "    <tr>\n",
       "      <th>3</th>\n",
       "      <td>2021-09-22 14:04:11+00:00</td>\n",
       "      <td>temperature</td>\n",
       "      <td>19.11</td>\n",
       "    </tr>\n",
       "    <tr>\n",
       "      <th>4</th>\n",
       "      <td>2021-09-22 14:04:14+00:00</td>\n",
       "      <td>temperature</td>\n",
       "      <td>16.11</td>\n",
       "    </tr>\n",
       "    <tr>\n",
       "      <th>...</th>\n",
       "      <td>...</td>\n",
       "      <td>...</td>\n",
       "      <td>...</td>\n",
       "    </tr>\n",
       "    <tr>\n",
       "      <th>1439</th>\n",
       "      <td>2021-09-22 15:57:01+00:00</td>\n",
       "      <td>temperature</td>\n",
       "      <td>11.92</td>\n",
       "    </tr>\n",
       "    <tr>\n",
       "      <th>1440</th>\n",
       "      <td>2021-09-22 15:57:05+00:00</td>\n",
       "      <td>temperature</td>\n",
       "      <td>12.92</td>\n",
       "    </tr>\n",
       "    <tr>\n",
       "      <th>1441</th>\n",
       "      <td>2021-09-22 15:57:09+00:00</td>\n",
       "      <td>temperature</td>\n",
       "      <td>10.92</td>\n",
       "    </tr>\n",
       "    <tr>\n",
       "      <th>1442</th>\n",
       "      <td>2021-09-22 15:57:13+00:00</td>\n",
       "      <td>temperature</td>\n",
       "      <td>10.92</td>\n",
       "    </tr>\n",
       "    <tr>\n",
       "      <th>1443</th>\n",
       "      <td>2021-09-22 15:57:16+00:00</td>\n",
       "      <td>temperature</td>\n",
       "      <td>11.92</td>\n",
       "    </tr>\n",
       "  </tbody>\n",
       "</table>\n",
       "<p>1444 rows × 3 columns</p>\n",
       "</div>"
      ],
      "text/plain": [
       "                             0            1      2\n",
       "0    2021-09-22 14:04:00+00:00  temperature  17.11\n",
       "1    2021-09-22 14:04:04+00:00  temperature  17.11\n",
       "2    2021-09-22 14:04:07+00:00  temperature  18.11\n",
       "3    2021-09-22 14:04:11+00:00  temperature  19.11\n",
       "4    2021-09-22 14:04:14+00:00  temperature  16.11\n",
       "...                        ...          ...    ...\n",
       "1439 2021-09-22 15:57:01+00:00  temperature  11.92\n",
       "1440 2021-09-22 15:57:05+00:00  temperature  12.92\n",
       "1441 2021-09-22 15:57:09+00:00  temperature  10.92\n",
       "1442 2021-09-22 15:57:13+00:00  temperature  10.92\n",
       "1443 2021-09-22 15:57:16+00:00  temperature  11.92\n",
       "\n",
       "[1444 rows x 3 columns]"
      ]
     },
     "execution_count": 54,
     "metadata": {},
     "output_type": "execute_result"
    }
   ],
   "source": [
    "from pandas import *\n",
    "\n",
    "DataFrame(results)"
   ]
  },
  {
   "cell_type": "code",
   "execution_count": 55,
   "id": "667f7e46-9b5a-49ad-8399-e1206deb104b",
   "metadata": {},
   "outputs": [
    {
     "name": "stdout",
     "output_type": "stream",
     "text": [
      "[[datetime.datetime(2021, 9, 22, 14, 4, tzinfo=tzlocal()) 'temperature'\n",
      "  17.11]\n",
      " [datetime.datetime(2021, 9, 22, 14, 4, 4, tzinfo=tzlocal())\n",
      "  'temperature' 17.11]\n",
      " [datetime.datetime(2021, 9, 22, 14, 4, 7, tzinfo=tzlocal())\n",
      "  'temperature' 18.11]\n",
      " ...\n",
      " [datetime.datetime(2021, 9, 22, 15, 57, 9, tzinfo=tzlocal())\n",
      "  'temperature' 10.92]\n",
      " [datetime.datetime(2021, 9, 22, 15, 57, 13, tzinfo=tzlocal())\n",
      "  'temperature' 10.92]\n",
      " [datetime.datetime(2021, 9, 22, 15, 57, 16, tzinfo=tzlocal())\n",
      "  'temperature' 11.92]]\n"
     ]
    }
   ],
   "source": [
    "import numpy as np\n",
    "\n",
    "print(np.matrix(results))"
   ]
  },
  {
   "cell_type": "markdown",
   "id": "46e1e3e7-645f-4c41-b8ec-da6a73fea7b7",
   "metadata": {},
   "source": [
    "### Easier solution: query data directly to a pandas dataframe"
   ]
  },
  {
   "cell_type": "code",
   "execution_count": 57,
   "id": "7ed10323-7628-4a74-ac6f-dc5b6aea6bd5",
   "metadata": {},
   "outputs": [
    {
     "data": {
      "text/html": [
       "<div>\n",
       "<style scoped>\n",
       "    .dataframe tbody tr th:only-of-type {\n",
       "        vertical-align: middle;\n",
       "    }\n",
       "\n",
       "    .dataframe tbody tr th {\n",
       "        vertical-align: top;\n",
       "    }\n",
       "\n",
       "    .dataframe thead th {\n",
       "        text-align: right;\n",
       "    }\n",
       "</style>\n",
       "<table border=\"1\" class=\"dataframe\">\n",
       "  <thead>\n",
       "    <tr style=\"text-align: right;\">\n",
       "      <th></th>\n",
       "      <th>result</th>\n",
       "      <th>table</th>\n",
       "      <th>_start</th>\n",
       "      <th>_stop</th>\n",
       "      <th>_time</th>\n",
       "      <th>_value</th>\n",
       "      <th>_field</th>\n",
       "      <th>_measurement</th>\n",
       "      <th>city</th>\n",
       "      <th>country</th>\n",
       "    </tr>\n",
       "  </thead>\n",
       "  <tbody>\n",
       "    <tr>\n",
       "      <th>0</th>\n",
       "      <td>_result</td>\n",
       "      <td>0</td>\n",
       "      <td>2021-09-22 06:09:19.827921+00:00</td>\n",
       "      <td>2021-09-22 16:09:19.827921+00:00</td>\n",
       "      <td>2021-09-22 14:04:00+00:00</td>\n",
       "      <td>17.11</td>\n",
       "      <td>temperature</td>\n",
       "      <td>weatherdata</td>\n",
       "      <td>Berlin</td>\n",
       "      <td>Germany</td>\n",
       "    </tr>\n",
       "    <tr>\n",
       "      <th>1</th>\n",
       "      <td>_result</td>\n",
       "      <td>0</td>\n",
       "      <td>2021-09-22 06:09:19.827921+00:00</td>\n",
       "      <td>2021-09-22 16:09:19.827921+00:00</td>\n",
       "      <td>2021-09-22 14:04:04+00:00</td>\n",
       "      <td>17.11</td>\n",
       "      <td>temperature</td>\n",
       "      <td>weatherdata</td>\n",
       "      <td>Berlin</td>\n",
       "      <td>Germany</td>\n",
       "    </tr>\n",
       "    <tr>\n",
       "      <th>2</th>\n",
       "      <td>_result</td>\n",
       "      <td>0</td>\n",
       "      <td>2021-09-22 06:09:19.827921+00:00</td>\n",
       "      <td>2021-09-22 16:09:19.827921+00:00</td>\n",
       "      <td>2021-09-22 14:04:07+00:00</td>\n",
       "      <td>18.11</td>\n",
       "      <td>temperature</td>\n",
       "      <td>weatherdata</td>\n",
       "      <td>Berlin</td>\n",
       "      <td>Germany</td>\n",
       "    </tr>\n",
       "    <tr>\n",
       "      <th>3</th>\n",
       "      <td>_result</td>\n",
       "      <td>0</td>\n",
       "      <td>2021-09-22 06:09:19.827921+00:00</td>\n",
       "      <td>2021-09-22 16:09:19.827921+00:00</td>\n",
       "      <td>2021-09-22 14:04:11+00:00</td>\n",
       "      <td>19.11</td>\n",
       "      <td>temperature</td>\n",
       "      <td>weatherdata</td>\n",
       "      <td>Berlin</td>\n",
       "      <td>Germany</td>\n",
       "    </tr>\n",
       "    <tr>\n",
       "      <th>4</th>\n",
       "      <td>_result</td>\n",
       "      <td>0</td>\n",
       "      <td>2021-09-22 06:09:19.827921+00:00</td>\n",
       "      <td>2021-09-22 16:09:19.827921+00:00</td>\n",
       "      <td>2021-09-22 14:04:14+00:00</td>\n",
       "      <td>16.11</td>\n",
       "      <td>temperature</td>\n",
       "      <td>weatherdata</td>\n",
       "      <td>Berlin</td>\n",
       "      <td>Germany</td>\n",
       "    </tr>\n",
       "    <tr>\n",
       "      <th>...</th>\n",
       "      <td>...</td>\n",
       "      <td>...</td>\n",
       "      <td>...</td>\n",
       "      <td>...</td>\n",
       "      <td>...</td>\n",
       "      <td>...</td>\n",
       "      <td>...</td>\n",
       "      <td>...</td>\n",
       "      <td>...</td>\n",
       "      <td>...</td>\n",
       "    </tr>\n",
       "    <tr>\n",
       "      <th>1439</th>\n",
       "      <td>_result</td>\n",
       "      <td>1</td>\n",
       "      <td>2021-09-22 06:09:19.827921+00:00</td>\n",
       "      <td>2021-09-22 16:09:19.827921+00:00</td>\n",
       "      <td>2021-09-22 15:57:01+00:00</td>\n",
       "      <td>11.92</td>\n",
       "      <td>temperature</td>\n",
       "      <td>weatherdata</td>\n",
       "      <td>Vienna</td>\n",
       "      <td>Austria</td>\n",
       "    </tr>\n",
       "    <tr>\n",
       "      <th>1440</th>\n",
       "      <td>_result</td>\n",
       "      <td>1</td>\n",
       "      <td>2021-09-22 06:09:19.827921+00:00</td>\n",
       "      <td>2021-09-22 16:09:19.827921+00:00</td>\n",
       "      <td>2021-09-22 15:57:05+00:00</td>\n",
       "      <td>12.92</td>\n",
       "      <td>temperature</td>\n",
       "      <td>weatherdata</td>\n",
       "      <td>Vienna</td>\n",
       "      <td>Austria</td>\n",
       "    </tr>\n",
       "    <tr>\n",
       "      <th>1441</th>\n",
       "      <td>_result</td>\n",
       "      <td>1</td>\n",
       "      <td>2021-09-22 06:09:19.827921+00:00</td>\n",
       "      <td>2021-09-22 16:09:19.827921+00:00</td>\n",
       "      <td>2021-09-22 15:57:09+00:00</td>\n",
       "      <td>10.92</td>\n",
       "      <td>temperature</td>\n",
       "      <td>weatherdata</td>\n",
       "      <td>Vienna</td>\n",
       "      <td>Austria</td>\n",
       "    </tr>\n",
       "    <tr>\n",
       "      <th>1442</th>\n",
       "      <td>_result</td>\n",
       "      <td>1</td>\n",
       "      <td>2021-09-22 06:09:19.827921+00:00</td>\n",
       "      <td>2021-09-22 16:09:19.827921+00:00</td>\n",
       "      <td>2021-09-22 15:57:13+00:00</td>\n",
       "      <td>10.92</td>\n",
       "      <td>temperature</td>\n",
       "      <td>weatherdata</td>\n",
       "      <td>Vienna</td>\n",
       "      <td>Austria</td>\n",
       "    </tr>\n",
       "    <tr>\n",
       "      <th>1443</th>\n",
       "      <td>_result</td>\n",
       "      <td>1</td>\n",
       "      <td>2021-09-22 06:09:19.827921+00:00</td>\n",
       "      <td>2021-09-22 16:09:19.827921+00:00</td>\n",
       "      <td>2021-09-22 15:57:16+00:00</td>\n",
       "      <td>11.92</td>\n",
       "      <td>temperature</td>\n",
       "      <td>weatherdata</td>\n",
       "      <td>Vienna</td>\n",
       "      <td>Austria</td>\n",
       "    </tr>\n",
       "  </tbody>\n",
       "</table>\n",
       "<p>1444 rows × 10 columns</p>\n",
       "</div>"
      ],
      "text/plain": [
       "       result table                           _start  \\\n",
       "0     _result     0 2021-09-22 06:09:19.827921+00:00   \n",
       "1     _result     0 2021-09-22 06:09:19.827921+00:00   \n",
       "2     _result     0 2021-09-22 06:09:19.827921+00:00   \n",
       "3     _result     0 2021-09-22 06:09:19.827921+00:00   \n",
       "4     _result     0 2021-09-22 06:09:19.827921+00:00   \n",
       "...       ...   ...                              ...   \n",
       "1439  _result     1 2021-09-22 06:09:19.827921+00:00   \n",
       "1440  _result     1 2021-09-22 06:09:19.827921+00:00   \n",
       "1441  _result     1 2021-09-22 06:09:19.827921+00:00   \n",
       "1442  _result     1 2021-09-22 06:09:19.827921+00:00   \n",
       "1443  _result     1 2021-09-22 06:09:19.827921+00:00   \n",
       "\n",
       "                                _stop                     _time  _value  \\\n",
       "0    2021-09-22 16:09:19.827921+00:00 2021-09-22 14:04:00+00:00   17.11   \n",
       "1    2021-09-22 16:09:19.827921+00:00 2021-09-22 14:04:04+00:00   17.11   \n",
       "2    2021-09-22 16:09:19.827921+00:00 2021-09-22 14:04:07+00:00   18.11   \n",
       "3    2021-09-22 16:09:19.827921+00:00 2021-09-22 14:04:11+00:00   19.11   \n",
       "4    2021-09-22 16:09:19.827921+00:00 2021-09-22 14:04:14+00:00   16.11   \n",
       "...                               ...                       ...     ...   \n",
       "1439 2021-09-22 16:09:19.827921+00:00 2021-09-22 15:57:01+00:00   11.92   \n",
       "1440 2021-09-22 16:09:19.827921+00:00 2021-09-22 15:57:05+00:00   12.92   \n",
       "1441 2021-09-22 16:09:19.827921+00:00 2021-09-22 15:57:09+00:00   10.92   \n",
       "1442 2021-09-22 16:09:19.827921+00:00 2021-09-22 15:57:13+00:00   10.92   \n",
       "1443 2021-09-22 16:09:19.827921+00:00 2021-09-22 15:57:16+00:00   11.92   \n",
       "\n",
       "           _field _measurement    city  country  \n",
       "0     temperature  weatherdata  Berlin  Germany  \n",
       "1     temperature  weatherdata  Berlin  Germany  \n",
       "2     temperature  weatherdata  Berlin  Germany  \n",
       "3     temperature  weatherdata  Berlin  Germany  \n",
       "4     temperature  weatherdata  Berlin  Germany  \n",
       "...           ...          ...     ...      ...  \n",
       "1439  temperature  weatherdata  Vienna  Austria  \n",
       "1440  temperature  weatherdata  Vienna  Austria  \n",
       "1441  temperature  weatherdata  Vienna  Austria  \n",
       "1442  temperature  weatherdata  Vienna  Austria  \n",
       "1443  temperature  weatherdata  Vienna  Austria  \n",
       "\n",
       "[1444 rows x 10 columns]"
      ]
     },
     "execution_count": 57,
     "metadata": {},
     "output_type": "execute_result"
    }
   ],
   "source": [
    "result_df = query_api.query_data_frame(org=org, query=query)\n",
    "result_df"
   ]
  },
  {
   "cell_type": "markdown",
   "id": "23469c85-32e4-47d3-81a1-45f55985f6df",
   "metadata": {},
   "source": [
    "#### Quick analysis: filter for vienna and plot"
   ]
  },
  {
   "cell_type": "code",
   "execution_count": 65,
   "id": "620607eb-dd55-43d7-910d-fe8b138d96ff",
   "metadata": {},
   "outputs": [
    {
     "data": {
      "text/plain": [
       "<AxesSubplot:xlabel='_time'>"
      ]
     },
     "execution_count": 65,
     "metadata": {},
     "output_type": "execute_result"
    },
    {
     "data": {
      "image/png": "[encoded data removed]",
      "text/plain": [
       "<Figure size 432x288 with 1 Axes>"
      ]
     },
     "metadata": {
      "needs_background": "light"
     },
     "output_type": "display_data"
    }
   ],
   "source": [
    "result_df[result_df.city == 'Vienna'].plot.line(y='_value', x='_time', label='Vienna')"
   ]
  },
  {
   "cell_type": "markdown",
   "id": "da079550-dd38-461d-bbd3-5c3811942c49",
   "metadata": {},
   "source": [
    "### Flux queries"
   ]
  },
  {
   "cell_type": "code",
   "execution_count": 75,
   "id": "60cea3e2-3430-488b-babe-168fa2c2ec9f",
   "metadata": {},
   "outputs": [
    {
     "data": {
      "text/html": [
       "<div>\n",
       "<style scoped>\n",
       "    .dataframe tbody tr th:only-of-type {\n",
       "        vertical-align: middle;\n",
       "    }\n",
       "\n",
       "    .dataframe tbody tr th {\n",
       "        vertical-align: top;\n",
       "    }\n",
       "\n",
       "    .dataframe thead th {\n",
       "        text-align: right;\n",
       "    }\n",
       "</style>\n",
       "<table border=\"1\" class=\"dataframe\">\n",
       "  <thead>\n",
       "    <tr style=\"text-align: right;\">\n",
       "      <th></th>\n",
       "      <th>result</th>\n",
       "      <th>table</th>\n",
       "      <th>_start</th>\n",
       "      <th>_stop</th>\n",
       "      <th>_field</th>\n",
       "      <th>_measurement</th>\n",
       "      <th>city</th>\n",
       "      <th>country</th>\n",
       "      <th>_value</th>\n",
       "      <th>_time</th>\n",
       "    </tr>\n",
       "  </thead>\n",
       "  <tbody>\n",
       "    <tr>\n",
       "      <th>0</th>\n",
       "      <td>_result</td>\n",
       "      <td>0</td>\n",
       "      <td>2021-09-22 15:44:46.767836+00:00</td>\n",
       "      <td>2021-09-22 16:14:46.767836+00:00</td>\n",
       "      <td>temperature</td>\n",
       "      <td>weatherdata</td>\n",
       "      <td>Vienna</td>\n",
       "      <td>Austria</td>\n",
       "      <td>13.020000</td>\n",
       "      <td>2021-09-22 15:44:50+00:00</td>\n",
       "    </tr>\n",
       "    <tr>\n",
       "      <th>1</th>\n",
       "      <td>_result</td>\n",
       "      <td>0</td>\n",
       "      <td>2021-09-22 15:44:46.767836+00:00</td>\n",
       "      <td>2021-09-22 16:14:46.767836+00:00</td>\n",
       "      <td>temperature</td>\n",
       "      <td>weatherdata</td>\n",
       "      <td>Vienna</td>\n",
       "      <td>Austria</td>\n",
       "      <td>11.686667</td>\n",
       "      <td>2021-09-22 15:45:00+00:00</td>\n",
       "    </tr>\n",
       "    <tr>\n",
       "      <th>2</th>\n",
       "      <td>_result</td>\n",
       "      <td>0</td>\n",
       "      <td>2021-09-22 15:44:46.767836+00:00</td>\n",
       "      <td>2021-09-22 16:14:46.767836+00:00</td>\n",
       "      <td>temperature</td>\n",
       "      <td>weatherdata</td>\n",
       "      <td>Vienna</td>\n",
       "      <td>Austria</td>\n",
       "      <td>12.186667</td>\n",
       "      <td>2021-09-22 15:45:10+00:00</td>\n",
       "    </tr>\n",
       "    <tr>\n",
       "      <th>3</th>\n",
       "      <td>_result</td>\n",
       "      <td>0</td>\n",
       "      <td>2021-09-22 15:44:46.767836+00:00</td>\n",
       "      <td>2021-09-22 16:14:46.767836+00:00</td>\n",
       "      <td>temperature</td>\n",
       "      <td>weatherdata</td>\n",
       "      <td>Vienna</td>\n",
       "      <td>Austria</td>\n",
       "      <td>12.270000</td>\n",
       "      <td>2021-09-22 15:45:20+00:00</td>\n",
       "    </tr>\n",
       "    <tr>\n",
       "      <th>4</th>\n",
       "      <td>_result</td>\n",
       "      <td>0</td>\n",
       "      <td>2021-09-22 15:44:46.767836+00:00</td>\n",
       "      <td>2021-09-22 16:14:46.767836+00:00</td>\n",
       "      <td>temperature</td>\n",
       "      <td>weatherdata</td>\n",
       "      <td>Vienna</td>\n",
       "      <td>Austria</td>\n",
       "      <td>12.395000</td>\n",
       "      <td>2021-09-22 15:45:30+00:00</td>\n",
       "    </tr>\n",
       "    <tr>\n",
       "      <th>...</th>\n",
       "      <td>...</td>\n",
       "      <td>...</td>\n",
       "      <td>...</td>\n",
       "      <td>...</td>\n",
       "      <td>...</td>\n",
       "      <td>...</td>\n",
       "      <td>...</td>\n",
       "      <td>...</td>\n",
       "      <td>...</td>\n",
       "      <td>...</td>\n",
       "    </tr>\n",
       "    <tr>\n",
       "      <th>73</th>\n",
       "      <td>_result</td>\n",
       "      <td>0</td>\n",
       "      <td>2021-09-22 15:44:46.767836+00:00</td>\n",
       "      <td>2021-09-22 16:14:46.767836+00:00</td>\n",
       "      <td>temperature</td>\n",
       "      <td>weatherdata</td>\n",
       "      <td>Vienna</td>\n",
       "      <td>Austria</td>\n",
       "      <td>13.045000</td>\n",
       "      <td>2021-09-22 15:57:00+00:00</td>\n",
       "    </tr>\n",
       "    <tr>\n",
       "      <th>74</th>\n",
       "      <td>_result</td>\n",
       "      <td>0</td>\n",
       "      <td>2021-09-22 15:44:46.767836+00:00</td>\n",
       "      <td>2021-09-22 16:14:46.767836+00:00</td>\n",
       "      <td>temperature</td>\n",
       "      <td>weatherdata</td>\n",
       "      <td>Vienna</td>\n",
       "      <td>Austria</td>\n",
       "      <td>12.295000</td>\n",
       "      <td>2021-09-22 15:57:10+00:00</td>\n",
       "    </tr>\n",
       "    <tr>\n",
       "      <th>75</th>\n",
       "      <td>_result</td>\n",
       "      <td>0</td>\n",
       "      <td>2021-09-22 15:44:46.767836+00:00</td>\n",
       "      <td>2021-09-22 16:14:46.767836+00:00</td>\n",
       "      <td>temperature</td>\n",
       "      <td>weatherdata</td>\n",
       "      <td>Vienna</td>\n",
       "      <td>Austria</td>\n",
       "      <td>11.920000</td>\n",
       "      <td>2021-09-22 15:57:20+00:00</td>\n",
       "    </tr>\n",
       "    <tr>\n",
       "      <th>76</th>\n",
       "      <td>_result</td>\n",
       "      <td>0</td>\n",
       "      <td>2021-09-22 15:44:46.767836+00:00</td>\n",
       "      <td>2021-09-22 16:14:46.767836+00:00</td>\n",
       "      <td>temperature</td>\n",
       "      <td>weatherdata</td>\n",
       "      <td>Vienna</td>\n",
       "      <td>Austria</td>\n",
       "      <td>11.720000</td>\n",
       "      <td>2021-09-22 15:57:30+00:00</td>\n",
       "    </tr>\n",
       "    <tr>\n",
       "      <th>77</th>\n",
       "      <td>_result</td>\n",
       "      <td>0</td>\n",
       "      <td>2021-09-22 15:44:46.767836+00:00</td>\n",
       "      <td>2021-09-22 16:14:46.767836+00:00</td>\n",
       "      <td>temperature</td>\n",
       "      <td>weatherdata</td>\n",
       "      <td>Vienna</td>\n",
       "      <td>Austria</td>\n",
       "      <td>11.420000</td>\n",
       "      <td>2021-09-22 15:57:40+00:00</td>\n",
       "    </tr>\n",
       "  </tbody>\n",
       "</table>\n",
       "<p>78 rows × 10 columns</p>\n",
       "</div>"
      ],
      "text/plain": [
       "     result table                           _start  \\\n",
       "0   _result     0 2021-09-22 15:44:46.767836+00:00   \n",
       "1   _result     0 2021-09-22 15:44:46.767836+00:00   \n",
       "2   _result     0 2021-09-22 15:44:46.767836+00:00   \n",
       "3   _result     0 2021-09-22 15:44:46.767836+00:00   \n",
       "4   _result     0 2021-09-22 15:44:46.767836+00:00   \n",
       "..      ...   ...                              ...   \n",
       "73  _result     0 2021-09-22 15:44:46.767836+00:00   \n",
       "74  _result     0 2021-09-22 15:44:46.767836+00:00   \n",
       "75  _result     0 2021-09-22 15:44:46.767836+00:00   \n",
       "76  _result     0 2021-09-22 15:44:46.767836+00:00   \n",
       "77  _result     0 2021-09-22 15:44:46.767836+00:00   \n",
       "\n",
       "                              _stop       _field _measurement    city  \\\n",
       "0  2021-09-22 16:14:46.767836+00:00  temperature  weatherdata  Vienna   \n",
       "1  2021-09-22 16:14:46.767836+00:00  temperature  weatherdata  Vienna   \n",
       "2  2021-09-22 16:14:46.767836+00:00  temperature  weatherdata  Vienna   \n",
       "3  2021-09-22 16:14:46.767836+00:00  temperature  weatherdata  Vienna   \n",
       "4  2021-09-22 16:14:46.767836+00:00  temperature  weatherdata  Vienna   \n",
       "..                              ...          ...          ...     ...   \n",
       "73 2021-09-22 16:14:46.767836+00:00  temperature  weatherdata  Vienna   \n",
       "74 2021-09-22 16:14:46.767836+00:00  temperature  weatherdata  Vienna   \n",
       "75 2021-09-22 16:14:46.767836+00:00  temperature  weatherdata  Vienna   \n",
       "76 2021-09-22 16:14:46.767836+00:00  temperature  weatherdata  Vienna   \n",
       "77 2021-09-22 16:14:46.767836+00:00  temperature  weatherdata  Vienna   \n",
       "\n",
       "    country     _value                     _time  \n",
       "0   Austria  13.020000 2021-09-22 15:44:50+00:00  \n",
       "1   Austria  11.686667 2021-09-22 15:45:00+00:00  \n",
       "2   Austria  12.186667 2021-09-22 15:45:10+00:00  \n",
       "3   Austria  12.270000 2021-09-22 15:45:20+00:00  \n",
       "4   Austria  12.395000 2021-09-22 15:45:30+00:00  \n",
       "..      ...        ...                       ...  \n",
       "73  Austria  13.045000 2021-09-22 15:57:00+00:00  \n",
       "74  Austria  12.295000 2021-09-22 15:57:10+00:00  \n",
       "75  Austria  11.920000 2021-09-22 15:57:20+00:00  \n",
       "76  Austria  11.720000 2021-09-22 15:57:30+00:00  \n",
       "77  Austria  11.420000 2021-09-22 15:57:40+00:00  \n",
       "\n",
       "[78 rows x 10 columns]"
      ]
     },
     "execution_count": 75,
     "metadata": {},
     "output_type": "execute_result"
    }
   ],
   "source": [
    "query = 'from(bucket:\"Data\")\\\n",
    "|> range(start: -30m)\\\n",
    "|> timedMovingAverage(every: 10s, period: 30s) \\\n",
    "|> filter(fn: (r) => r.city == \"Vienna\")'\n",
    "\n",
    "result_df_ma = query_api.query_data_frame(org=org, query=query)\n",
    "\n",
    "result_df_ma"
   ]
  },
  {
   "cell_type": "code",
   "execution_count": 74,
   "id": "64f042b4-9629-4274-8fff-8b5ff1355043",
   "metadata": {},
   "outputs": [
    {
     "data": {
      "text/plain": [
       "<AxesSubplot:xlabel='_time'>"
      ]
     },
     "execution_count": 74,
     "metadata": {},
     "output_type": "execute_result"
    },
    {
     "data": {
      "image/png": "[encoded data removed]",
      "text/plain": [
       "<Figure size 432x288 with 1 Axes>"
      ]
     },
     "metadata": {
      "needs_background": "light"
     },
     "output_type": "display_data"
    }
   ],
   "source": [
    "result_df_ma.plot.line(y='_value', x='_time', label='Vienna')"
   ]
  },
  {
   "cell_type": "markdown",
   "id": "2bd20a59",
   "metadata": {},
   "source": [
    "***"
   ]
  },
  {
   "cell_type": "markdown",
   "id": "ba87491c",
   "metadata": {},
   "source": [
    "## Wann ist ein Einsatz sinnvoll?"
   ]
  },
  {
   "cell_type": "markdown",
   "id": "81652f07",
   "metadata": {},
   "source": [
    "**Wenn Echtzeitverarbeitung von Daten notwendig ist**\n",
    "\n",
    "**Bei großen Datenmengen und hoher Geschwindigkeit**\n",
    "\n",
    "*Beispiele:*\n",
    "\n",
    "   * Monitoring von IoT / Sensoren\n",
    "   * DevOps Monitoring (Mikroservices, Container, Ressourcenverwaltung, Netzwerke,...)\n",
    "   * Echtzeit-Analysen (z.B. Onlinemarketing, Predicitive Maintenance,...)"
   ]
  },
  {
   "cell_type": "markdown",
   "id": "a2e0696e-1e82-47e1-b1b7-acc85ba65267",
   "metadata": {},
   "source": [
    "## InfluxDB: Tick Stack\n",
    "\n",
    "* **T**elegraf: Agent zum Sammeln, Verarbeiten, Zusammenführen und Schreiben von Metriken und schreiben in die InfluxDB\n",
    "* **I**nfluxDB: Zeitreihenbasierte Datenbank (NoSQL)\n",
    "* **C**hronograf: Grafische Benutzeroberfläche zur Datenbank\n",
    "* **K**apacitor: Echtzeitschnittstelle zur Datenbank \n",
    "\n",
    "![](https://www.influxdata.com/wp-content/uploads/Influx-1.0-Diagram.png)\n"
   ]
  },
  {
   "cell_type": "code",
   "execution_count": null,
   "id": "51f28065-434a-458b-a98c-cd88f4ac0a6d",
   "metadata": {},
   "outputs": [],
   "source": []
  }
 ],
 "metadata": {
  "kernelspec": {
   "display_name": "Python 3",
   "language": "python",
   "name": "python3"
  },
  "language_info": {
   "codemirror_mode": {
    "name": "ipython",
    "version": 3
   },
   "file_extension": ".py",
   "mimetype": "text/x-python",
   "name": "python",
   "nbconvert_exporter": "python",
   "pygments_lexer": "ipython3",
   "version": "3.8.8"
  }
 },
 "nbformat": 4,
 "nbformat_minor": 5
}
