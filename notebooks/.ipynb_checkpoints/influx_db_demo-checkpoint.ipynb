{
 "cells": [
  {
   "cell_type": "markdown",
   "id": "7f13d364",
   "metadata": {},
   "source": [
    "![alt text](https://upload.wikimedia.org/wikipedia/commons/thumb/c/c6/Influxdb_logo.svg/2560px-Influxdb_logo.svg.png \"Influx\")"
   ]
  },
  {
   "cell_type": "markdown",
   "id": "13ce4f92",
   "metadata": {},
   "source": [
    "***"
   ]
  },
  {
   "cell_type": "markdown",
   "id": "ddc57ad3",
   "metadata": {},
   "source": [
    "**INFLUX DB = Open-Source Datenbank für Zeitreihen**\n",
    "\n",
    "Hilfreiche Ressourcen:\n",
    "\n",
    "[Dokumentation](https://docs.influxdata.com/influxdb/v2.0/)\n",
    "\n",
    "[Python Client Library](https://docs.influxdata.com/influxdb/v2.0/api-guide/client-libraries/python/)\n",
    "\n",
    "**Was ist das Spezielle an der Influx DB?**\n",
    "\n",
    "* Eigene Query Language, ähnlich zu SQL\n",
    "* Speichert die Einträge mit Zeitsstempeln\n",
    "* kann große Mengen an Daten verarbeiten\n",
    "* Besonders geeignet für z.B. Sensordaten\n",
    "* Das User Interface bietet umfangreiche Möglichkeiten zur Visualisierung der Datenreihen\n",
    "\n",
    "**Zu welcher Kategorie gehört die Datenbank?**\n",
    "\n",
    "Zeitreihe\n",
    "\n",
    "Datenpunkte bestehen aus Key-Value Paaren: field und timestamp\n",
    "Datenpunkte können mittels Tags zu einer Serie zusammengefasst werden\n",
    "\n",
    "**Lizenzen**\n",
    "\n",
    "* Open Source Version als Download\n",
    "* Kostenpflichtige Version gehostet auf AWS Cloud\n",
    "* Kostenpflichtige Enterprise Version mit Zusatzleistungen\n",
    "\n",
    "**Technische Eckdaten**\n",
    "\n",
    "* Port 8060 für Client/Server Kommunikation\n",
    "* Port 8088 für RPC Dienst (Datensicherung/Wiederherstellung)\n",
    "* Einsatz eines Zeitdienstes notwendig (z.B. NTP - Network Time Protocol)\n",
    "* Programmiert in Go\n",
    "* Werte: 64-bit Integers, Floats, Strings und Booleans\n"
   ]
  },
  {
   "cell_type": "markdown",
   "id": "81423db6",
   "metadata": {},
   "source": [
    "**INFLUX DB Structure:**"
   ]
  },
  {
   "cell_type": "code",
   "execution_count": 81,
   "id": "0f471380",
   "metadata": {},
   "outputs": [],
   "source": [
    "json_body = [\n",
    "    {\n",
    "        \"measurement\": \"your-measurement\",\n",
    "        \"tags\": {\n",
    "            \"tag1\": \"x\",\n",
    "            \"tag2\": \"y\"\n",
    "        },\n",
    "        \"time\": \"2009-11-10T23:00:00Z\",\n",
    "        \"fields\": {\n",
    "            \"value\": 0.64\n",
    "        }\n",
    "    }\n",
    "]"
   ]
  },
  {
   "cell_type": "markdown",
   "id": "eb986ba3",
   "metadata": {},
   "source": [
    "**INFLUX DB User Interface**"
   ]
  },
  {
   "cell_type": "markdown",
   "id": "6bc9382a",
   "metadata": {},
   "source": [
    "![alt text](https://www.influxdata.com/wp-content/uploads/Pre-canned-dashboards-influxdb.png \"Influx UI\")\n",
    "\n",
    "\n"
   ]
  },
  {
   "cell_type": "markdown",
   "id": "6961dc54",
   "metadata": {},
   "source": [
    "---"
   ]
  },
  {
   "cell_type": "markdown",
   "id": "e96278a6",
   "metadata": {},
   "source": [
    "## Installation"
   ]
  },
  {
   "cell_type": "markdown",
   "id": "d816c5e2",
   "metadata": {},
   "source": [
    "[Hier](https://docs.influxdata.com/influxdb/v2.0/install/) gibt es eine genaue Anleitung für die Datenbankinstallation für verschiedene Umgebungen.\n",
    "\n",
    "[Hier](https://github.com/simongavris/BIC-BB-5-InfluxDB-Demo/tree/master/notebooks) kannst du die InfluxDB unkompliziert über Docker installieren. Du findest hier auch dieses Notebook und eine Anleitung zur Installation mit Docker."
   ]
  },
  {
   "cell_type": "markdown",
   "id": "8cf0bb69",
   "metadata": {},
   "source": [
    "***"
   ]
  },
  {
   "cell_type": "markdown",
   "id": "b90ea227",
   "metadata": {},
   "source": [
    "## Quickstart Guide"
   ]
  },
  {
   "cell_type": "markdown",
   "id": "fef1fdc0",
   "metadata": {},
   "source": [
    "Für die Nutzung der Datenbank benötigen wir:\n",
    "\n",
    "* Token zur Authentifizierung -> [Anleitung zur Tokenerstellung](https://docs.influxdata.com/influxdb/cloud/security/tokens/create-token/)\n",
    "\n",
    "* Bucket als Speicherort unserer Daten -> [Anleitung zur Bucketerstellung](https://docs.influxdata.com/influxdb/cloud/organizations/buckets/create-bucket/) \n",
    "\n",
    "* Die Organisation, der der Bucket zugeordnet wird\n",
    "\n",
    "*Die Erstellung von Buckets, Tokens und mehr kann über das User Interface, die Influx Command Line oder die InfluxDB API gemacht werden. Zum Einstieg empfehlen wir das UI.*"
   ]
  },
  {
   "cell_type": "markdown",
   "id": "4ecc5ffc",
   "metadata": {},
   "source": [
    "***"
   ]
  },
  {
   "cell_type": "markdown",
   "id": "30de3c2a",
   "metadata": {},
   "source": [
    "## Nutzung von Influx DB mit Python"
   ]
  },
  {
   "cell_type": "markdown",
   "id": "0dae377a",
   "metadata": {},
   "source": [
    "#### Dependencies"
   ]
  },
  {
   "cell_type": "code",
   "execution_count": 82,
   "id": "266cebe0",
   "metadata": {},
   "outputs": [
    {
     "name": "stdout",
     "output_type": "stream",
     "text": [
      "Defaulting to user installation because normal site-packages is not writeable\n",
      "Requirement already satisfied: influxdb-client in /home/student/.local/lib/python3.8/site-packages (1.21.0)\n",
      "Requirement already satisfied: certifi>=14.05.14 in /opt/conda/lib/python3.8/site-packages (from influxdb-client) (2020.12.5)\n",
      "Requirement already satisfied: urllib3>=1.15.1 in /opt/conda/lib/python3.8/site-packages (from influxdb-client) (1.26.4)\n",
      "Requirement already satisfied: pytz>=2019.1 in /opt/conda/lib/python3.8/site-packages (from influxdb-client) (2021.1)\n",
      "Requirement already satisfied: six>=1.10 in /opt/conda/lib/python3.8/site-packages (from influxdb-client) (1.15.0)\n",
      "Requirement already satisfied: python-dateutil>=2.5.3 in /opt/conda/lib/python3.8/site-packages (from influxdb-client) (2.8.1)\n",
      "Requirement already satisfied: rx>=3.0.1 in /home/student/.local/lib/python3.8/site-packages (from influxdb-client) (3.2.0)\n",
      "Requirement already satisfied: setuptools>=21.0.0 in /opt/conda/lib/python3.8/site-packages (from influxdb-client) (52.0.0.post20210125)\n"
     ]
    }
   ],
   "source": [
    "# Install a pip package in the current Jupyter kernel\n",
    "import sys\n",
    "!{sys.executable} -m pip install influxdb-client"
   ]
  },
  {
   "cell_type": "markdown",
   "id": "7356a39d",
   "metadata": {},
   "source": [
    "#### Initialize the Influx client"
   ]
  },
  {
   "cell_type": "code",
   "execution_count": 83,
   "id": "5a46fd03",
   "metadata": {},
   "outputs": [],
   "source": [
    "from datetime import datetime\n",
    "from influxdb_client import InfluxDBClient, Point, WritePrecision\n",
    "from influxdb_client.client.write_api import SYNCHRONOUS\n",
    "\n",
    "# Siehe \"Quickstart Guide\"\n",
    "token = \"EKOBZJQJ7m-CTLai4-otjUADp-trYaBgEp5gq62KyHW8LXMSnGKZIVFIxLYG6czs_F2FjIMzdBQjDqHy23I-jQ==\"\n",
    "org = \"FHTW\"\n",
    "bucket = \"Data\"\n",
    "\n",
    "client = InfluxDBClient(url=\"http://influxdb:8086\", token=token)"
   ]
  },
  {
   "cell_type": "markdown",
   "id": "c2dda165",
   "metadata": {},
   "source": [
    "#### Get some data"
   ]
  },
  {
   "cell_type": "markdown",
   "id": "472724ff",
   "metadata": {},
   "source": [
    "As an example, we want to stream some weather data from the API [Openweathermap](https://api.openweathermap.org) into our database, so we make a request to that API to get the current temperature in Vienna."
   ]
  },
  {
   "cell_type": "code",
   "execution_count": 84,
   "id": "baad12b8",
   "metadata": {},
   "outputs": [],
   "source": [
    "import requests, json\n",
    "\n",
    "BASE_URL = \"https://api.openweathermap.org/data/2.5/weather?\"\n",
    "API_KEY = \"366c7011faf41711486e730d3a46e9c7\"\n",
    "\n",
    "def get_temp(city):\n",
    "    \n",
    "    URL = BASE_URL + \"q=\" + city + \"&appid=\" + API_KEY + \"&units=metric\"\n",
    "    # HTTP request\n",
    "    response = requests.get(URL)\n",
    "    # checking the status code of the request\n",
    "    if response.status_code == 200:\n",
    "        # getting data in the json format\n",
    "        data = response.json() \n",
    "        main = data[\"main\"] \n",
    "        # getting temperature\n",
    "        temperature = main['temp']\n",
    "    else:\n",
    "       # showing the error message\n",
    "       print(\"Error in the HTTP request\")\n",
    "    return temperature\n"
   ]
  },
  {
   "cell_type": "markdown",
   "id": "4ee52409",
   "metadata": {},
   "source": [
    "#### Write the data into the DB"
   ]
  },
  {
   "cell_type": "markdown",
   "id": "b8ab9f10",
   "metadata": {},
   "source": [
    "*Now we want to write the current temperature into our Influx database and create a time series to monitor the temperature changes.\n",
    "Here we show you 2 options: manual insert via line protocol and insert via a function*"
   ]
  },
  {
   "cell_type": "markdown",
   "id": "c1a0e39b-b103-417a-a54d-f54e9cdfb624",
   "metadata": {},
   "source": [
    "The **InfluxDB line protocol** is a text-based format for writing points to the database. \n",
    "\n",
    "Points must be in line protocol format for InfluxDB to successfully parse and write points.\n",
    "\n",
    "[Here](https://docs.influxdata.com/influxdb/v1.8/write_protocols/line_protocol_tutorial/) is more information about the line protocol and how to use it"
   ]
  },
  {
   "cell_type": "raw",
   "id": "ca940f14-1015-4798-8a10-149148c65fb3",
   "metadata": {},
   "source": [
    "Line protocol Syntax:\n",
    "\n",
    "weatherdata,location=austria temperature=23 1465839830100400200\n",
    "  |    -------------------- --------------  |\n",
    "  |             |             |             |\n",
    "  |             |             |             |\n",
    "+-----------+--------+-+---------+-+---------+\n",
    "|measurement|,tag_set| |field_set| |timestamp|\n",
    "+-----------+--------+-+---------+-+---------+"
   ]
  },
  {
   "cell_type": "markdown",
   "id": "7fcb4fef",
   "metadata": {},
   "source": [
    "***\n",
    "\n",
    "The InfluxDBClient object has a `write_api` method used for configuration:"
   ]
  },
  {
   "cell_type": "code",
   "execution_count": 85,
   "id": "980a4143",
   "metadata": {},
   "outputs": [],
   "source": [
    "write_api = client.write_api(write_options=SYNCHRONOUS)"
   ]
  },
  {
   "cell_type": "markdown",
   "id": "8d4712cf",
   "metadata": {},
   "source": [
    "***\n",
    "\n",
    "A `point` represents a single data record, similar to a row in a SQL database table. Each point:\n",
    "\n",
    "* has a measurement, a tag set, a field key, a field value, and a timestamp;\n",
    "* is uniquely identified by its series and timestamp.\n",
    "* In a series, each point has a unique timestamp. If you write a point to a series with a timestamp that matches an existing point, the field set becomes a union of the old and new field set, where any ties go to the new field set.\n",
    "\n",
    "***"
   ]
  },
  {
   "cell_type": "code",
   "execution_count": 86,
   "id": "17179a81-122e-47e5-9b8a-87ba2f400068",
   "metadata": {},
   "outputs": [],
   "source": [
    "#line protocol:\n",
    "\n",
    "point = \"weatherdata,country=Austria,city=Vienna temperature=23\"\n",
    "write_api.write(bucket=bucket, org=org, record=point)\n",
    "\n",
    "#todo: show chronograph"
   ]
  },
  {
   "cell_type": "code",
   "execution_count": 91,
   "id": "3a1b5798",
   "metadata": {},
   "outputs": [],
   "source": [
    "#function to stream values into the database using an easier-to-read style\n",
    "\n",
    "import time\n",
    "from random import randrange\n",
    "def stream(interval):\n",
    "    while True:\n",
    "        \n",
    "        #get temperature from the API (here we add some random values for the visualization)\n",
    "        temp_vienna = get_temp('Vienna') + randrange(-3,3)\n",
    "        temp_berlin = get_temp('Berlin') + randrange(-3,3)\n",
    "        \n",
    "        print(\"Vienna: \" + str(temp_vienna))\n",
    "        print(\"Berlin: \" + str(temp_berlin))\n",
    "\n",
    "        \n",
    "        #create new data point\n",
    "        point_vienna = Point(\"weatherdata\").tag('country','Austria').tag(\"city\", \"Vienna\").field(\"temperature\", temp_vienna).time(datetime.utcnow(), WritePrecision.S)\n",
    "        point_berlin = Point(\"weatherdata\").tag('country','Germany').tag(\"city\", \"Berlin\").field(\"temperature\", temp_berlin).time(datetime.utcnow(), WritePrecision.S)\n",
    "\n",
    "        #write datapoint into database\n",
    "        write_api.write(bucket=bucket, org=org, record=[point_vienna, point_berlin])\n",
    "        \n",
    "        print(temp_berlin)\n",
    "        #wait\n",
    "        time.sleep(interval)"
   ]
  },
  {
   "cell_type": "code",
   "execution_count": 92,
   "id": "2d28bb16",
   "metadata": {},
   "outputs": [
    {
     "name": "stdout",
     "output_type": "stream",
     "text": [
      "14.82\n",
      "13.82\n",
      "14.82\n"
     ]
    },
    {
     "ename": "KeyboardInterrupt",
     "evalue": "",
     "output_type": "error",
     "traceback": [
      "\u001b[0;31m---------------------------------------------------------------------------\u001b[0m",
      "\u001b[0;31mKeyboardInterrupt\u001b[0m                         Traceback (most recent call last)",
      "\u001b[0;32m<ipython-input-92-5db04bd5c764>\u001b[0m in \u001b[0;36m<module>\u001b[0;34m\u001b[0m\n\u001b[1;32m      1\u001b[0m \u001b[0;31m# Let's go! Write the temperature into the database every 3 seconds.\u001b[0m\u001b[0;34m\u001b[0m\u001b[0;34m\u001b[0m\u001b[0;34m\u001b[0m\u001b[0m\n\u001b[0;32m----> 2\u001b[0;31m \u001b[0mstream\u001b[0m\u001b[0;34m(\u001b[0m\u001b[0;36m3\u001b[0m\u001b[0;34m)\u001b[0m\u001b[0;34m\u001b[0m\u001b[0;34m\u001b[0m\u001b[0m\n\u001b[0m",
      "\u001b[0;32m<ipython-input-91-36eb63228dc1>\u001b[0m in \u001b[0;36mstream\u001b[0;34m(interval)\u001b[0m\n\u001b[1;32m     20\u001b[0m         \u001b[0mprint\u001b[0m\u001b[0;34m(\u001b[0m\u001b[0mtemp_berlin\u001b[0m\u001b[0;34m)\u001b[0m\u001b[0;34m\u001b[0m\u001b[0;34m\u001b[0m\u001b[0m\n\u001b[1;32m     21\u001b[0m         \u001b[0;31m#wait\u001b[0m\u001b[0;34m\u001b[0m\u001b[0;34m\u001b[0m\u001b[0;34m\u001b[0m\u001b[0m\n\u001b[0;32m---> 22\u001b[0;31m         \u001b[0mtime\u001b[0m\u001b[0;34m.\u001b[0m\u001b[0msleep\u001b[0m\u001b[0;34m(\u001b[0m\u001b[0minterval\u001b[0m\u001b[0;34m)\u001b[0m\u001b[0;34m\u001b[0m\u001b[0;34m\u001b[0m\u001b[0m\n\u001b[0m",
      "\u001b[0;31mKeyboardInterrupt\u001b[0m: "
     ]
    }
   ],
   "source": [
    "# Let's go! Write the temperature into the database every 3 seconds.\n",
    "stream(3)"
   ]
  },
  {
   "cell_type": "markdown",
   "id": "6ab23af3",
   "metadata": {},
   "source": [
    "#### Query our data"
   ]
  },
  {
   "cell_type": "code",
   "execution_count": null,
   "id": "1cb2fd39",
   "metadata": {},
   "outputs": [],
   "source": [
    "# 1. Instantiate the query client.\n",
    "query_api = client.query_api()\n",
    "\n",
    "# 2. Create a Flux query.\n",
    "query = 'from(bucket:\"Data\")\\\n",
    "|> range(start: -10h)\\\n",
    "|> filter(fn:(r) => r._measurement == \"weatherdata\")'\n",
    "\n",
    "# 3. Query the data\n",
    "result = query_api.query(org=org, query=query)\n",
    "\n",
    "# not much to do with it yet\n",
    "print(result)"
   ]
  },
  {
   "cell_type": "code",
   "execution_count": null,
   "id": "33533387",
   "metadata": {
    "scrolled": true
   },
   "outputs": [],
   "source": [
    "# 4. Put data into a matrix\n",
    "results = []\n",
    "for table in result:\n",
    "    for record in table.records:\n",
    "        results.append((record.get_time(), record.get_field(), record.get_value()))\n",
    "\n",
    "print(results)"
   ]
  },
  {
   "cell_type": "code",
   "execution_count": null,
   "id": "7ef632ca-3d99-453b-a3f6-f56f92e92932",
   "metadata": {},
   "outputs": [],
   "source": [
    "from pandas import *\n",
    "\n",
    "DataFrame(results)"
   ]
  },
  {
   "cell_type": "code",
   "execution_count": null,
   "id": "667f7e46-9b5a-49ad-8399-e1206deb104b",
   "metadata": {},
   "outputs": [],
   "source": [
    "import numpy as np\n",
    "\n",
    "print(np.matrix(results))"
   ]
  },
  {
   "cell_type": "markdown",
   "id": "46e1e3e7-645f-4c41-b8ec-da6a73fea7b7",
   "metadata": {},
   "source": [
    "### Easier solution: query data directly to a pandas dataframe"
   ]
  },
  {
   "cell_type": "code",
   "execution_count": null,
   "id": "7ed10323-7628-4a74-ac6f-dc5b6aea6bd5",
   "metadata": {},
   "outputs": [],
   "source": [
    "result_df = query_api.query_data_frame(org=org, query=query)\n",
    "result_df"
   ]
  },
  {
   "cell_type": "markdown",
   "id": "23469c85-32e4-47d3-81a1-45f55985f6df",
   "metadata": {},
   "source": [
    "#### Quick analysis: filter for vienna and plot"
   ]
  },
  {
   "cell_type": "code",
   "execution_count": null,
   "id": "620607eb-dd55-43d7-910d-fe8b138d96ff",
   "metadata": {},
   "outputs": [],
   "source": [
    "result_df[result_df.city == 'Vienna'].plot.line(y='_value', x='_time', label='Vienna')"
   ]
  },
  {
   "cell_type": "markdown",
   "id": "da079550-dd38-461d-bbd3-5c3811942c49",
   "metadata": {},
   "source": [
    "### Flux queries"
   ]
  },
  {
   "cell_type": "code",
   "execution_count": null,
   "id": "60cea3e2-3430-488b-babe-168fa2c2ec9f",
   "metadata": {},
   "outputs": [],
   "source": [
    "query = 'from(bucket:\"Data\")\\\n",
    "|> range(start: -30m)\\\n",
    "|> timedMovingAverage(every: 10s, period: 30s) \\\n",
    "|> filter(fn: (r) => r.city == \"Vienna\")'\n",
    "\n",
    "result_df_ma = query_api.query_data_frame(org=org, query=query)\n",
    "\n",
    "result_df_ma"
   ]
  },
  {
   "cell_type": "code",
   "execution_count": null,
   "id": "64f042b4-9629-4274-8fff-8b5ff1355043",
   "metadata": {},
   "outputs": [],
   "source": [
    "result_df_ma.plot.line(y='_value', x='_time', label='Vienna')"
   ]
  },
  {
   "cell_type": "markdown",
   "id": "2bd20a59",
   "metadata": {},
   "source": [
    "***"
   ]
  },
  {
   "cell_type": "markdown",
   "id": "ba87491c",
   "metadata": {},
   "source": [
    "## Wann ist ein Einsatz sinnvoll?"
   ]
  },
  {
   "cell_type": "markdown",
   "id": "81652f07",
   "metadata": {},
   "source": [
    "**Wenn Echtzeitverarbeitung von Daten notwendig ist**\n",
    "\n",
    "**Bei großen Datenmengen und hoher Geschwindigkeit**\n",
    "\n",
    "*Beispiele:*\n",
    "\n",
    "   * Monitoring von IoT / Sensoren\n",
    "   * DevOps Monitoring (Mikroservices, Container, Ressourcenverwaltung, Netzwerke,...)\n",
    "   * Echtzeit-Analysen (z.B. Onlinemarketing, Predicitive Maintenance,...)"
   ]
  },
  {
   "cell_type": "markdown",
   "id": "a2e0696e-1e82-47e1-b1b7-acc85ba65267",
   "metadata": {},
   "source": [
    "## InfluxDB: Tick Stack\n",
    "\n",
    "* **T**elegraf: Agent zum Sammeln, Verarbeiten, Zusammenführen und Schreiben von Metriken und schreiben in die InfluxDB\n",
    "* **I**nfluxDB: Zeitreihenbasierte Datenbank (NoSQL)\n",
    "* **C**hronograf: Grafische Benutzeroberfläche zur Datenbank\n",
    "* **K**apacitor: Echtzeitschnittstelle zur Datenbank \n",
    "\n",
    "![](https://www.influxdata.com/wp-content/uploads/Influx-1.0-Diagram.png)\n"
   ]
  },
  {
   "cell_type": "code",
   "execution_count": null,
   "id": "51f28065-434a-458b-a98c-cd88f4ac0a6d",
   "metadata": {},
   "outputs": [],
   "source": []
  }
 ],
 "metadata": {
  "kernelspec": {
   "display_name": "Python 3",
   "language": "python",
   "name": "python3"
  },
  "language_info": {
   "codemirror_mode": {
    "name": "ipython",
    "version": 3
   },
   "file_extension": ".py",
   "mimetype": "text/x-python",
   "name": "python",
   "nbconvert_exporter": "python",
   "pygments_lexer": "ipython3",
   "version": "3.8.8"
  }
 },
 "nbformat": 4,
 "nbformat_minor": 5
}
