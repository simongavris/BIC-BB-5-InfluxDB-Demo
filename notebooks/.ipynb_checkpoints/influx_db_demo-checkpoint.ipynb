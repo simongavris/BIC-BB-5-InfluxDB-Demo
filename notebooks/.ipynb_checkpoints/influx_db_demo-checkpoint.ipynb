{
 "cells": [
  {
   "cell_type": "markdown",
   "id": "7f13d364",
   "metadata": {},
   "source": [
    "![alt text](https://upload.wikimedia.org/wikipedia/commons/thumb/c/c6/Influxdb_logo.svg/2560px-Influxdb_logo.svg.png \"Influx\")"
   ]
  },
  {
   "cell_type": "markdown",
   "id": "a43069ec",
   "metadata": {},
   "source": [
    "### Angabe: \n",
    "* ~~Grundlagen zur DB, Links auf Homepage und diverse Ressourcen~~\n",
    "* ~~Es soll ein kurzer Einblick gegeben werden, was das Spezielle an der jeweiligen Datenbank ist~~\n",
    "* zu welcher Kategorie gehört die DB?\n",
    "* ~~technische Eckdaten~~\n",
    "* wann ist ein Einsatz sinnvoll?\n",
    "* ~~Eckpunkte der Installation(Installationsanleitung, auch Links auf Webressourcen erlaubt)~~\n",
    "\n",
    "Praktischer Teil:\n",
    "* Bringen Sie die Datenbank zum Laufen (zum Vorzeigen auch Docker etc. erlaubt)\n",
    "* Verbinden Sie die Datenbank mit Python, und zeigen Sie in einem vorbereiteten Jupyter-Notebook ein paar Schritte mit der Datenbank vor, sodass man einen Einblick in die Eigenheiten gewinnen kann.\n",
    "* Gehen Sie ein (sehr einfaches) Beispiel durch\n",
    "\n",
    "...\n",
    "zu beachtende Kriterien:\n",
    "* Alle Unterlagen, Informationen, Codestücke etc. werden in Form eines (einzelnen) Jupyter-Notebooks zusammengefasst.\n",
    "* Das Jupyter-Notebook soll als \"Einstieg\" in die Datenbank geeignet sein (Links, Ressourcen, Installationsanleitung, Codestücke, ...)\n",
    "* Geben Sie dieses Notebook in Moodle ab - es wird für alle anderen zur Verfügung gestellt.\n",
    "* Referate und Abgabe des Notebooks in 2 Wochen"
   ]
  },
  {
   "cell_type": "markdown",
   "id": "13ce4f92",
   "metadata": {},
   "source": [
    "***"
   ]
  },
  {
   "cell_type": "markdown",
   "id": "ddc57ad3",
   "metadata": {},
   "source": [
    "**INFLUX DB = Open-Source Datenbank für Zeitreihen**\n",
    "\n",
    "Hilfreiche Ressourcen:\n",
    "\n",
    "[Dokumentation](https://docs.influxdata.com/influxdb/v2.0/)\n",
    "\n",
    "[Python Client Library](https://docs.influxdata.com/influxdb/v2.0/api-guide/client-libraries/python/)\n",
    "\n",
    "**Was ist das Spezielle an der Influx DB?**\n",
    "\n",
    "* Eigene Query Language, ähnlich zu SQL\n",
    "* Speichert die Einträge mit Zeitsstempeln\n",
    "* kann große Mengen an Daten verarbeiten\n",
    "* Besonders geeignet für z.B. Sensordaten\n",
    "* Das User Interface bietet umfangreiche Möglichkeiten zur Visualisierung der Datenreihen\n",
    "\n",
    "**Zu welcher Kategorie gehört die Datenbank?**\n",
    "\n",
    "Zeitreihe\n",
    "Datenpunkte bestehen aus Key-Value Paaren: field und timestamp\n",
    "Datenpunkte können mittels Tags zu einer Serie zusammengefasst werden\n",
    "\n",
    "**Lizenzen**\n",
    "\n",
    "* Open Source Version als Download\n",
    "* Kostenpflichtige Version gehostet auf AWS Cloud\n",
    "* Kostenpflichtige Enterprise Version mit Zusatzleistungen\n",
    "\n",
    "**Technische Eckdaten**\n",
    "\n",
    "* Port 8060 für Client/Server Kommunikation\n",
    "* Port 8088 für RPC Dienst (Datensicherung/Wiederherstellung)\n",
    "* Einsatz eines Zeitdienstes notwendig (z.B. NTP - Network Time Protocol)\n",
    "* Programmiert in Go\n",
    "* Werte: 64-bit Integers, Floats, Strings und Booleans\n"
   ]
  },
  {
   "cell_type": "markdown",
   "id": "81423db6",
   "metadata": {},
   "source": [
    "**INFLUX DB Structure:**"
   ]
  },
  {
   "cell_type": "code",
   "execution_count": 1,
   "id": "0f471380",
   "metadata": {},
   "outputs": [],
   "source": [
    "json_body = [\n",
    "    {\n",
    "        \"measurement\": \"your-measurement\",\n",
    "        \"tags\": {\n",
    "            \"tag1\": \"x\",\n",
    "            \"tag2\": \"y\"\n",
    "        },\n",
    "        \"time\": \"2009-11-10T23:00:00Z\",\n",
    "        \"fields\": {\n",
    "            \"value\": 0.64\n",
    "        }\n",
    "    }\n",
    "]"
   ]
  },
  {
   "cell_type": "markdown",
   "id": "eb986ba3",
   "metadata": {},
   "source": [
    "**INFLUX DB User Interface**"
   ]
  },
  {
   "cell_type": "markdown",
   "id": "6bc9382a",
   "metadata": {},
   "source": [
    "![alt text](https://www.influxdata.com/wp-content/uploads/Pre-canned-dashboards-influxdb.png \"Influx UI\")\n",
    "\n",
    "\n"
   ]
  },
  {
   "cell_type": "markdown",
   "id": "6961dc54",
   "metadata": {},
   "source": [
    "---"
   ]
  },
  {
   "cell_type": "markdown",
   "id": "e96278a6",
   "metadata": {},
   "source": [
    "## Installation"
   ]
  },
  {
   "cell_type": "markdown",
   "id": "d816c5e2",
   "metadata": {},
   "source": [
    "[Hier](https://docs.influxdata.com/influxdb/v2.0/install/) gibt es eine genaue Anleitung für die Datenbankinstallation für verschiedene Umgebungen."
   ]
  },
  {
   "cell_type": "markdown",
   "id": "8cf0bb69",
   "metadata": {},
   "source": [
    "***"
   ]
  },
  {
   "cell_type": "markdown",
   "id": "b90ea227",
   "metadata": {},
   "source": [
    "## Quickstart Guide"
   ]
  },
  {
   "cell_type": "markdown",
   "id": "fef1fdc0",
   "metadata": {},
   "source": [
    "Für die Nutzung der Datenbank benötigen wir:\n",
    "\n",
    "* Token zur Authentifizierung -> [Anleitung zur Tokenerstellung](https://docs.influxdata.com/influxdb/cloud/security/tokens/create-token/)\n",
    "\n",
    "* Bucket als Speicherort unserer Daten -> [Anleitung zur Bucketerstellung](https://docs.influxdata.com/influxdb/cloud/organizations/buckets/create-bucket/) \n",
    "\n",
    "* Die Organisation, der der Bucket zugeordnet wird\n",
    "\n",
    "*Die Erstellung von Buckets, Tokens und mehr kann über das User Interface, die Influx Command Line oder die InfluxDB API gemacht werden. Zum Einstieg empfehlen wir das UI.*"
   ]
  },
  {
   "cell_type": "markdown",
   "id": "4ecc5ffc",
   "metadata": {},
   "source": [
    "***"
   ]
  },
  {
   "cell_type": "markdown",
   "id": "30de3c2a",
   "metadata": {},
   "source": [
    "## Nutzung von Influx DB mit Python"
   ]
  },
  {
   "cell_type": "markdown",
   "id": "0dae377a",
   "metadata": {},
   "source": [
    "#### Dependencies"
   ]
  },
  {
   "cell_type": "code",
   "execution_count": 1,
   "id": "266cebe0",
   "metadata": {},
   "outputs": [
    {
     "name": "stdout",
     "output_type": "stream",
     "text": [
      "Defaulting to user installation because normal site-packages is not writeable\n",
      "Collecting influxdb-client\n",
      "  Downloading influxdb_client-1.21.0-py3-none-any.whl (505 kB)\n",
      "\u001b[K     |████████████████████████████████| 505 kB 1.8 MB/s eta 0:00:01\n",
      "\u001b[?25hRequirement already satisfied: setuptools>=21.0.0 in /opt/conda/lib/python3.8/site-packages (from influxdb-client) (52.0.0.post20210125)\n",
      "Requirement already satisfied: six>=1.10 in /opt/conda/lib/python3.8/site-packages (from influxdb-client) (1.15.0)\n",
      "Requirement already satisfied: certifi>=14.05.14 in /opt/conda/lib/python3.8/site-packages (from influxdb-client) (2020.12.5)\n",
      "Requirement already satisfied: pytz>=2019.1 in /opt/conda/lib/python3.8/site-packages (from influxdb-client) (2021.1)\n",
      "Requirement already satisfied: python-dateutil>=2.5.3 in /opt/conda/lib/python3.8/site-packages (from influxdb-client) (2.8.1)\n",
      "Collecting rx>=3.0.1\n",
      "  Downloading Rx-3.2.0-py3-none-any.whl (199 kB)\n",
      "\u001b[K     |████████████████████████████████| 199 kB 7.2 MB/s eta 0:00:01\n",
      "\u001b[?25hRequirement already satisfied: urllib3>=1.15.1 in /opt/conda/lib/python3.8/site-packages (from influxdb-client) (1.26.4)\n",
      "Installing collected packages: rx, influxdb-client\n",
      "Successfully installed influxdb-client-1.21.0 rx-3.2.0\n"
     ]
    }
   ],
   "source": [
    "# Install a pip package in the current Jupyter kernel\n",
    "import sys\n",
    "!{sys.executable} -m pip install influxdb-client"
   ]
  },
  {
   "cell_type": "markdown",
   "id": "7356a39d",
   "metadata": {},
   "source": [
    "#### Initialize the Influx client"
   ]
  },
  {
   "cell_type": "code",
   "execution_count": 1,
   "id": "5a46fd03",
   "metadata": {},
   "outputs": [],
   "source": [
    "from datetime import datetime\n",
    "from influxdb_client import InfluxDBClient, Point, WritePrecision\n",
    "from influxdb_client.client.write_api import SYNCHRONOUS\n",
    "\n",
    "# Siehe \"Quickstart Guide\"\n",
    "token = \"EKOBZJQJ7m-CTLai4-otjUADp-trYaBgEp5gq62KyHW8LXMSnGKZIVFIxLYG6czs_F2FjIMzdBQjDqHy23I-jQ==\"\n",
    "org = \"FHTW\"\n",
    "bucket = \"Data\"\n",
    "\n",
    "client = InfluxDBClient(url=\"http://influxdb:8086\", token=token)"
   ]
  },
  {
   "cell_type": "markdown",
   "id": "c2dda165",
   "metadata": {},
   "source": [
    "#### Get some data"
   ]
  },
  {
   "cell_type": "markdown",
   "id": "472724ff",
   "metadata": {},
   "source": [
    "As an example, we want to stream some weather data from the API [Openweathermap](https://api.openweathermap.org) into our database, so we make a request to that API to get the current temperature in Vienna."
   ]
  },
  {
   "cell_type": "code",
   "execution_count": 2,
   "id": "baad12b8",
   "metadata": {},
   "outputs": [],
   "source": [
    "import requests, json\n",
    "\n",
    "BASE_URL = \"https://api.openweathermap.org/data/2.5/weather?\"\n",
    "CITY = \"Vienna\"\n",
    "API_KEY = \"366c7011faf41711486e730d3a46e9c7\"\n",
    "URL = BASE_URL + \"q=\" + CITY + \"&appid=\" + API_KEY + \"&units=metric\"\n",
    "\n",
    "def get_temp():\n",
    "    # HTTP request\n",
    "    response = requests.get(URL)\n",
    "    # checking the status code of the request\n",
    "    if response.status_code == 200:\n",
    "        # getting data in the json format\n",
    "        data = response.json() \n",
    "        main = data[\"main\"] \n",
    "        # getting temperature\n",
    "        temperature = main['temp']\n",
    "    else:\n",
    "       # showing the error message\n",
    "       print(\"Error in the HTTP request\")\n",
    "    return temperature\n"
   ]
  },
  {
   "cell_type": "markdown",
   "id": "4ee52409",
   "metadata": {},
   "source": [
    "#### Write the data into the DB"
   ]
  },
  {
   "cell_type": "markdown",
   "id": "7fcb4fef",
   "metadata": {},
   "source": [
    "The InfluxDBClient object has a `write_api` method used for configuration:"
   ]
  },
  {
   "cell_type": "code",
   "execution_count": 3,
   "id": "980a4143",
   "metadata": {},
   "outputs": [],
   "source": [
    "write_api = client.write_api(write_options=SYNCHRONOUS)"
   ]
  },
  {
   "cell_type": "markdown",
   "id": "8d4712cf",
   "metadata": {},
   "source": [
    "A `point` represents a single data record, similar to a row in a SQL database table. Each point:\n",
    "\n",
    "* has a measurement, a tag set, a field key, a field value, and a timestamp;\n",
    "* is uniquely identified by its series and timestamp.\n",
    "* In a series, each point has a unique timestamp. If you write a point to a series with a timestamp that matches an existing point, the field set becomes a union of the old and new field set, where any ties go to the new field set."
   ]
  },
  {
   "cell_type": "markdown",
   "id": "b8ab9f10",
   "metadata": {},
   "source": [
    "Now we want to write the current temperature into our Influx database and create a time series to monitor the temperature changes:"
   ]
  },
  {
   "cell_type": "code",
   "execution_count": 4,
   "id": "3a1b5798",
   "metadata": {},
   "outputs": [],
   "source": [
    "import time\n",
    "def stream(interval):\n",
    "    while True:\n",
    "        \n",
    "        #get temperature from the API\n",
    "        temperature = get_temp()\n",
    "        \n",
    "        #create new data point\n",
    "        point = Point(\"weatherdata\").tag(\"location\", \"Vienna\").field(\"temperature\", temperature).time(datetime.utcnow(), WritePrecision.S)\n",
    "       \n",
    "        #write datapoint into database\n",
    "        write_api.write(bucket=bucket, org=org, record=point)\n",
    "        \n",
    "        #wait\n",
    "        time.sleep(interval)"
   ]
  },
  {
   "cell_type": "code",
   "execution_count": 5,
   "id": "2d28bb16",
   "metadata": {},
   "outputs": [
    {
     "ename": "KeyboardInterrupt",
     "evalue": "",
     "output_type": "error",
     "traceback": [
      "\u001b[0;31m---------------------------------------------------------------------------\u001b[0m",
      "\u001b[0;31mKeyboardInterrupt\u001b[0m                         Traceback (most recent call last)",
      "\u001b[0;32m<ipython-input-5-5db04bd5c764>\u001b[0m in \u001b[0;36m<module>\u001b[0;34m\u001b[0m\n\u001b[1;32m      1\u001b[0m \u001b[0;31m# Let's go! Write the temperature into the database every 3 seconds.\u001b[0m\u001b[0;34m\u001b[0m\u001b[0;34m\u001b[0m\u001b[0;34m\u001b[0m\u001b[0m\n\u001b[0;32m----> 2\u001b[0;31m \u001b[0mstream\u001b[0m\u001b[0;34m(\u001b[0m\u001b[0;36m3\u001b[0m\u001b[0;34m)\u001b[0m\u001b[0;34m\u001b[0m\u001b[0;34m\u001b[0m\u001b[0m\n\u001b[0m",
      "\u001b[0;32m<ipython-input-4-c93d59133d28>\u001b[0m in \u001b[0;36mstream\u001b[0;34m(interval)\u001b[0m\n\u001b[1;32m     13\u001b[0m \u001b[0;34m\u001b[0m\u001b[0m\n\u001b[1;32m     14\u001b[0m         \u001b[0;31m#wait\u001b[0m\u001b[0;34m\u001b[0m\u001b[0;34m\u001b[0m\u001b[0;34m\u001b[0m\u001b[0m\n\u001b[0;32m---> 15\u001b[0;31m         \u001b[0mtime\u001b[0m\u001b[0;34m.\u001b[0m\u001b[0msleep\u001b[0m\u001b[0;34m(\u001b[0m\u001b[0minterval\u001b[0m\u001b[0;34m)\u001b[0m\u001b[0;34m\u001b[0m\u001b[0;34m\u001b[0m\u001b[0m\n\u001b[0m",
      "\u001b[0;31mKeyboardInterrupt\u001b[0m: "
     ]
    }
   ],
   "source": [
    "# Let's go! Write the temperature into the database every 3 seconds.\n",
    "stream(3)"
   ]
  },
  {
   "cell_type": "markdown",
   "id": "9d91c5c6",
   "metadata": {},
   "source": [
    "#TODO Real Time visualization"
   ]
  },
  {
   "cell_type": "markdown",
   "id": "6ab23af3",
   "metadata": {},
   "source": [
    "#### Query our data"
   ]
  },
  {
   "cell_type": "code",
   "execution_count": 9,
   "id": "1cb2fd39",
   "metadata": {},
   "outputs": [],
   "source": [
    "# 1.Instantiate the query client.\n",
    "query_api = client.query_api()\n",
    "\n",
    "# 2.Create a Flux query.\n",
    "query = 'from(bucket:\"Data\")\\\n",
    "|> range(start: -10h)\\\n",
    "|> filter(fn:(r) => r._measurement == \"weatherdata\")\\\n",
    "|> filter(fn: (r) => r.location == \"Vienna\")\\\n",
    "|> filter(fn:(r) => r._field == \"temperature\" )'\n",
    "\n",
    "query = \"select * from weatherdata\""
   ]
  },
  {
   "cell_type": "code",
   "execution_count": 10,
   "id": "33533387",
   "metadata": {
    "scrolled": true
   },
   "outputs": [
    {
     "ename": "ApiException",
     "evalue": "(400)\nReason: Bad Request\nHTTP response headers: HTTPHeaderDict({'Content-Type': 'application/json; charset=utf-8', 'Vary': 'Accept-Encoding', 'X-Platform-Error-Code': 'invalid', 'Date': 'Mon, 20 Sep 2021 19:29:42 GMT', 'Transfer-Encoding': 'chunked'})\nHTTP response body: b'{\"code\":\"invalid\",\"message\":\"error @1:1-1:7: undefined identifier select\"}'\n",
     "output_type": "error",
     "traceback": [
      "\u001b[0;31m---------------------------------------------------------------------------\u001b[0m",
      "\u001b[0;31mApiException\u001b[0m                              Traceback (most recent call last)",
      "\u001b[0;32m<ipython-input-10-16f001a287e8>\u001b[0m in \u001b[0;36m<module>\u001b[0;34m\u001b[0m\n\u001b[0;32m----> 1\u001b[0;31m \u001b[0mresult\u001b[0m \u001b[0;34m=\u001b[0m \u001b[0mquery_api\u001b[0m\u001b[0;34m.\u001b[0m\u001b[0mquery\u001b[0m\u001b[0;34m(\u001b[0m\u001b[0morg\u001b[0m\u001b[0;34m=\u001b[0m\u001b[0morg\u001b[0m\u001b[0;34m,\u001b[0m \u001b[0mquery\u001b[0m\u001b[0;34m=\u001b[0m\u001b[0mquery\u001b[0m\u001b[0;34m)\u001b[0m\u001b[0;34m\u001b[0m\u001b[0;34m\u001b[0m\u001b[0m\n\u001b[0m\u001b[1;32m      2\u001b[0m \u001b[0mresults\u001b[0m \u001b[0;34m=\u001b[0m \u001b[0;34m[\u001b[0m\u001b[0;34m]\u001b[0m\u001b[0;34m\u001b[0m\u001b[0;34m\u001b[0m\u001b[0m\n\u001b[1;32m      3\u001b[0m \u001b[0;32mfor\u001b[0m \u001b[0mtable\u001b[0m \u001b[0;32min\u001b[0m \u001b[0mresult\u001b[0m\u001b[0;34m:\u001b[0m\u001b[0;34m\u001b[0m\u001b[0;34m\u001b[0m\u001b[0m\n\u001b[1;32m      4\u001b[0m     \u001b[0;32mfor\u001b[0m \u001b[0mrecord\u001b[0m \u001b[0;32min\u001b[0m \u001b[0mtable\u001b[0m\u001b[0;34m.\u001b[0m\u001b[0mrecords\u001b[0m\u001b[0;34m:\u001b[0m\u001b[0;34m\u001b[0m\u001b[0;34m\u001b[0m\u001b[0m\n\u001b[1;32m      5\u001b[0m         \u001b[0mresults\u001b[0m\u001b[0;34m.\u001b[0m\u001b[0mappend\u001b[0m\u001b[0;34m(\u001b[0m\u001b[0;34m(\u001b[0m\u001b[0mrecord\u001b[0m\u001b[0;34m.\u001b[0m\u001b[0mget_time\u001b[0m\u001b[0;34m(\u001b[0m\u001b[0;34m)\u001b[0m\u001b[0;34m,\u001b[0m \u001b[0mrecord\u001b[0m\u001b[0;34m.\u001b[0m\u001b[0mget_field\u001b[0m\u001b[0;34m(\u001b[0m\u001b[0;34m)\u001b[0m\u001b[0;34m,\u001b[0m \u001b[0mrecord\u001b[0m\u001b[0;34m.\u001b[0m\u001b[0mget_value\u001b[0m\u001b[0;34m(\u001b[0m\u001b[0;34m)\u001b[0m\u001b[0;34m)\u001b[0m\u001b[0;34m)\u001b[0m\u001b[0;34m\u001b[0m\u001b[0;34m\u001b[0m\u001b[0m\n",
      "\u001b[0;32m~/.local/lib/python3.8/site-packages/influxdb_client/client/query_api.py\u001b[0m in \u001b[0;36mquery\u001b[0;34m(self, query, org, params)\u001b[0m\n\u001b[1;32m     98\u001b[0m         \u001b[0morg\u001b[0m \u001b[0;34m=\u001b[0m \u001b[0mself\u001b[0m\u001b[0;34m.\u001b[0m\u001b[0m_org_param\u001b[0m\u001b[0;34m(\u001b[0m\u001b[0morg\u001b[0m\u001b[0;34m)\u001b[0m\u001b[0;34m\u001b[0m\u001b[0;34m\u001b[0m\u001b[0m\n\u001b[1;32m     99\u001b[0m \u001b[0;34m\u001b[0m\u001b[0m\n\u001b[0;32m--> 100\u001b[0;31m         response = self._query_api.post_query(org=org, query=self._create_query(query, self.default_dialect, params),\n\u001b[0m\u001b[1;32m    101\u001b[0m                                               async_req=False, _preload_content=False, _return_http_data_only=False)\n\u001b[1;32m    102\u001b[0m \u001b[0;34m\u001b[0m\u001b[0m\n",
      "\u001b[0;32m~/.local/lib/python3.8/site-packages/influxdb_client/service/query_service.py\u001b[0m in \u001b[0;36mpost_query\u001b[0;34m(self, **kwargs)\u001b[0m\n\u001b[1;32m    258\u001b[0m             \u001b[0;32mreturn\u001b[0m \u001b[0mself\u001b[0m\u001b[0;34m.\u001b[0m\u001b[0mpost_query_with_http_info\u001b[0m\u001b[0;34m(\u001b[0m\u001b[0;34m**\u001b[0m\u001b[0mkwargs\u001b[0m\u001b[0;34m)\u001b[0m  \u001b[0;31m# noqa: E501\u001b[0m\u001b[0;34m\u001b[0m\u001b[0;34m\u001b[0m\u001b[0m\n\u001b[1;32m    259\u001b[0m         \u001b[0;32melse\u001b[0m\u001b[0;34m:\u001b[0m\u001b[0;34m\u001b[0m\u001b[0;34m\u001b[0m\u001b[0m\n\u001b[0;32m--> 260\u001b[0;31m             \u001b[0;34m(\u001b[0m\u001b[0mdata\u001b[0m\u001b[0;34m)\u001b[0m \u001b[0;34m=\u001b[0m \u001b[0mself\u001b[0m\u001b[0;34m.\u001b[0m\u001b[0mpost_query_with_http_info\u001b[0m\u001b[0;34m(\u001b[0m\u001b[0;34m**\u001b[0m\u001b[0mkwargs\u001b[0m\u001b[0;34m)\u001b[0m  \u001b[0;31m# noqa: E501\u001b[0m\u001b[0;34m\u001b[0m\u001b[0;34m\u001b[0m\u001b[0m\n\u001b[0m\u001b[1;32m    261\u001b[0m             \u001b[0;32mreturn\u001b[0m \u001b[0mdata\u001b[0m\u001b[0;34m\u001b[0m\u001b[0;34m\u001b[0m\u001b[0m\n\u001b[1;32m    262\u001b[0m \u001b[0;34m\u001b[0m\u001b[0m\n",
      "\u001b[0;32m~/.local/lib/python3.8/site-packages/influxdb_client/service/query_service.py\u001b[0m in \u001b[0;36mpost_query_with_http_info\u001b[0;34m(self, **kwargs)\u001b[0m\n\u001b[1;32m    338\u001b[0m             \u001b[0murlopen_kw\u001b[0m \u001b[0;34m=\u001b[0m \u001b[0mkwargs\u001b[0m\u001b[0;34m[\u001b[0m\u001b[0;34m'urlopen_kw'\u001b[0m\u001b[0;34m]\u001b[0m\u001b[0;34m\u001b[0m\u001b[0;34m\u001b[0m\u001b[0m\n\u001b[1;32m    339\u001b[0m \u001b[0;34m\u001b[0m\u001b[0m\n\u001b[0;32m--> 340\u001b[0;31m         return self.api_client.call_api(\n\u001b[0m\u001b[1;32m    341\u001b[0m             \u001b[0;34m'/api/v2/query'\u001b[0m\u001b[0;34m,\u001b[0m \u001b[0;34m'POST'\u001b[0m\u001b[0;34m,\u001b[0m\u001b[0;34m\u001b[0m\u001b[0;34m\u001b[0m\u001b[0m\n\u001b[1;32m    342\u001b[0m             \u001b[0mpath_params\u001b[0m\u001b[0;34m,\u001b[0m\u001b[0;34m\u001b[0m\u001b[0;34m\u001b[0m\u001b[0m\n",
      "\u001b[0;32m~/.local/lib/python3.8/site-packages/influxdb_client/api_client.py\u001b[0m in \u001b[0;36mcall_api\u001b[0;34m(self, resource_path, method, path_params, query_params, header_params, body, post_params, files, response_type, auth_settings, async_req, _return_http_data_only, collection_formats, _preload_content, _request_timeout, urlopen_kw)\u001b[0m\n\u001b[1;32m    339\u001b[0m         \"\"\"\n\u001b[1;32m    340\u001b[0m         \u001b[0;32mif\u001b[0m \u001b[0;32mnot\u001b[0m \u001b[0masync_req\u001b[0m\u001b[0;34m:\u001b[0m\u001b[0;34m\u001b[0m\u001b[0;34m\u001b[0m\u001b[0m\n\u001b[0;32m--> 341\u001b[0;31m             return self.__call_api(resource_path, method,\n\u001b[0m\u001b[1;32m    342\u001b[0m                                    \u001b[0mpath_params\u001b[0m\u001b[0;34m,\u001b[0m \u001b[0mquery_params\u001b[0m\u001b[0;34m,\u001b[0m \u001b[0mheader_params\u001b[0m\u001b[0;34m,\u001b[0m\u001b[0;34m\u001b[0m\u001b[0;34m\u001b[0m\u001b[0m\n\u001b[1;32m    343\u001b[0m                                    \u001b[0mbody\u001b[0m\u001b[0;34m,\u001b[0m \u001b[0mpost_params\u001b[0m\u001b[0;34m,\u001b[0m \u001b[0mfiles\u001b[0m\u001b[0;34m,\u001b[0m\u001b[0;34m\u001b[0m\u001b[0;34m\u001b[0m\u001b[0m\n",
      "\u001b[0;32m~/.local/lib/python3.8/site-packages/influxdb_client/api_client.py\u001b[0m in \u001b[0;36m__call_api\u001b[0;34m(self, resource_path, method, path_params, query_params, header_params, body, post_params, files, response_type, auth_settings, _return_http_data_only, collection_formats, _preload_content, _request_timeout, urlopen_kw)\u001b[0m\n\u001b[1;32m    169\u001b[0m \u001b[0;34m\u001b[0m\u001b[0m\n\u001b[1;32m    170\u001b[0m         \u001b[0;31m# perform request and return response\u001b[0m\u001b[0;34m\u001b[0m\u001b[0;34m\u001b[0m\u001b[0;34m\u001b[0m\u001b[0m\n\u001b[0;32m--> 171\u001b[0;31m         response_data = self.request(\n\u001b[0m\u001b[1;32m    172\u001b[0m             \u001b[0mmethod\u001b[0m\u001b[0;34m,\u001b[0m \u001b[0murl\u001b[0m\u001b[0;34m,\u001b[0m \u001b[0mquery_params\u001b[0m\u001b[0;34m=\u001b[0m\u001b[0mquery_params\u001b[0m\u001b[0;34m,\u001b[0m \u001b[0mheaders\u001b[0m\u001b[0;34m=\u001b[0m\u001b[0mheader_params\u001b[0m\u001b[0;34m,\u001b[0m\u001b[0;34m\u001b[0m\u001b[0;34m\u001b[0m\u001b[0m\n\u001b[1;32m    173\u001b[0m             \u001b[0mpost_params\u001b[0m\u001b[0;34m=\u001b[0m\u001b[0mpost_params\u001b[0m\u001b[0;34m,\u001b[0m \u001b[0mbody\u001b[0m\u001b[0;34m=\u001b[0m\u001b[0mbody\u001b[0m\u001b[0;34m,\u001b[0m\u001b[0;34m\u001b[0m\u001b[0;34m\u001b[0m\u001b[0m\n",
      "\u001b[0;32m~/.local/lib/python3.8/site-packages/influxdb_client/api_client.py\u001b[0m in \u001b[0;36mrequest\u001b[0;34m(self, method, url, query_params, headers, post_params, body, _preload_content, _request_timeout, **urlopen_kw)\u001b[0m\n\u001b[1;32m    384\u001b[0m                                             **urlopen_kw)\n\u001b[1;32m    385\u001b[0m         \u001b[0;32melif\u001b[0m \u001b[0mmethod\u001b[0m \u001b[0;34m==\u001b[0m \u001b[0;34m\"POST\"\u001b[0m\u001b[0;34m:\u001b[0m\u001b[0;34m\u001b[0m\u001b[0;34m\u001b[0m\u001b[0m\n\u001b[0;32m--> 386\u001b[0;31m             return self.rest_client.POST(url,\n\u001b[0m\u001b[1;32m    387\u001b[0m                                          \u001b[0mquery_params\u001b[0m\u001b[0;34m=\u001b[0m\u001b[0mquery_params\u001b[0m\u001b[0;34m,\u001b[0m\u001b[0;34m\u001b[0m\u001b[0;34m\u001b[0m\u001b[0m\n\u001b[1;32m    388\u001b[0m                                          \u001b[0mheaders\u001b[0m\u001b[0;34m=\u001b[0m\u001b[0mheaders\u001b[0m\u001b[0;34m,\u001b[0m\u001b[0;34m\u001b[0m\u001b[0;34m\u001b[0m\u001b[0m\n",
      "\u001b[0;32m~/.local/lib/python3.8/site-packages/influxdb_client/rest.py\u001b[0m in \u001b[0;36mPOST\u001b[0;34m(self, url, headers, query_params, post_params, body, _preload_content, _request_timeout, **urlopen_kw)\u001b[0m\n\u001b[1;32m    300\u001b[0m              body=None, _preload_content=True, _request_timeout=None, **urlopen_kw):\n\u001b[1;32m    301\u001b[0m         \u001b[0;34m\"\"\"Perform POST HTTP request.\"\"\"\u001b[0m\u001b[0;34m\u001b[0m\u001b[0;34m\u001b[0m\u001b[0m\n\u001b[0;32m--> 302\u001b[0;31m         return self.request(\"POST\", url,\n\u001b[0m\u001b[1;32m    303\u001b[0m                             \u001b[0mheaders\u001b[0m\u001b[0;34m=\u001b[0m\u001b[0mheaders\u001b[0m\u001b[0;34m,\u001b[0m\u001b[0;34m\u001b[0m\u001b[0;34m\u001b[0m\u001b[0m\n\u001b[1;32m    304\u001b[0m                             \u001b[0mquery_params\u001b[0m\u001b[0;34m=\u001b[0m\u001b[0mquery_params\u001b[0m\u001b[0;34m,\u001b[0m\u001b[0;34m\u001b[0m\u001b[0;34m\u001b[0m\u001b[0m\n",
      "\u001b[0;32m~/.local/lib/python3.8/site-packages/influxdb_client/rest.py\u001b[0m in \u001b[0;36mrequest\u001b[0;34m(self, method, url, query_params, headers, body, post_params, _preload_content, _request_timeout, **urlopen_kw)\u001b[0m\n\u001b[1;32m    250\u001b[0m \u001b[0;34m\u001b[0m\u001b[0m\n\u001b[1;32m    251\u001b[0m         \u001b[0;32mif\u001b[0m \u001b[0;32mnot\u001b[0m \u001b[0;36m200\u001b[0m \u001b[0;34m<=\u001b[0m \u001b[0mr\u001b[0m\u001b[0;34m.\u001b[0m\u001b[0mstatus\u001b[0m \u001b[0;34m<=\u001b[0m \u001b[0;36m299\u001b[0m\u001b[0;34m:\u001b[0m\u001b[0;34m\u001b[0m\u001b[0;34m\u001b[0m\u001b[0m\n\u001b[0;32m--> 252\u001b[0;31m             \u001b[0;32mraise\u001b[0m \u001b[0mApiException\u001b[0m\u001b[0;34m(\u001b[0m\u001b[0mhttp_resp\u001b[0m\u001b[0;34m=\u001b[0m\u001b[0mr\u001b[0m\u001b[0;34m)\u001b[0m\u001b[0;34m\u001b[0m\u001b[0;34m\u001b[0m\u001b[0m\n\u001b[0m\u001b[1;32m    253\u001b[0m \u001b[0;34m\u001b[0m\u001b[0m\n\u001b[1;32m    254\u001b[0m         \u001b[0;32mreturn\u001b[0m \u001b[0mr\u001b[0m\u001b[0;34m\u001b[0m\u001b[0;34m\u001b[0m\u001b[0m\n",
      "\u001b[0;31mApiException\u001b[0m: (400)\nReason: Bad Request\nHTTP response headers: HTTPHeaderDict({'Content-Type': 'application/json; charset=utf-8', 'Vary': 'Accept-Encoding', 'X-Platform-Error-Code': 'invalid', 'Date': 'Mon, 20 Sep 2021 19:29:42 GMT', 'Transfer-Encoding': 'chunked'})\nHTTP response body: b'{\"code\":\"invalid\",\"message\":\"error @1:1-1:7: undefined identifier select\"}'\n"
     ]
    }
   ],
   "source": [
    "result = query_api.query(org=org, query=query)\n",
    "results = []\n",
    "for table in result:\n",
    "    for record in table.records:\n",
    "        results.append((record.get_time(), record.get_field(), record.get_value()))\n",
    "\n",
    "print(results)"
   ]
  },
  {
   "cell_type": "markdown",
   "id": "2bd20a59",
   "metadata": {},
   "source": [
    "***"
   ]
  },
  {
   "cell_type": "markdown",
   "id": "ba87491c",
   "metadata": {},
   "source": [
    "## Wann ist ein Einsatz sinnvoll?"
   ]
  },
  {
   "cell_type": "markdown",
   "id": "81652f07",
   "metadata": {},
   "source": [
    "**Wenn Echtzeitverarbeitung von Daten notwendig ist**\n",
    "\n",
    "**Bei großen Datenmengen und hoher Geschwindigkeit**\n",
    "\n",
    "*Beispiele:*\n",
    "\n",
    "   * Monitoring von IoT / Sensoren\n",
    "   * DevOps Monitoring (Mikroservices, Container, Ressourcenverwaltung, Netzwerke,...)\n",
    "   * Echtzeit-Analysen (z.B. Onlinemarketing, Predicitive Maintenance,...)"
   ]
  }
 ],
 "metadata": {
  "kernelspec": {
   "display_name": "Python 3",
   "language": "python",
   "name": "python3"
  },
  "language_info": {
   "codemirror_mode": {
    "name": "ipython",
    "version": 3
   },
   "file_extension": ".py",
   "mimetype": "text/x-python",
   "name": "python",
   "nbconvert_exporter": "python",
   "pygments_lexer": "ipython3",
   "version": "3.8.8"
  }
 },
 "nbformat": 4,
 "nbformat_minor": 5
}
